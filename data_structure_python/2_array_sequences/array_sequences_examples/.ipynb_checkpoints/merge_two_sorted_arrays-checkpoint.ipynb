{
 "cells": [
  {
   "cell_type": "markdown",
   "metadata": {},
   "source": [
    "# Merge Two Sorted Arrays\n",
    "\n",
    "## Problem\n",
    "\n",
    "Merge two sorted arrays into one sorrted array.\n"
   ]
  },
  {
   "cell_type": "markdown",
   "metadata": {},
   "source": [
    "## Solution"
   ]
  },
  {
   "cell_type": "code",
   "execution_count": 1,
   "metadata": {},
   "outputs": [],
   "source": [
    "def merge_arry(l1, l2):\n",
    "    i = 0\n",
    "    j = 0\n",
    "    l = []\n",
    "\n",
    "    while i<len(l1) and j<len(l2):\n",
    "        if l1[i]>l2[j]:\n",
    "            l.append(l2[j])\n",
    "            j += 1\n",
    "        else:\n",
    "            l.append(l1[i])\n",
    "            i += 1\n",
    "\n",
    "    while i<len(l1):\n",
    "        l.append(l1[i])\n",
    "        i += 1\n",
    "\n",
    "    while j<len(l2):\n",
    "        l.append(l2[j])\n",
    "        j += 1\n",
    "\n",
    "    return l"
   ]
  },
  {
   "cell_type": "markdown",
   "metadata": {},
   "source": [
    "# Test Cases"
   ]
  },
  {
   "cell_type": "code",
   "execution_count": 2,
   "metadata": {},
   "outputs": [
    {
     "data": {
      "text/plain": [
       "[1, 2, 3, 7, 7, 8, 10, 11]"
      ]
     },
     "execution_count": 2,
     "metadata": {},
     "output_type": "execute_result"
    }
   ],
   "source": [
    "l1 = [2,7,8]\n",
    "l2 = [1,3,7,10,11]\n",
    "\n",
    "merge_arry(l1, l2)"
   ]
  },
  {
   "cell_type": "code",
   "execution_count": null,
   "metadata": {},
   "outputs": [],
   "source": []
  }
 ],
 "metadata": {
  "kernelspec": {
   "display_name": "Python 3",
   "language": "python",
   "name": "python3"
  },
  "language_info": {
   "codemirror_mode": {
    "name": "ipython",
    "version": 3
   },
   "file_extension": ".py",
   "mimetype": "text/x-python",
   "name": "python",
   "nbconvert_exporter": "python",
   "pygments_lexer": "ipython3",
   "version": "3.7.6"
  }
 },
 "nbformat": 4,
 "nbformat_minor": 1
}
