{
 "cells": [
  {
   "cell_type": "markdown",
   "metadata": {},
   "source": [
    "# Largest Continuous Sum\n",
    "\n",
    "## Problem\n",
    "Given an array of integers (positive and negative) find the largest continuous sum. \n"
   ]
  },
  {
   "cell_type": "markdown",
   "metadata": {},
   "source": [
    "## Solution"
   ]
  },
  {
   "cell_type": "code",
   "execution_count": 1,
   "metadata": {},
   "outputs": [],
   "source": [
    "def large_cont_sum(arr):\n",
    "    i_max = arr[0]\n",
    "    cont_sum_max = 0\n",
    "    cont_sum = 0\n",
    "    \n",
    "    for i in arr:\n",
    "        if i > i_max:\n",
    "            i_max = i\n",
    "        if i >= 0:\n",
    "            cont_sum += i\n",
    "        else:\n",
    "            if cont_sum > cont_sum_max:\n",
    "                cont_sum_max = cont_sum\n",
    "            cont_sum = 0\n",
    "    \n",
    "    if cont_sum > cont_sum_max:\n",
    "        cont_sum_max = cont_sum\n",
    "    \n",
    "    return cont_sum_max if cont_sum_max>0 else i_max\n"
   ]
  },
  {
   "cell_type": "markdown",
   "metadata": {},
   "source": [
    "## Test Cases"
   ]
  },
  {
   "cell_type": "code",
   "execution_count": 2,
   "metadata": {},
   "outputs": [
    {
     "name": "stdout",
     "output_type": "stream",
     "text": [
      "ALL TEST CASES PASSED\n"
     ]
    }
   ],
   "source": [
    "from nose.tools import assert_equal\n",
    "\n",
    "class LargeContTest(object):\n",
    "    def test(self,sol):\n",
    "        assert_equal(sol([0]),0)\n",
    "        assert_equal(sol([-2, -1]), -1)\n",
    "        assert_equal(sol([-1, 0, -1]), 0)\n",
    "        assert_equal(sol([-1, 0, 1, -1, -2, 1, 2]), 3)\n",
    "        assert_equal(sol([-1, 2, 3, -1, -2, 1, 2]), 5)\n",
    "        print('ALL TEST CASES PASSED')\n",
    "        \n",
    "\n",
    "t = LargeContTest()\n",
    "t.test(large_cont_sum)"
   ]
  },
  {
   "cell_type": "code",
   "execution_count": null,
   "metadata": {},
   "outputs": [],
   "source": []
  }
 ],
 "metadata": {
  "kernelspec": {
   "display_name": "Python 3",
   "language": "python",
   "name": "python3"
  },
  "language_info": {
   "codemirror_mode": {
    "name": "ipython",
    "version": 3
   },
   "file_extension": ".py",
   "mimetype": "text/x-python",
   "name": "python",
   "nbconvert_exporter": "python",
   "pygments_lexer": "ipython3",
   "version": "3.7.6"
  }
 },
 "nbformat": 4,
 "nbformat_minor": 1
}
