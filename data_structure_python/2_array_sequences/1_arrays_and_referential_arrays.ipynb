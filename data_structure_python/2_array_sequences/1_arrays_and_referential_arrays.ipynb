{
 "cells": [
  {
   "cell_type": "markdown",
   "metadata": {},
   "source": [
    "# Arrays\n",
    "Yang Xi<br>\n",
    "26 Sep 2020\n",
    "\n",
    "<br>\n",
    "\n",
    "* Introduction\n",
    "* Referential Arrays\n",
    "    * Referential Arrays - Examples\n",
    "* References\n",
    "\n",
    "<br>\n"
   ]
  },
  {
   "cell_type": "markdown",
   "metadata": {},
   "source": [
    "## Introduction\n",
    "Computer's main memory performs as **random access memory (RAM)**, where individual byte of memory can be stored or retrieved in O(1) time.\n",
    "\n",
    "An **array** represents a group of related variables stored one after another in a contiguous portion of the memory. It is a higher level **abstraction** of memory allocations.\n",
    "* Each cell of an array uses **the same number of bytes**. This allows any cell to be accessed in constant time.\n",
    "\n",
    "Python internally represents each Unicode character with 16 bits (2 bytes). For example, the 6-character string, \"YANGXI\" would be stored in 12 consecutive bytes of memory."
   ]
  },
  {
   "cell_type": "markdown",
   "metadata": {},
   "source": [
    "## Referential Arrays\n",
    "\n",
    "Say we want to store 100 student names. How to avoid having a series of names? We can use an array of **object references**:\n",
    "\n",
    "![](images/referential_array_student_names.jpg)\n",
    "\n",
    "**Note:**\n",
    "* A single list may include multiple references to the same object.\n",
    "* A single object can be referenced by multiple lists.\n",
    "* When computing the slice of a list, the result is a new list instance referencing to the same elements in the original list.\n",
    "    * The new list is a **shallow copy** of the original list\n",
    "    * `deepcopy` function from the `copy` module can create new list with new elements."
   ]
  },
  {
   "cell_type": "markdown",
   "metadata": {},
   "source": [
    "### Referential Arrays - Examples\n",
    "` l = [0] * 8` will produce a list with 8 cells referening the same object:\n",
    "\n",
    "![](images/referential_array_example_1.jpg)\n",
    "\n",
    "` l[2] += 1` will compute a new integer:\n",
    "\n",
    "![](images/referential_array_example_2.jpg)\n",
    "\n",
    "The `extend` function will make reference to the extended objects:<br>\n",
    "`primes.extend(extras)`\n",
    "\n",
    "![](images/referential_array_example_3.jpg)"
   ]
  },
  {
   "cell_type": "markdown",
   "metadata": {},
   "source": [
    "## References\n",
    "* [(2019 Jose) Array Sequences](https://www.udemy.com/course/python-for-data-structures-algorithms-and-interviews/)"
   ]
  },
  {
   "cell_type": "code",
   "execution_count": null,
   "metadata": {},
   "outputs": [],
   "source": []
  }
 ],
 "metadata": {
  "kernelspec": {
   "display_name": "Python 3",
   "language": "python",
   "name": "python3"
  },
  "language_info": {
   "codemirror_mode": {
    "name": "ipython",
    "version": 3
   },
   "file_extension": ".py",
   "mimetype": "text/x-python",
   "name": "python",
   "nbconvert_exporter": "python",
   "pygments_lexer": "ipython3",
   "version": "3.7.6"
  }
 },
 "nbformat": 4,
 "nbformat_minor": 4
}
