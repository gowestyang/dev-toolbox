{
 "cells": [
  {
   "cell_type": "markdown",
   "metadata": {},
   "source": [
    "# Quick Sort\n",
    "Yang Xi<br>\n",
    "29 Sep 2020\n",
    "\n",
    "<br>\n",
    "\n",
    "* Explaination\n",
    "* Implementation\n",
    "* References\n",
    "\n",
    "<br>\n"
   ]
  },
  {
   "cell_type": "markdown",
   "metadata": {},
   "source": [
    "## Explaination\n",
    "\n",
    "A quick sort uses divide and conquer to gain the same advantages as the merge sort, while **not using additional storage**.\n",
    "* As a trade-off, it is possible that the list may not be divied in half. And when this happens, the performance will be diminished.\n",
    "\n",
    "<br>\n",
    "\n",
    "A quick sort first selects a value, which is called the **pivot value**, which will assist with splitting the list.\n",
    "* The actual position where the pivot value belongs in the final sorted list, commonly called the **split point**, will be used to divide the list for subsequent calls to the quick sort.\n",
    "![](images/quick_sort_1.jpg)\n",
    "\n",
    "The **partition** process will happen next, which\n",
    "* find the split point, and\n",
    "* move other items to the appropriate side of the list\n",
    "* there are various partition scheme. The feature below is one example:\n",
    "![](images/quick_sort_partition.jpg)"
   ]
  },
  {
   "cell_type": "markdown",
   "metadata": {},
   "source": [
    "## Implementation\n",
    "Although there are many different ways to choose the pivot value, we will simply use the first item in the list."
   ]
  },
  {
   "cell_type": "code",
   "execution_count": 1,
   "metadata": {},
   "outputs": [],
   "source": [
    "def quick_sort(arr):\n",
    "    quick_sort_help(arr,0,len(arr)-1)\n",
    "\n",
    "# a recursive function to carry out quick sort\n",
    "def quick_sort_help(arr,first,last):\n",
    "    if first<last:\n",
    "        splitpoint = partition(arr,first,last)\n",
    "        quick_sort_help(arr,first,splitpoint-1)\n",
    "        quick_sort_help(arr,splitpoint+1,last)\n",
    "\n",
    "# identify the split point\n",
    "def partition(arr,first,last):\n",
    "    pivotvalue = arr[first]\n",
    "\n",
    "    leftmark = first+1\n",
    "    rightmark = last\n",
    "\n",
    "    done = False\n",
    "    while not done:\n",
    "        while leftmark <= rightmark and arr[leftmark] <= pivotvalue:\n",
    "            leftmark = leftmark + 1\n",
    "\n",
    "        while arr[rightmark] >= pivotvalue and rightmark >= leftmark:\n",
    "            rightmark = rightmark -1\n",
    "\n",
    "        if rightmark < leftmark:\n",
    "            done = True\n",
    "        else:\n",
    "            temp = arr[leftmark]\n",
    "            arr[leftmark] = arr[rightmark]\n",
    "            arr[rightmark] = temp\n",
    "\n",
    "    temp = arr[first]\n",
    "    arr[first] = arr[rightmark]\n",
    "    arr[rightmark] = temp\n",
    "    print(f'partition of {arr} with pivotvalue {pivotvalue} is at {rightmark}')\n",
    "\n",
    "    return rightmark"
   ]
  },
  {
   "cell_type": "code",
   "execution_count": 2,
   "metadata": {},
   "outputs": [
    {
     "name": "stdout",
     "output_type": "stream",
     "text": [
      "partition of [1, 2, 4, 6, 7, 3, 5, 4, 12, 11] with pivotvalue 2 is at 1\n",
      "partition of [1, 2, 3, 4, 7, 6, 5, 4, 12, 11] with pivotvalue 4 is at 3\n",
      "partition of [1, 2, 3, 4, 4, 6, 5, 7, 12, 11] with pivotvalue 7 is at 7\n",
      "partition of [1, 2, 3, 4, 4, 6, 5, 7, 12, 11] with pivotvalue 4 is at 4\n",
      "partition of [1, 2, 3, 4, 4, 5, 6, 7, 12, 11] with pivotvalue 6 is at 6\n",
      "partition of [1, 2, 3, 4, 4, 5, 6, 7, 11, 12] with pivotvalue 12 is at 9\n"
     ]
    },
    {
     "data": {
      "text/plain": [
       "[1, 2, 3, 4, 4, 5, 6, 7, 11, 12]"
      ]
     },
     "execution_count": 2,
     "metadata": {},
     "output_type": "execute_result"
    }
   ],
   "source": [
    "arr = [2,5,4,6,7,3,1,4,12,11]\n",
    "quick_sort(arr)\n",
    "arr"
   ]
  },
  {
   "cell_type": "markdown",
   "metadata": {},
   "source": [
    "## References\n",
    "* [(2019 Jose) Searching and Sorting](https://www.udemy.com/course/python-for-data-structures-algorithms-and-interviews)\n",
    "* [Wikipedia](https://en.wikipedia.org/wiki/Quicksort)\n",
    "* [Visual Algo](http://visualgo.net/sorting.html)\n",
    "* [Sorting Algorithms Animcation with Pseudocode](http://www.sorting-algorithms.com/quick-sort)"
   ]
  },
  {
   "cell_type": "code",
   "execution_count": null,
   "metadata": {},
   "outputs": [],
   "source": []
  }
 ],
 "metadata": {
  "kernelspec": {
   "display_name": "Python 3",
   "language": "python",
   "name": "python3"
  },
  "language_info": {
   "codemirror_mode": {
    "name": "ipython",
    "version": 3
   },
   "file_extension": ".py",
   "mimetype": "text/x-python",
   "name": "python",
   "nbconvert_exporter": "python",
   "pygments_lexer": "ipython3",
   "version": "3.7.6"
  }
 },
 "nbformat": 4,
 "nbformat_minor": 1
}
