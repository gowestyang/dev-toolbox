{
 "cells": [
  {
   "cell_type": "markdown",
   "metadata": {},
   "source": [
    "# Insertion Sort\n",
    "Yang Xi<br>\n",
    "29 Sep 2020\n",
    "\n",
    "<br>\n",
    "\n",
    "* Explaination\n",
    "* Implementation\n",
    "* References\n",
    "\n",
    "<br>\n"
   ]
  },
  {
   "cell_type": "markdown",
   "metadata": {},
   "source": [
    "## Explaination\n",
    "\n",
    "Insertion Sort builds the final sorted array one item at a time.<br>\n",
    "It always maintains a **sorted sublist** in the lower positions of the list. Each new item is then inserted back into the previous sublist such that the sorted sublist is one item larger.\n",
    "1. Begin with assuming a list with one item (position 0) is already sorted.\n",
    "2. On each pass, the current item is checked against those in sorted sublist.\n",
    "3. In the sorted sublist, shift those items that are greater to the right.\n",
    "4. When we reach a smaller item (or the end) of the sublist, insert the current item.\n",
    "\n",
    "![](images/insertion_sort_2.jpg)\n",
    "\n",
    "It is much less efficient on large lists than more advanced algorithms such as quicksort, heapsort, or merge sort."
   ]
  },
  {
   "cell_type": "markdown",
   "metadata": {},
   "source": [
    "## Implementation"
   ]
  },
  {
   "cell_type": "code",
   "execution_count": 1,
   "metadata": {},
   "outputs": [],
   "source": [
    "def insertion_sort(arr):\n",
    "    for i in range(1,len(arr)):\n",
    "        currentvalue = arr[i]\n",
    "        position = i\n",
    "        \n",
    "        # Sorted Sublist\n",
    "        while position>0 and arr[position-1]>currentvalue:\n",
    "            \n",
    "            arr[position]=arr[position-1]\n",
    "            position = position-1\n",
    "\n",
    "        arr[position]=currentvalue"
   ]
  },
  {
   "cell_type": "code",
   "execution_count": 2,
   "metadata": {},
   "outputs": [
    {
     "data": {
      "text/plain": [
       "[1, 2, 3, 4, 5, 6, 8, 12, 25, 41]"
      ]
     },
     "execution_count": 2,
     "metadata": {},
     "output_type": "execute_result"
    }
   ],
   "source": [
    "arr =[3,5,4,6,8,1,2,12,41,25]\n",
    "insertion_sort(arr)\n",
    "arr"
   ]
  },
  {
   "cell_type": "markdown",
   "metadata": {},
   "source": [
    "## References\n",
    "* [(2019 Jose) Searching and Sorting](https://www.udemy.com/course/python-for-data-structures-algorithms-and-interviews)\n",
    "* [Wikipedia](https://en.wikipedia.org/wiki/Insertion_sort)\n",
    "* [Visual Algo](http://visualgo.net/sorting.html)\n",
    "* [Animation](http://cs.armstrong.edu/liang/animation/web/InsertionSort.html)\n",
    "* [Sorting Algorithms Animcation with Pseudocode](http://www.sorting-algorithms.com/insertion-sort)"
   ]
  },
  {
   "cell_type": "code",
   "execution_count": null,
   "metadata": {},
   "outputs": [],
   "source": []
  }
 ],
 "metadata": {
  "kernelspec": {
   "display_name": "Python 3",
   "language": "python",
   "name": "python3"
  },
  "language_info": {
   "codemirror_mode": {
    "name": "ipython",
    "version": 3
   },
   "file_extension": ".py",
   "mimetype": "text/x-python",
   "name": "python",
   "nbconvert_exporter": "python",
   "pygments_lexer": "ipython3",
   "version": "3.7.6"
  }
 },
 "nbformat": 4,
 "nbformat_minor": 1
}
