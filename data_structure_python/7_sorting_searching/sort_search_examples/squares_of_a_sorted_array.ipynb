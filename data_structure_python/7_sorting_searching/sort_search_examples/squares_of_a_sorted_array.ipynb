{
 "cells": [
  {
   "cell_type": "markdown",
   "metadata": {},
   "source": [
    "# Squares of a Sorted Array\n",
    "## Problem\n",
    "\n",
    "Given an array of integers `A` sorted in non-decreasing order, return an array of the squares of each number, also in sorted non-decreasing order.\n"
   ]
  },
  {
   "cell_type": "markdown",
   "metadata": {},
   "source": [
    "## Solution"
   ]
  },
  {
   "cell_type": "code",
   "execution_count": 1,
   "metadata": {},
   "outputs": [],
   "source": [
    "def sort_square(A):\n",
    "    for i,n in enumerate(A):\n",
    "        if n>=0:\n",
    "            break\n",
    "    j = i-1\n",
    "    \n",
    "    l = []\n",
    "    while j>=0 and i<len(A):\n",
    "        if A[i]**2 < A[j]**2:\n",
    "            l.append(A[i]**2)\n",
    "            i += 1\n",
    "        else:\n",
    "            l.append(A[j]**2)\n",
    "            j -= 1\n",
    "    \n",
    "    while j>=0:\n",
    "        l.append(A[j]**2)\n",
    "        j -= 1\n",
    "    \n",
    "    while i<len(A):\n",
    "        l.append(A[i]**2)\n",
    "        i += 1\n",
    "    \n",
    "    return l \n",
    "    "
   ]
  },
  {
   "cell_type": "markdown",
   "metadata": {},
   "source": [
    "## Test Cases"
   ]
  },
  {
   "cell_type": "code",
   "execution_count": 2,
   "metadata": {},
   "outputs": [
    {
     "name": "stdout",
     "output_type": "stream",
     "text": [
      "ALL TEST CASES PASSED\n"
     ]
    }
   ],
   "source": [
    "from nose.tools import assert_equal\n",
    "\n",
    "class AnagramTest(object):\n",
    "    \n",
    "    def test(self,sol):\n",
    "        assert_equal(sol([0]),[0])\n",
    "        assert_equal(sol([-4,-1]),[1, 16])\n",
    "        assert_equal(sol([1, 2]),[1, 4])\n",
    "        assert_equal(sol([-4,-1,0,3,10]),[0,1,9,16,100])\n",
    "        assert_equal(sol([-7,-3,2,3,11]),[4,9,9,49,121])\n",
    "        print(\"ALL TEST CASES PASSED\")\n",
    "\n",
    "\n",
    "t = AnagramTest()\n",
    "t.test(sort_square)"
   ]
  },
  {
   "cell_type": "code",
   "execution_count": null,
   "metadata": {},
   "outputs": [],
   "source": []
  }
 ],
 "metadata": {
  "kernelspec": {
   "display_name": "Python 3",
   "language": "python",
   "name": "python3"
  },
  "language_info": {
   "codemirror_mode": {
    "name": "ipython",
    "version": 3
   },
   "file_extension": ".py",
   "mimetype": "text/x-python",
   "name": "python",
   "nbconvert_exporter": "python",
   "pygments_lexer": "ipython3",
   "version": "3.7.6"
  }
 },
 "nbformat": 4,
 "nbformat_minor": 4
}
