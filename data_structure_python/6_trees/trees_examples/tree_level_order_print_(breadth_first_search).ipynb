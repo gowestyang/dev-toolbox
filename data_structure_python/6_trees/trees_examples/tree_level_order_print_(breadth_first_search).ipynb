{
 "cells": [
  {
   "cell_type": "markdown",
   "metadata": {},
   "source": [
    "# Tree Level Order Print \n",
    "\n",
    "Given a binary tree of integers, print it in level order. The output will contain space between the numbers in the same level, and new line between different levels. For example, if the tree is: \n",
    "___\n",
    "![title](images/tree_print.png)\n",
    "___\n",
    "The output should be: \n",
    "\n",
    "    1 \n",
    "    2 3 \n",
    "    4 5 6"
   ]
  },
  {
   "cell_type": "code",
   "execution_count": 1,
   "metadata": {},
   "outputs": [],
   "source": [
    "class Node:\n",
    "    def __init__(self, val=None):\n",
    "        self.left = None\n",
    "        self.right = None\n",
    "        self.val =  val"
   ]
  },
  {
   "cell_type": "markdown",
   "metadata": {},
   "source": [
    "## Solution - Breadth First Search with Queue\n",
    "We will use a queue to implement breadth first search, and two counts to track whether we should print new line."
   ]
  },
  {
   "cell_type": "code",
   "execution_count": 2,
   "metadata": {},
   "outputs": [],
   "source": [
    "def levelOrderPrint(tree):\n",
    "    if not tree:\n",
    "        return\n",
    "    \n",
    "    lNodes = [tree] # queue\n",
    "    currentLevelCount, nextLevelCount = 1, 0\n",
    "\n",
    "    while len(lNodes)!=0:\n",
    "        currentNode = lNodes.pop(0)\n",
    "        currentLevelCount -= 1\n",
    "        print(currentNode.val, end=' ')\n",
    "        \n",
    "        if currentNode.left:\n",
    "            lNodes.append(currentNode.left)\n",
    "            nextLevelCount += 1\n",
    "\n",
    "        if currentNode.right:\n",
    "            lNodes.append(currentNode.right)\n",
    "            nextLevelCount += 1\n",
    "\n",
    "        if currentLevelCount==0:\n",
    "            print('')\n",
    "            currentLevelCount, nextLevelCount = nextLevelCount, 0"
   ]
  },
  {
   "cell_type": "markdown",
   "metadata": {},
   "source": [
    "## Solution 2: Store Next Level Nodes in a List"
   ]
  },
  {
   "cell_type": "code",
   "execution_count": null,
   "metadata": {},
   "outputs": [],
   "source": [
    "def levelOrderPrint(tree):\n",
    "\n",
    "    def levelorder(lNodes):\n",
    "        if len(lNodes)>0:\n",
    "            lNextLevel = []\n",
    "            for currentNode in lNodes:\n",
    "                if currentNode:\n",
    "                    print(currentNode.val, end=' ')\n",
    "                    if currentNode.left:\n",
    "                        lNextLevel.append(currentNode.left)\n",
    "                    if currentNode.right:\n",
    "                        lNextLevel.append(currentNode.right)\n",
    "            print('')\n",
    "            levelorder(lNextLevel)\n",
    "\n",
    "    levelorder([tree])\n"
   ]
  },
  {
   "cell_type": "markdown",
   "metadata": {},
   "source": [
    "## Test Cases"
   ]
  },
  {
   "cell_type": "code",
   "execution_count": 3,
   "metadata": {},
   "outputs": [
    {
     "name": "stdout",
     "output_type": "stream",
     "text": [
      "1 \n",
      "2 3 \n",
      "4 5 6 \n"
     ]
    }
   ],
   "source": [
    "t1 = Node('1')\n",
    "t1.left = Node('2')\n",
    "t1.left.left = Node('4')\n",
    "t1.right = Node('3')\n",
    "t1.right.left = Node('5')\n",
    "t1.right.right = Node('6')\n",
    "\n",
    "levelOrderPrint(t1)"
   ]
  },
  {
   "cell_type": "code",
   "execution_count": null,
   "metadata": {},
   "outputs": [],
   "source": []
  }
 ],
 "metadata": {
  "kernelspec": {
   "display_name": "Python 3",
   "language": "python",
   "name": "python3"
  },
  "language_info": {
   "codemirror_mode": {
    "name": "ipython",
    "version": 3
   },
   "file_extension": ".py",
   "mimetype": "text/x-python",
   "name": "python",
   "nbconvert_exporter": "python",
   "pygments_lexer": "ipython3",
   "version": "3.7.6"
  }
 },
 "nbformat": 4,
 "nbformat_minor": 1
}
