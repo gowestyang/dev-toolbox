{
 "cells": [
  {
   "cell_type": "markdown",
   "metadata": {
    "collapsed": true
   },
   "source": [
    "# Knights Tour Example\n",
    "\n",
    "Yang Xi<br>\n",
    "02 Oct 2020\n",
    "\n",
    "<br>\n",
    "\n",
    "* Knights Tour Problem\n",
    "* Solution\n",
    "    * Step 1 - Graph Representation\n",
    "    * Step 2 - Depth First Search\n",
    "* References\n",
    "\n",
    "<br>\n"
   ]
  },
  {
   "cell_type": "markdown",
   "metadata": {},
   "source": [
    "## Knights Tour Problem\n",
    "\n",
    "The knight's tour problem is an example in which DFS is useful.\n",
    "\n",
    "On a chess board, there is a single chess piece - the knight.<br>\n",
    "The **object** is to find a sequence of moves that allow the knight to visit every square on the board **exactly once**.\n",
    "\n"
   ]
  },
  {
   "cell_type": "markdown",
   "metadata": {},
   "source": [
    "## Solution\n",
    "\n",
    "We will solve the knight's tour problem in two main steps.\n",
    "\n",
    "<br>\n",
    "\n",
    "### Step 1 -  Graph Representation\n",
    "\n",
    "The first step is to represent the legal moves of a knight on a chessboard as a graph.\n",
    "    * Each square on the chessboard is a vertex.\n",
    "    * Each legal move is an edge\n",
    "![](images/knights_tour_1.jpg)\n",
    "\n",
    "<br>\n",
    "\n",
    "The `knightGrpah` function builds out the full graph.<br>\n",
    "It makes one pass over all cells (vertices) on the board, and at each cell, it creates all legel moves (edges) of that cell.\n"
   ]
  },
  {
   "cell_type": "code",
   "execution_count": 1,
   "metadata": {},
   "outputs": [],
   "source": [
    "def knightGraph(bdSize):\n",
    "    ktGraph = Graph()\n",
    "    for row in range(bdSize):\n",
    "        for col in range(bdSize):\n",
    "            nodeId = posToNodeId(row,col,bdSize)\n",
    "            newPositions = genLegalMoves(row,col,bdSize)\n",
    "            for e in newPositions:\n",
    "                nid = posToNodeId(e[0],e[1],bdSize)\n",
    "                ktGraph.addEdge(nodeId,nid)\n",
    "    return ktGraph\n",
    "\n",
    "def posToNodeId(row, column, board_size):\n",
    "    return (row * board_size) + column\n",
    "\n",
    "def genLegalMoves(x,y,bdSize):\n",
    "    newMoves = []\n",
    "    moveOffsets = [(-1,-2),(-1,2),(-2,-1),(-2,1),\n",
    "                   ( 1,-2),( 1,2),( 2,-1),( 2,1)]\n",
    "    for i in moveOffsets:\n",
    "        newX = x + i[0]\n",
    "        newY = y + i[1]\n",
    "        if legalCoord(newX,bdSize) and \\\n",
    "                        legalCoord(newY,bdSize):\n",
    "            newMoves.append((newX,newY))\n",
    "    return newMoves\n",
    "\n",
    "def legalCoord(x,bdSize):\n",
    "    if x >= 0 and x < bdSize:\n",
    "        return True\n",
    "    else:\n",
    "        return False"
   ]
  },
  {
   "cell_type": "markdown",
   "metadata": {},
   "source": [
    "### Step 2 - Depth First Search\n",
    "\n",
    "Use **DFS** to find a path of length **rows x columns - 1** where every vertex on the graph is visited exactly once.\n",
    "    * The general DFS does NOT limit every node to be visited only once.\n",
    "    * We will explicitly set this limit.\n",
    "\n",
    "<br>\n",
    "\n",
    "The `knightTour` function is recursive.<br>\n",
    "It takes four parameters:\n",
    "* **n** the current depth in the search tree\n",
    "* **path** a list of vertices visited up to this point\n",
    "* **u** the vertex in we with to explore\n",
    "* **limit** the number of nodes in the path\n",
    "\n",
    "Say the limit is 64,\n",
    "* If we have a path with 64 verticies, `knightTour` returns True. This is the base case.\n",
    "* Otherwise, we will continue to explore one level deeper.\n",
    "* When `knightTour` returns `False`, DFS has reached the end of branch, so it will backtrack."
   ]
  },
  {
   "cell_type": "code",
   "execution_count": 3,
   "metadata": {
    "collapsed": true
   },
   "outputs": [],
   "source": [
    "def knightTour(n,path,u,limit):\n",
    "        u.setColor('gray')\n",
    "        path.append(u)\n",
    "        if n < limit:\n",
    "            nbrList = list(u.getConnections())\n",
    "            i = 0\n",
    "            done = False\n",
    "            while i < len(nbrList) and not done:\n",
    "                if nbrList[i].getColor() == 'white':\n",
    "                    done = knightTour(n+1, path, nbrList[i], limit)\n",
    "                i = i + 1\n",
    "            if not done:  # prepare to backtrack\n",
    "                path.pop()\n",
    "                u.setColor('white')\n",
    "        else:\n",
    "            done = True\n",
    "        return done"
   ]
  },
  {
   "cell_type": "markdown",
   "metadata": {},
   "source": [
    "## References\n",
    "* [(2019 Jose) Graph Algorithms](https://www.udemy.com/course/python-for-data-structures-algorithms-and-interviews)"
   ]
  },
  {
   "cell_type": "code",
   "execution_count": null,
   "metadata": {},
   "outputs": [],
   "source": []
  }
 ],
 "metadata": {
  "kernelspec": {
   "display_name": "Python 3",
   "language": "python",
   "name": "python3"
  },
  "language_info": {
   "codemirror_mode": {
    "name": "ipython",
    "version": 3
   },
   "file_extension": ".py",
   "mimetype": "text/x-python",
   "name": "python",
   "nbconvert_exporter": "python",
   "pygments_lexer": "ipython3",
   "version": "3.7.6"
  }
 },
 "nbformat": 4,
 "nbformat_minor": 1
}
