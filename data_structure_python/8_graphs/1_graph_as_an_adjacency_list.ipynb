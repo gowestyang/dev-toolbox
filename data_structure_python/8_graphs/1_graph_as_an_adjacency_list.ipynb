{
 "cells": [
  {
   "cell_type": "markdown",
   "metadata": {},
   "source": [
    "# Graph as an Adjacency List\n",
    "Yang Xi<br>\n",
    "01 Oct 2020\n",
    "\n",
    "<br>\n",
    "\n",
    "* Terminologies\n",
    "* Formal Definition of a Graph\n",
    "* Adjacency Matrix\n",
    "* Adjacency List\n",
    "* Implementation\n",
    "    * `Vertex` Class\n",
    "    * `Graph` Class\n",
    "* References\n",
    "\n",
    "<br>\n"
   ]
  },
  {
   "cell_type": "markdown",
   "metadata": {},
   "source": [
    "## Terminologies\n",
    "\n",
    "* **Vertex** (**node**): fundamental part of a graph\n",
    "    * **key**: name of the vertex\n",
    "    * **payload**: additional information of the vertex\n",
    "* **Edge**: can be one-way or two-way\n",
    "    * a **directed graph** is a graph where all edges are one way\n",
    "* **Weight**: edges may be weighted to show that there is a **cost** to go from one vertex to another.\n",
    "* **Path**: a sequence of vertices that are connected by edges\n",
    "* **Cycle**: a patch that starts and ends at the same vertex.\n",
    "    * A graph with no cycles is called an **acyclic graph**.\n",
    "    * A directed graph with no cycles is called a **directed acyclic graph (DAG)**"
   ]
  },
  {
   "cell_type": "markdown",
   "metadata": {},
   "source": [
    "## Formal Definition of a Graph\n",
    "\n",
    "A graph can be represented by $G$ where $G=(V,E)$.\n",
    "* $V$ is a set of vertices\n",
    "* $E$ is a set of edges\n",
    "    * Each edge is a tuple $(v,w)$ where $w,v\\in V$.\n",
    "    * Weight can be represented by adding a thrid component to the tuple.\n",
    "\n",
    "A **subgraph** $s$ is a set of edges $e$ and vertices $v$ such that $e\\in E$ and $v\\in V$.\n",
    "\n",
    "A **path** can be defined as $w_1,w_2,...w_n$ such that $(w_i,w_i+1)\\in E$ for all $1\\leq i\\leq n-1$.\n",
    "* The weighted path length is the sum of the weights of all the edges in the path.\n"
   ]
  },
  {
   "cell_type": "markdown",
   "metadata": {},
   "source": [
    "## Adjacency Matrix\n",
    "\n",
    "An **adjacency matrix** is a two-dimensional matrix\n",
    "* Each of the rows and columns represents a **vertex**.\n",
    "* Value stored in the cell $(v,w)$ is the **weight** of the edge from vertex $v$ to vertex $w$.\n",
    "* Two vertices are **adjacent** when they are connected by an edge.\n",
    "\n",
    "![](images/adjacency_matrix.jpg)\n",
    "\n",
    "<br>\n",
    "\n",
    "Note that matrix is not efficient in storing sparse data.<br>\n",
    "So the adjacency matrix is good when the number of edges is large.\n"
   ]
  },
  {
   "cell_type": "markdown",
   "metadata": {},
   "source": [
    "## Adjacency List\n",
    "**Adjacency list** is a more space-efficient way to implement a sparsely connected graph.\n",
    "* We keep a master list of all vertices.\n",
    "* Each vertex maintains a list of the other vertices it connects to.\n",
    "* We will use a dictionary instead, where the keys are the vertices and the values are the weights.\n",
    "\n",
    "![](images/adjacency_list.jpg)\n"
   ]
  },
  {
   "cell_type": "markdown",
   "metadata": {},
   "source": [
    "## Implementation"
   ]
  },
  {
   "cell_type": "markdown",
   "metadata": {},
   "source": [
    "### `Vertex` Class\n",
    "Each Vertex uses a dictionary `connectedTo` to keep track of the vertices to which it is connected, and the weight of each edge.\n",
    "* **addNeighbor()** adda a connection from this vertex to another.\n",
    "* **getConnections()** returns all of the vertices in the adjacency list.\n",
    "* **getWeight()** returns the weight of the edge from this vertex to the vertex passed as a parameter.\n"
   ]
  },
  {
   "cell_type": "code",
   "execution_count": 1,
   "metadata": {},
   "outputs": [],
   "source": [
    "class Vertex:\n",
    "    def __init__(self,key):\n",
    "        self.id = key\n",
    "        self.connectedTo = {}\n",
    "\n",
    "    def addNeighbor(self,nbr,weight=0):\n",
    "        self.connectedTo[nbr] = weight\n",
    "\n",
    "    def __str__(self):\n",
    "        return str(self.id) + ' connectedTo: ' + str([x.id for x in self.connectedTo])\n",
    "\n",
    "    def getConnections(self):\n",
    "        return self.connectedTo.keys()\n",
    "\n",
    "    def getId(self):\n",
    "        return self.id\n",
    "\n",
    "    def getWeight(self,nbr):\n",
    "        return self.connectedTo[nbr]"
   ]
  },
  {
   "cell_type": "code",
   "execution_count": 2,
   "metadata": {},
   "outputs": [
    {
     "name": "stdout",
     "output_type": "stream",
     "text": [
      "1 connectedTo: [2]\n",
      "dict_keys([<__main__.Vertex object at 0x0000028CCCBD00C8>])\n",
      "1\n",
      "10\n"
     ]
    }
   ],
   "source": [
    "V1 = Vertex(1)\n",
    "V2 = Vertex(2)\n",
    "V1.addNeighbor(V2, 10)\n",
    "\n",
    "print(V1)\n",
    "print(V1.getConnections())\n",
    "print(V1.getId())\n",
    "print(V1.getWeight(V2))"
   ]
  },
  {
   "cell_type": "markdown",
   "metadata": {},
   "source": [
    "### `Graph` Class\n",
    "* **Graph()** creates a new, empty graph.\n",
    "* **addVertex(vert)** adds an instance of Vertex to the graph.\n",
    "* **addEdge(fromVert, toVert, weight=0)** Adds a new, weighted, directed edge to the graph that connects two vertices.\n",
    "* **getVertex(vertKey)** finds the vertex in the graph named vertKey.\n",
    "* **getVertices()** returns the list of all vertices in the graph. \n",
    "* **in** returns True for a statement of the form vertex in graph, if the given vertex is in the graph, False otherwise."
   ]
  },
  {
   "cell_type": "code",
   "execution_count": 3,
   "metadata": {},
   "outputs": [],
   "source": [
    "class Graph:\n",
    "    def __init__(self):\n",
    "        self.vertList = {}\n",
    "        self.numVertices = 0\n",
    "\n",
    "    def addVertex(self,key):\n",
    "        self.numVertices += 1\n",
    "        newVertex = Vertex(key)\n",
    "        self.vertList[key] = newVertex\n",
    "        return newVertex\n",
    "\n",
    "    def getVertex(self,n):\n",
    "        if n in self.vertList:\n",
    "            return self.vertList[n]\n",
    "        else:\n",
    "            return None\n",
    "\n",
    "    def __contains__(self,n):\n",
    "        return n in self.vertList\n",
    "\n",
    "    def addEdge(self,f,t,cost=0):\n",
    "        if f not in self.vertList:\n",
    "            nv = self.addVertex(f)\n",
    "        if t not in self.vertList:\n",
    "            nv = self.addVertex(t)\n",
    "        self.vertList[f].addNeighbor(self.vertList[t], cost)\n",
    "\n",
    "    def getVertices(self):\n",
    "        return self.vertList.keys()\n",
    "\n",
    "    def __iter__(self):\n",
    "        return iter(self.vertList.values())"
   ]
  },
  {
   "cell_type": "code",
   "execution_count": 4,
   "metadata": {},
   "outputs": [],
   "source": [
    "g = Graph()\n",
    "for i in range(3):\n",
    "    g.addVertex(i)\n",
    "\n",
    "g.addEdge(0,1,10)\n",
    "g.addEdge(1,2,20)"
   ]
  },
  {
   "cell_type": "code",
   "execution_count": 5,
   "metadata": {},
   "outputs": [
    {
     "data": {
      "text/plain": [
       "0"
      ]
     },
     "execution_count": 5,
     "metadata": {},
     "output_type": "execute_result"
    }
   ],
   "source": [
    "g.getVertex(0).getId()"
   ]
  },
  {
   "cell_type": "code",
   "execution_count": 6,
   "metadata": {},
   "outputs": [
    {
     "data": {
      "text/plain": [
       "dict_keys([0, 1, 2])"
      ]
     },
     "execution_count": 6,
     "metadata": {},
     "output_type": "execute_result"
    }
   ],
   "source": [
    "g.getVertices()"
   ]
  },
  {
   "cell_type": "code",
   "execution_count": 7,
   "metadata": {},
   "outputs": [
    {
     "data": {
      "text/plain": [
       "True"
      ]
     },
     "execution_count": 7,
     "metadata": {},
     "output_type": "execute_result"
    }
   ],
   "source": [
    "1 in g"
   ]
  },
  {
   "cell_type": "code",
   "execution_count": 8,
   "metadata": {},
   "outputs": [
    {
     "name": "stdout",
     "output_type": "stream",
     "text": [
      "0 connectedTo: [1]\n",
      "1 connectedTo: [2]\n",
      "2 connectedTo: []\n"
     ]
    }
   ],
   "source": [
    "for i in g:\n",
    "    print(i)"
   ]
  },
  {
   "cell_type": "markdown",
   "metadata": {},
   "source": [
    "## References\n",
    "* [(2019 Jose) Graph Algorithms](https://www.udemy.com/course/python-for-data-structures-algorithms-and-interviews)"
   ]
  },
  {
   "cell_type": "code",
   "execution_count": null,
   "metadata": {},
   "outputs": [],
   "source": []
  }
 ],
 "metadata": {
  "kernelspec": {
   "display_name": "Python 3",
   "language": "python",
   "name": "python3"
  },
  "language_info": {
   "codemirror_mode": {
    "name": "ipython",
    "version": 3
   },
   "file_extension": ".py",
   "mimetype": "text/x-python",
   "name": "python",
   "nbconvert_exporter": "python",
   "pygments_lexer": "ipython3",
   "version": "3.7.6"
  }
 },
 "nbformat": 4,
 "nbformat_minor": 1
}
