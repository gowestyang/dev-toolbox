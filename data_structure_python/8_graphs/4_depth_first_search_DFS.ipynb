{
 "cells": [
  {
   "cell_type": "markdown",
   "metadata": {},
   "source": [
    "# Depth First Search (DFS)\n",
    "\n",
    "Yang Xi<br>\n",
    "02 Oct 2020\n",
    "\n",
    "<br>\n",
    "\n",
    "* Introduction\n",
    "* DFS with a Stack\n",
    "    * Algorithm\n",
    "    * Parenthesis Property\n",
    "    * Implementation\n",
    "* DFS with Recursion\n",
    "* Paths\n",
    "* References\n",
    "\n",
    "<br>\n"
   ]
  },
  {
   "cell_type": "markdown",
   "metadata": {},
   "source": [
    "## Introduction\n",
    "\n",
    "The goal of **Depth First Search (DFS)** is to search all possible vertices down each branch before backtracking.\n",
    "\n",
    "* DFS may create more than one trees\n",
    "* The group of trees created by DFS is called a **depth first forest**.\n"
   ]
  },
  {
   "attachments": {},
   "cell_type": "markdown",
   "metadata": {},
   "source": [
    "## DFS with a Stack\n",
    "\n",
    "For illustrate, we will add  two additional instance variables to the `Vertex` class.\n",
    "* **discovery time**: number of steps before a vertex is first encountered.\n",
    "* **finish time**: the number of steps before a vertex is colored black.\n",
    "\n",
    "We will use a simple example to demostrate the DFS algorithm.\n",
    "\n",
    "<br>\n",
    "\n",
    "### Algorithm\n",
    "\n",
    "Let's start from vertex A, color it grey, and set the discovery time to 1:\n",
    "![](images/dfs_1.jpg)\n",
    "\n",
    "Vertex A has two adjacent white vertices. In this example, let's follow the alphabet order and travel to vertex B:\n",
    "![](images/dfs_2.jpg)\n",
    "\n",
    "After vertex B, we reached vertex C, color it grey and set it's discovery time to 3.<br>\n",
    "We then find that C has no adjacent vertices, which brings us to the end of this branch.<br>\n",
    "So let's color vertex C black, and set its finish time to 4.\n",
    "![](images/dfs_3.jpg)\n",
    "\n",
    "Now we return to vertex B. The other adjacent vertex of B is D.<br>\n",
    "This path will bring us through vertex D, E, and F.<br>\n",
    "And vertex F has no more white colored adjacent vertex, so we reached the end of another branch.\n",
    "![](images/dfs_4.jpg)\n",
    "\n",
    "Now the algorithm will move backwards to color each vertex black and set their finish time.\n",
    "![](images/dfs_5.jpg)\n",
    "![](images/dfs_6.jpg)\n",
    "![](images/dfs_7.jpg)\n",
    "\n",
    "<br>\n",
    "\n",
    "### Parenthesis Property\n",
    "\n",
    "The starting and finishing times for each node present the **parenthesis property**:\n",
    "* All the children of a particular node in the depth first tree have a later discovery time and an earlier finish time than their parent.\n"
   ]
  },
  {
   "cell_type": "markdown",
   "metadata": {},
   "source": [
    "### Implementation\n",
    "\n",
    "Let's put the above example graph into an adjacency list:"
   ]
  },
  {
   "cell_type": "code",
   "execution_count": 1,
   "metadata": {},
   "outputs": [],
   "source": [
    "graph = {'A': set(['B', 'D']),\n",
    "         'B': set(['C', 'D']),\n",
    "         'C': set([]),\n",
    "         'D': set(['E']),\n",
    "         'E': set(['B', 'F']),\n",
    "         'F': set(['C'])}"
   ]
  },
  {
   "cell_type": "code",
   "execution_count": 2,
   "metadata": {},
   "outputs": [
    {
     "data": {
      "text/plain": [
       "{'A', 'B', 'C', 'D', 'E', 'F'}"
      ]
     },
     "execution_count": 2,
     "metadata": {},
     "output_type": "execute_result"
    }
   ],
   "source": [
    "def dfs(graph, start):\n",
    "    visited, stack = set(), [start]\n",
    "    while stack:\n",
    "        vertex = stack.pop()\n",
    "        if vertex not in visited:\n",
    "            visited.add(vertex)\n",
    "            # note how subtraction is overloaded here to add only vertex not visited yet.\n",
    "            stack.extend(graph[vertex] - visited)\n",
    "    return visited\n",
    "\n",
    "dfs(graph, 'A') "
   ]
  },
  {
   "cell_type": "markdown",
   "metadata": {},
   "source": [
    "## DFS with Recursion\n",
    "\n",
    "Note how `visited` is defined to avoid being reassigned upon each recursive call."
   ]
  },
  {
   "cell_type": "code",
   "execution_count": 3,
   "metadata": {},
   "outputs": [
    {
     "data": {
      "text/plain": [
       "{'A', 'B', 'C', 'D', 'E', 'F'}"
      ]
     },
     "execution_count": 3,
     "metadata": {},
     "output_type": "execute_result"
    }
   ],
   "source": [
    "def dfs(graph, start, visited=None):\n",
    "    if visited is None:\n",
    "        visited = set()\n",
    "    visited.add(start)\n",
    "    for nxt in graph[start] - visited:\n",
    "        dfs(graph, nxt, visited)\n",
    "    return visited\n",
    "\n",
    "dfs(graph, 'A') "
   ]
  },
  {
   "cell_type": "markdown",
   "metadata": {},
   "source": [
    "## Paths\n",
    "We will tweak the recusive implementation to return all possible paths between a start and goal vertex.<br>\n",
    "The implementation below uses a stack again to iteratively solve the problem.\n",
    "\n",
    "The stack implementation can be tweaked in a similar way."
   ]
  },
  {
   "cell_type": "code",
   "execution_count": 4,
   "metadata": {},
   "outputs": [
    {
     "data": {
      "text/plain": [
       "[['A', 'D', 'E', 'F'], ['A', 'B', 'D', 'E', 'F']]"
      ]
     },
     "execution_count": 4,
     "metadata": {},
     "output_type": "execute_result"
    }
   ],
   "source": [
    "def dfs_paths(graph, start, goal):\n",
    "    stack = [(start, [start])]\n",
    "    while stack:\n",
    "        (vertex, path) = stack.pop()\n",
    "        for nxt in graph[vertex] - set(path):\n",
    "            if nxt == goal:\n",
    "                yield path + [nxt]\n",
    "            else:\n",
    "                stack.append((nxt, path + [nxt]))\n",
    "\n",
    "list(dfs_paths(graph, 'A', 'F'))"
   ]
  },
  {
   "cell_type": "markdown",
   "metadata": {},
   "source": [
    "## References\n",
    "* [(2019 Jose) Graph Algorithms](https://www.udemy.com/course/python-for-data-structures-algorithms-and-interviews)\n",
    "* [Depth-and Breadth-First Search](http://jeremykun.com/2013/01/22/depth-and-breadth-first-search/)\n",
    "* [Connected component](https://en.wikipedia.org/wiki/Connected_component_(graph_theory))\n",
    "* [Adjacency matrix](https://en.wikipedia.org/wiki/Adjacency_matrix)\n",
    "* [Adjacency list](https://en.wikipedia.org/wiki/Adjacency_list)\n",
    "* [Python Gotcha: Default arguments and mutable data structures](https://developmentality.wordpress.com/2010/08/23/python-gotcha-default-arguments/)\n",
    "* [Generators](https://wiki.python.org/moin/Generators)"
   ]
  },
  {
   "cell_type": "code",
   "execution_count": null,
   "metadata": {},
   "outputs": [],
   "source": []
  }
 ],
 "metadata": {
  "kernelspec": {
   "display_name": "Python 3",
   "language": "python",
   "name": "python3"
  },
  "language_info": {
   "codemirror_mode": {
    "name": "ipython",
    "version": 3
   },
   "file_extension": ".py",
   "mimetype": "text/x-python",
   "name": "python",
   "nbconvert_exporter": "python",
   "pygments_lexer": "ipython3",
   "version": "3.7.6"
  }
 },
 "nbformat": 4,
 "nbformat_minor": 1
}
