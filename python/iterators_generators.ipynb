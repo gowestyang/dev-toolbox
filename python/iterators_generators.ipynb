{
 "cells": [
  {
   "cell_type": "markdown",
   "metadata": {},
   "source": [
    "# Iterators and Generators\n",
    "Yang Xi <br>\n",
    "14 Sep, 2020\n",
    "\n",
    "\n",
    "<br>\n",
    "\n",
    "\n",
    "* Introduction\n",
    "* Iterators\n",
    "\t* Introduction\n",
    "* Generators\n",
    "\t* Definition\n",
    "\t* Example: Fibonacci Sequence\n",
    "\t* `send` Method / Coroutines\n",
    "\t* `throw` Method\n",
    "\t* `yield from`"
   ]
  },
  {
   "cell_type": "markdown",
   "metadata": {},
   "source": [
    "# Introduction\n",
    "A **iterator** is an object that can be iterated over like we do in a for loop.<br>\n",
    "Iterators work on *lazy evaluation* principle, which delays the evaluation of an expression until its value is really needed. This is a useful as it reduces the memory consumption of the object.<br>\n",
    "An iterator is an abstraction, which enables the programmer to access all the elements of an iterable object (a set, a string, a list etc.) without any deeper knowledge of the data structure of this object.\n",
    "\n",
    "**Generators** are a special kind of function,which enable us to implement or generate iterators.\n",
    "\n",
    "Reference: https://www.python-course.eu/python3_generators.php"
   ]
  },
  {
   "cell_type": "markdown",
   "metadata": {},
   "source": [
    "# Iterators\n",
    "Iterators are mostly **implicitly** used, like in for-loop. In the example below, we are iterating over alist, but take note: a list is **not** an iterator, while it can be used like an iterator."
   ]
  },
  {
   "cell_type": "code",
   "execution_count": 1,
   "metadata": {},
   "outputs": [
    {
     "name": "stdout",
     "output_type": "stream",
     "text": [
      "location: Paris\n",
      "location: Berlin\n",
      "location: Hamburg\n"
     ]
    }
   ],
   "source": [
    "cities = [\"Paris\", \"Berlin\", \"Hamburg\"]\n",
    "for location in cities:\n",
    "    print(\"location: \" + location)"
   ]
  },
  {
   "cell_type": "markdown",
   "metadata": {},
   "source": [
    "What happened when the for loop is executed?\n",
    "1. Apply function `iter` to the object `o` following the `in` keyword.\n",
    "    * If `o` is not iterable, raise an exception.\n",
    "2. Call `iter(o)` to return an iterator `iterator_obj`.\n",
    "3. Iterator over object `o` using the `next` method.\n",
    "4. Stop the loop when `next(iterator_obj)` is exhausted - `StopIteration` exception.\n",
    "\n",
    "Code below demonstrates this behavior:"
   ]
  },
  {
   "cell_type": "code",
   "execution_count": 2,
   "metadata": {},
   "outputs": [
    {
     "data": {
      "text/plain": [
       "'Paris'"
      ]
     },
     "execution_count": 2,
     "metadata": {},
     "output_type": "execute_result"
    }
   ],
   "source": [
    "cities = [\"Paris\", \"Berlin\", \"Hamburg\"]\n",
    "cities_iterator = iter(cities)\n",
    "next(cities_iterator)"
   ]
  },
  {
   "cell_type": "code",
   "execution_count": 3,
   "metadata": {},
   "outputs": [
    {
     "data": {
      "text/plain": [
       "'Berlin'"
      ]
     },
     "execution_count": 3,
     "metadata": {},
     "output_type": "execute_result"
    }
   ],
   "source": [
    "next(cities_iterator)"
   ]
  },
  {
   "cell_type": "code",
   "execution_count": 4,
   "metadata": {},
   "outputs": [
    {
     "data": {
      "text/plain": [
       "'Hamburg'"
      ]
     },
     "execution_count": 4,
     "metadata": {},
     "output_type": "execute_result"
    }
   ],
   "source": [
    "next(cities_iterator)"
   ]
  },
  {
   "cell_type": "code",
   "execution_count": 5,
   "metadata": {},
   "outputs": [
    {
     "ename": "StopIteration",
     "evalue": "",
     "output_type": "error",
     "traceback": [
      "\u001b[1;31m---------------------------------------------------------------------------\u001b[0m",
      "\u001b[1;31mStopIteration\u001b[0m                             Traceback (most recent call last)",
      "\u001b[1;32m<ipython-input-5-53da0ecc24f3>\u001b[0m in \u001b[0;36m<module>\u001b[1;34m\u001b[0m\n\u001b[1;32m----> 1\u001b[1;33m \u001b[0mnext\u001b[0m\u001b[1;33m(\u001b[0m\u001b[0mcities_iterator\u001b[0m\u001b[1;33m)\u001b[0m\u001b[1;33m\u001b[0m\u001b[1;33m\u001b[0m\u001b[0m\n\u001b[0m",
      "\u001b[1;31mStopIteration\u001b[0m: "
     ]
    }
   ],
   "source": [
    "next(cities_iterator)"
   ]
  },
  {
   "cell_type": "markdown",
   "metadata": {},
   "source": [
    "Dictionary data type `dict` supports iterators as well:"
   ]
  },
  {
   "cell_type": "code",
   "execution_count": 6,
   "metadata": {},
   "outputs": [
    {
     "name": "stdout",
     "output_type": "stream",
     "text": [
      "The capital city of France is Paris\n",
      "The capital city of Netherlands is Amsterdam\n",
      "The capital city of Germany is Berlin\n"
     ]
    }
   ],
   "source": [
    "capitals = {\"France\":\"Paris\", \"Netherlands\":\"Amsterdam\", \"Germany\":\"Berlin\"}\n",
    "for country in capitals:\n",
    "     print(\"The capital city of \" + country + \" is \" + capitals[country])"
   ]
  },
  {
   "cell_type": "markdown",
   "metadata": {},
   "source": [
    "# Generators\n",
    "### Definition\n",
    "**Generator** is the usual and easiest way to create an iterator in Python.\n",
    "\n",
    "A generator is a function which returns a generator object. This **generator object** is like a function which produces a sequence of values, instead of a single object.<br>\n",
    "This sequence of values is produced by iterating over it, e.g. with a for loop. And the value, on which can be iterated, are created by the `yield` statement.\n",
    "\n",
    "Upon reaching the `yield` statement, the value behind the `yield` statement is returned, and the execution of the generator is interrupted.<br>\n",
    "When `next` is called on the generator object, the generator function will resume right after the `yield` statement where last call was made, and **all local variables still exist**.\n",
    "\n",
    "If there is a `return` statement in the generator, the execution will stop with a `StopIteration` exception.\n",
    "\n",
    "Iterators can also be implemented with a class. However, the crucial advantage of generators consists in automatically creating the methods `__iter__()` and `__next__()` in a very neat manner."
   ]
  },
  {
   "cell_type": "code",
   "execution_count": 7,
   "metadata": {},
   "outputs": [],
   "source": [
    "def city_generator():\n",
    "    yield(\"Hamburg\")\n",
    "    yield(\"Konstanz\")\n",
    "\n",
    "city = city_generator()"
   ]
  },
  {
   "cell_type": "code",
   "execution_count": 8,
   "metadata": {},
   "outputs": [
    {
     "data": {
      "text/plain": [
       "'Hamburg'"
      ]
     },
     "execution_count": 8,
     "metadata": {},
     "output_type": "execute_result"
    }
   ],
   "source": [
    "next(city)"
   ]
  },
  {
   "cell_type": "code",
   "execution_count": 9,
   "metadata": {},
   "outputs": [
    {
     "data": {
      "text/plain": [
       "'Konstanz'"
      ]
     },
     "execution_count": 9,
     "metadata": {},
     "output_type": "execute_result"
    }
   ],
   "source": [
    "next(city)"
   ]
  },
  {
   "cell_type": "code",
   "execution_count": 10,
   "metadata": {},
   "outputs": [
    {
     "ename": "StopIteration",
     "evalue": "",
     "output_type": "error",
     "traceback": [
      "\u001b[1;31m---------------------------------------------------------------------------\u001b[0m",
      "\u001b[1;31mStopIteration\u001b[0m                             Traceback (most recent call last)",
      "\u001b[1;32m<ipython-input-10-f885c2feb4a5>\u001b[0m in \u001b[0;36m<module>\u001b[1;34m\u001b[0m\n\u001b[1;32m----> 1\u001b[1;33m \u001b[0mnext\u001b[0m\u001b[1;33m(\u001b[0m\u001b[0mcity\u001b[0m\u001b[1;33m)\u001b[0m\u001b[1;33m\u001b[0m\u001b[1;33m\u001b[0m\u001b[0m\n\u001b[0m",
      "\u001b[1;31mStopIteration\u001b[0m: "
     ]
    }
   ],
   "source": [
    "next(city)"
   ]
  },
  {
   "cell_type": "markdown",
   "metadata": {},
   "source": [
    "There is no \"reset\" of a generator, but this can be done by create another generator, e.g. `city = city_generator()` again."
   ]
  },
  {
   "cell_type": "markdown",
   "metadata": {},
   "source": [
    "### Example: Fibonacci Sequence"
   ]
  },
  {
   "cell_type": "code",
   "execution_count": 11,
   "metadata": {},
   "outputs": [
    {
     "name": "stdout",
     "output_type": "stream",
     "text": [
      "0 1 1 2 3 5 "
     ]
    }
   ],
   "source": [
    "def fibonacci(n):\n",
    "    a, b, counter = 0, 1, 0\n",
    "    while True:\n",
    "        if (counter > n): \n",
    "            return\n",
    "        yield a\n",
    "        a, b = b, a + b\n",
    "        counter += 1\n",
    "\n",
    "f = fibonacci(5)\n",
    "for x in f:\n",
    "    print(x, end=\" \")"
   ]
  },
  {
   "cell_type": "markdown",
   "metadata": {},
   "source": [
    "### `send` Method / Coroutines\n",
    "The `send()` method sends a message (object) to the generateor, and returns the value yielded by the generator:"
   ]
  },
  {
   "cell_type": "code",
   "execution_count": 12,
   "metadata": {},
   "outputs": [],
   "source": [
    "def simple_coroutine():\n",
    "    print(\"coroutine has been started!\")\n",
    "    while True:\n",
    "        x = yield \"foo\"\n",
    "        print(\"coroutine received: \", x)\n",
    "\n",
    "cr = simple_coroutine()"
   ]
  },
  {
   "cell_type": "code",
   "execution_count": 13,
   "metadata": {},
   "outputs": [
    {
     "name": "stdout",
     "output_type": "stream",
     "text": [
      "coroutine has been started!\n"
     ]
    },
    {
     "data": {
      "text/plain": [
       "'foo'"
      ]
     },
     "execution_count": 13,
     "metadata": {},
     "output_type": "execute_result"
    }
   ],
   "source": [
    "next(cr)"
   ]
  },
  {
   "cell_type": "code",
   "execution_count": 14,
   "metadata": {},
   "outputs": [
    {
     "name": "stdout",
     "output_type": "stream",
     "text": [
      "coroutine received:  Hi\n"
     ]
    },
    {
     "data": {
      "text/plain": [
       "'foo'"
      ]
     },
     "execution_count": 14,
     "metadata": {},
     "output_type": "execute_result"
    }
   ],
   "source": [
    "ret_value = cr.send(\"Hi\")\n",
    "ret_value"
   ]
  },
  {
   "cell_type": "markdown",
   "metadata": {},
   "source": [
    "Note that we had to call `next` on the generator first to start it. Using `send` to a generator not started yet will lead to an exception.\n",
    "\n",
    "The `next` call always sends a `None` object.\n",
    "\n",
    "We can use `send` to modify the variables saved in the generator:"
   ]
  },
  {
   "cell_type": "code",
   "execution_count": 15,
   "metadata": {},
   "outputs": [
    {
     "name": "stdout",
     "output_type": "stream",
     "text": [
      "0\n",
      "1\n"
     ]
    }
   ],
   "source": [
    "def count(first_val=0):\n",
    "    counter = first_val\n",
    "    while True:\n",
    "        new_counter_val = yield counter\n",
    "        if new_counter_val is None:\n",
    "            counter += 1\n",
    "        else:\n",
    "            counter = new_counter_val\n",
    "\n",
    "counter = count(0)\n",
    "for i in range(2):\n",
    "    print(next(counter))"
   ]
  },
  {
   "cell_type": "code",
   "execution_count": 16,
   "metadata": {},
   "outputs": [
    {
     "data": {
      "text/plain": [
       "5"
      ]
     },
     "execution_count": 16,
     "metadata": {},
     "output_type": "execute_result"
    }
   ],
   "source": [
    "counter.send(5)"
   ]
  },
  {
   "cell_type": "code",
   "execution_count": 17,
   "metadata": {},
   "outputs": [
    {
     "data": {
      "text/plain": [
       "6"
      ]
     },
     "execution_count": 17,
     "metadata": {},
     "output_type": "execute_result"
    }
   ],
   "source": [
    "next(counter)"
   ]
  },
  {
   "cell_type": "markdown",
   "metadata": {},
   "source": [
    "### `throw` Method\n",
    "The `throw()` method raised an excemption at the point where the generator was paused, and returns the next value yielded by the generator.\n",
    "\n",
    "We can use `throw` to exam variables inside the generator:"
   ]
  },
  {
   "cell_type": "code",
   "execution_count": 18,
   "metadata": {},
   "outputs": [
    {
     "name": "stdout",
     "output_type": "stream",
     "text": [
      "0\n",
      "1\n"
     ]
    }
   ],
   "source": [
    "def count(first_val=0):\n",
    "    counter = first_val\n",
    "    while True:\n",
    "        try:\n",
    "            new_counter_val = yield counter\n",
    "            if new_counter_val is None:\n",
    "                counter += 1\n",
    "            else:\n",
    "                counter = new_counter_val\n",
    "        except Exception:\n",
    "            yield (first_val, counter)\n",
    "\n",
    "counter = count(0)\n",
    "for i in range(2):\n",
    "    print(next(counter))"
   ]
  },
  {
   "cell_type": "code",
   "execution_count": 19,
   "metadata": {},
   "outputs": [
    {
     "data": {
      "text/plain": [
       "(0, 1)"
      ]
     },
     "execution_count": 19,
     "metadata": {},
     "output_type": "execute_result"
    }
   ],
   "source": [
    "status = counter.throw(Exception)\n",
    "status"
   ]
  },
  {
   "cell_type": "code",
   "execution_count": 20,
   "metadata": {},
   "outputs": [
    {
     "data": {
      "text/plain": [
       "1"
      ]
     },
     "execution_count": 20,
     "metadata": {},
     "output_type": "execute_result"
    }
   ],
   "source": [
    "next(counter)"
   ]
  },
  {
   "cell_type": "markdown",
   "metadata": {},
   "source": [
    "### `yield from`\n",
    "`yield from <expr>` provides a shortcut to yield from an iterable. The `<expr>` has to be an expression evaluating to an iterable."
   ]
  },
  {
   "cell_type": "code",
   "execution_count": 21,
   "metadata": {},
   "outputs": [
    {
     "name": "stdout",
     "output_type": "stream",
     "text": [
      "1 2 3 "
     ]
    }
   ],
   "source": [
    "def gen():\n",
    "    yield from [1,2,3]\n",
    "\n",
    "g = gen()\n",
    "for x in g:\n",
    "    print(x, end=\" \")"
   ]
  },
  {
   "cell_type": "markdown",
   "metadata": {},
   "source": [
    "If the `<expr>` is another generator (subgenerator), it is allowed to execute a `return` statement:"
   ]
  },
  {
   "cell_type": "code",
   "execution_count": 22,
   "metadata": {
    "scrolled": true
   },
   "outputs": [
    {
     "name": "stdout",
     "output_type": "stream",
     "text": [
      "1\n",
      "42\n"
     ]
    }
   ],
   "source": [
    "def subgenerator():\n",
    "    yield 1\n",
    "    return 42\n",
    "\n",
    "def gen():\n",
    "    x = yield from subgenerator()\n",
    "    print(x)\n",
    "\n",
    "for x in gen():\n",
    "    print(x)"
   ]
  },
  {
   "cell_type": "code",
   "execution_count": null,
   "metadata": {},
   "outputs": [],
   "source": []
  }
 ],
 "metadata": {
  "kernelspec": {
   "display_name": "Python 3",
   "language": "python",
   "name": "python3"
  },
  "language_info": {
   "codemirror_mode": {
    "name": "ipython",
    "version": 3
   },
   "file_extension": ".py",
   "mimetype": "text/x-python",
   "name": "python",
   "nbconvert_exporter": "python",
   "pygments_lexer": "ipython3",
   "version": "3.7.6"
  }
 },
 "nbformat": 4,
 "nbformat_minor": 4
}
