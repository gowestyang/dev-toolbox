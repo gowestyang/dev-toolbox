{
 "cells": [
  {
   "cell_type": "markdown",
   "metadata": {},
   "source": [
    "# Decorators\n",
    "Yang Xi <br>\n",
    "14 Sep, 2020\n",
    "\n",
    "\n",
    "<br>\n",
    "\n",
    "\n",
    "* Introduction\n",
    "* Knowledge Refresher\n",
    "\t* Important Aspects of Python Functions\n",
    "* Function Decorators\n",
    "\t* A Simple Function Decorator\n",
    "\t* Use Syntax @\n",
    "\t* Decorate 3rd Party Functions\n",
    "\t* Generalized Function Wrapper\n",
    "\t* Decorators with Parameters\n",
    "\t* Preserve Attributes of Decorated Function\n",
    "* Class Decorators\n",
    "* Use Cases\n",
    "\t* Checking Arguments\n",
    "\t* Counting Function Calls\n",
    "\t* Memoization with Decorators"
   ]
  },
  {
   "cell_type": "markdown",
   "metadata": {},
   "source": [
    "# Introduction\n",
    "A **decorator** is any callable Python object that is used to **modify a function, method or a class**. A reference ot a function or a class is passed to a decorator and the decorator returns a modified function or class.\n",
    "\n",
    "Two kinds of decorators:\n",
    "* Function decorators\n",
    "* Class decorators\n",
    "\n",
    "Reference: https://www.python-course.eu/python3_decorators.php"
   ]
  },
  {
   "cell_type": "markdown",
   "metadata": {},
   "source": [
    "# Knowledge Refresher\n",
    "### Important Aspects of Python Functions\n",
    "* Function names are references to functions - we can assign multiple names to the same function.\n",
    "* We can delete a function name without deleting the function itself.\n",
    "* Functions can be defined inside a function.\n",
    "* We can pass functions as parametmers to a function.\n",
    "    * Can use the attribute __name__ to identify the 'real' name\n",
    "\n",
    "\n"
   ]
  },
  {
   "cell_type": "code",
   "execution_count": 1,
   "metadata": {},
   "outputs": [
    {
     "name": "stdout",
     "output_type": "stream",
     "text": [
      "this is f\n",
      "this is g\n",
      "func's real name is g\n"
     ]
    }
   ],
   "source": [
    "def g():\n",
    "    print('this is g')\n",
    "\n",
    "def f(func):\n",
    "    print('this is f')\n",
    "    func()\n",
    "    print(\"func's real name is \"+func.__name__)\n",
    "\n",
    "f(g)"
   ]
  },
  {
   "cell_type": "markdown",
   "metadata": {},
   "source": [
    "* Functions can return references to function objects."
   ]
  },
  {
   "cell_type": "code",
   "execution_count": 2,
   "metadata": {},
   "outputs": [
    {
     "name": "stdout",
     "output_type": "stream",
     "text": [
      "5\n",
      "7\n"
     ]
    }
   ],
   "source": [
    "def f(x):\n",
    "    def g(y):\n",
    "        return y + x + 3 \n",
    "    return g\n",
    "\n",
    "nf1 = f(1)\n",
    "nf2 = f(3)\n",
    "\n",
    "print(nf1(1))\n",
    "print(nf2(1))"
   ]
  },
  {
   "cell_type": "markdown",
   "metadata": {},
   "source": [
    "# Function Decorators\n",
    "### A Simple Function Decorator"
   ]
  },
  {
   "cell_type": "code",
   "execution_count": 3,
   "metadata": {},
   "outputs": [
    {
     "name": "stdout",
     "output_type": "stream",
     "text": [
      "Call foo before decoration:\n",
      "Call foo with Hi\n",
      "\n",
      "Decorate foo with f...\n",
      "\n",
      "Call foo after decoration:\n",
      "Do something additional...\n",
      "Call foo with Hi\n"
     ]
    }
   ],
   "source": [
    "def our_decorator(func):\n",
    "    def function_wrapper(x):\n",
    "        print(\"Do something additional...\")\n",
    "        func(x)\n",
    "    return function_wrapper\n",
    "\n",
    "def foo(x):\n",
    "    print(\"Call foo with \" + str(x))\n",
    "\n",
    "print(\"Call foo before decoration:\")\n",
    "foo(\"Hi\")\n",
    "\n",
    "print(\"\\nDecorate foo with f...\")\n",
    "foo = our_decorator(foo)\n",
    "\n",
    "print(\"\\nCall foo after decoration:\")\n",
    "foo(\"Hi\")"
   ]
  },
  {
   "cell_type": "markdown",
   "metadata": {},
   "source": [
    "### Use Syntax @\n",
    "The decoration occurs in the line before the function header.\n",
    "* The **@** is followed by decortor function name\n",
    "* This line has to be directly positioned in front of the decorated function"
   ]
  },
  {
   "cell_type": "code",
   "execution_count": 4,
   "metadata": {},
   "outputs": [
    {
     "name": "stdout",
     "output_type": "stream",
     "text": [
      "Do something additional...\n",
      "Call foo with Hi\n"
     ]
    }
   ],
   "source": [
    "def our_decorator(func):\n",
    "    def function_wrapper(x):\n",
    "        print(\"Do something additional...\")\n",
    "        func(x)\n",
    "    return function_wrapper\n",
    "\n",
    "@our_decorator\n",
    "def foo(x):\n",
    "    print(\"Call foo with \" + str(x))\n",
    "\n",
    "foo(\"Hi\")"
   ]
  },
  {
   "cell_type": "markdown",
   "metadata": {},
   "source": [
    "### Decorate 3rd Party Functions\n",
    "It is also possible to decorate 3rd party functions, e.g. functions we import from a module. But we **cannot use @** in this case."
   ]
  },
  {
   "cell_type": "code",
   "execution_count": 5,
   "metadata": {},
   "outputs": [
    {
     "name": "stdout",
     "output_type": "stream",
     "text": [
      "Do something additional...\n",
      "-0.9999999957076562\n"
     ]
    }
   ],
   "source": [
    "from math import cos\n",
    "\n",
    "def our_decorator(func):\n",
    "    def function_wrapper(x):\n",
    "        print(\"Do something additional...\")\n",
    "        res = func(x)\n",
    "        print(res)\n",
    "    return function_wrapper\n",
    "\n",
    "cos = our_decorator(cos)\n",
    "\n",
    "cos(3.1415)"
   ]
  },
  {
   "cell_type": "markdown",
   "metadata": {},
   "source": [
    "### Generalized Function Wrapper"
   ]
  },
  {
   "cell_type": "code",
   "execution_count": 6,
   "metadata": {},
   "outputs": [
    {
     "name": "stdout",
     "output_type": "stream",
     "text": [
      "Do something additional...\n",
      "-0.9999999957076562\n"
     ]
    }
   ],
   "source": [
    "from math import cos\n",
    "\n",
    "def our_decorator(func):\n",
    "    def function_wrapper(*args, **kwargs):\n",
    "        print(\"Do something additional...\")\n",
    "        res = func(*args, **kwargs)\n",
    "        print(res)\n",
    "    return function_wrapper\n",
    "\n",
    "cos = our_decorator(cos)\n",
    "\n",
    "cos(3.1415)"
   ]
  },
  {
   "cell_type": "markdown",
   "metadata": {},
   "source": [
    "### Decorators with Parameters"
   ]
  },
  {
   "cell_type": "code",
   "execution_count": 7,
   "metadata": {},
   "outputs": [
    {
     "name": "stdout",
     "output_type": "stream",
     "text": [
      "Hello\n",
      "World\n",
      "Goodbye\n",
      "World\n"
     ]
    }
   ],
   "source": [
    "def greeting(expr):\n",
    "    def greeting_decorator(func):\n",
    "        def function_wrapper(x):\n",
    "            print(expr)\n",
    "            func(x)\n",
    "        return function_wrapper\n",
    "    return greeting_decorator\n",
    "\n",
    "@greeting(\"Hello\")\n",
    "def foo(x):\n",
    "    print(x)\n",
    "\n",
    "foo(\"World\")\n",
    "\n",
    "@greeting(\"Goodbye\")\n",
    "def foo(x):\n",
    "    print(x)\n",
    "\n",
    "foo(\"World\")"
   ]
  },
  {
   "cell_type": "markdown",
   "metadata": {},
   "source": [
    "### Preserve Attributes of Decorated Function\n",
    "In the example below, after decoration, the attributes of the original functions will be lost:"
   ]
  },
  {
   "cell_type": "code",
   "execution_count": 8,
   "metadata": {},
   "outputs": [
    {
     "name": "stdout",
     "output_type": "stream",
     "text": [
      "function_wrapper\n",
      "None\n",
      "__main__\n"
     ]
    }
   ],
   "source": [
    "from math import cos\n",
    "\n",
    "def our_decorator(func):\n",
    "    def function_wrapper(*args, **kwargs):\n",
    "        print(\"Do something additional...\")\n",
    "        res = func(*args, **kwargs)\n",
    "        print(res)\n",
    "    return function_wrapper\n",
    "\n",
    "cos = our_decorator(cos)\n",
    "print(cos.__name__)\n",
    "print(cos.__doc__)\n",
    "print(cos.__module__)"
   ]
  },
  {
   "cell_type": "markdown",
   "metadata": {},
   "source": [
    "We can save the original attributes of the function:"
   ]
  },
  {
   "cell_type": "code",
   "execution_count": 9,
   "metadata": {},
   "outputs": [
    {
     "name": "stdout",
     "output_type": "stream",
     "text": [
      "cos\n",
      "Return the cosine of x (measured in radians).\n",
      "math\n"
     ]
    }
   ],
   "source": [
    "from math import cos\n",
    "\n",
    "def our_decorator(func):\n",
    "    def function_wrapper(*args, **kwargs):\n",
    "        print(\"Do something additional...\")\n",
    "        res = func(*args, **kwargs)\n",
    "        print(res)\n",
    "    function_wrapper.__name__ = func.__name__\n",
    "    function_wrapper.__doc__ = func.__doc__\n",
    "    function_wrapper.__module__ = func.__module__\n",
    "    return function_wrapper\n",
    "\n",
    "\n",
    "cos = our_decorator(cos)\n",
    "print(cos.__name__)\n",
    "print(cos.__doc__)\n",
    "print(cos.__module__)"
   ]
  },
  {
   "cell_type": "markdown",
   "metadata": {},
   "source": [
    "# Class Decorators\n",
    "A **callable object** is an object which can be used and behaves like a function. It is possible to define classes in a way that the instances will be callable objects.<br>\n",
    "When the instance is called \"like a function\", the `__call__` method will be called."
   ]
  },
  {
   "cell_type": "code",
   "execution_count": 16,
   "metadata": {},
   "outputs": [
    {
     "name": "stdout",
     "output_type": "stream",
     "text": [
      "Do something additional...\n",
      "Call foo with Hi\n"
     ]
    }
   ],
   "source": [
    "class our_decorator:\n",
    "    def __init__(self, f):\n",
    "        self.f = f\n",
    "    def __call__(self, *args, **kwargs):\n",
    "        print(\"Do something additional...\")\n",
    "        self.f(*args, **kwargs)\n",
    "\n",
    "@our_decorator\n",
    "def foo(x):\n",
    "    print(\"Call foo with \" + str(x))\n",
    "\n",
    "foo(\"Hi\")"
   ]
  },
  {
   "cell_type": "markdown",
   "metadata": {},
   "source": [
    "# Use Cases\n",
    "### Checking Arguments\n",
    "The following factorial function will get into endless loop if zero, negative, or float argument is passed:"
   ]
  },
  {
   "cell_type": "code",
   "execution_count": 10,
   "metadata": {},
   "outputs": [
    {
     "data": {
      "text/plain": [
       "6"
      ]
     },
     "execution_count": 10,
     "metadata": {},
     "output_type": "execute_result"
    }
   ],
   "source": [
    "def factorial(n):\n",
    "    if n==1:\n",
    "        return 1\n",
    "    else:\n",
    "        return n*factorial(n-1)\n",
    "\n",
    "factorial(3)"
   ]
  },
  {
   "cell_type": "markdown",
   "metadata": {},
   "source": [
    "Let's use a decorator to ensure proper argument ispassed to the function:"
   ]
  },
  {
   "cell_type": "code",
   "execution_count": 11,
   "metadata": {},
   "outputs": [
    {
     "ename": "Exception",
     "evalue": "Argument must be a positive integer.",
     "output_type": "error",
     "traceback": [
      "\u001b[1;31m---------------------------------------------------------------------------\u001b[0m",
      "\u001b[1;31mException\u001b[0m                                 Traceback (most recent call last)",
      "\u001b[1;32m<ipython-input-11-297c094f54d8>\u001b[0m in \u001b[0;36m<module>\u001b[1;34m\u001b[0m\n\u001b[0;32m     14\u001b[0m         \u001b[1;32mreturn\u001b[0m \u001b[0mn\u001b[0m\u001b[1;33m*\u001b[0m\u001b[0mfactorial\u001b[0m\u001b[1;33m(\u001b[0m\u001b[0mn\u001b[0m\u001b[1;33m-\u001b[0m\u001b[1;36m1\u001b[0m\u001b[1;33m)\u001b[0m\u001b[1;33m\u001b[0m\u001b[1;33m\u001b[0m\u001b[0m\n\u001b[0;32m     15\u001b[0m \u001b[1;33m\u001b[0m\u001b[0m\n\u001b[1;32m---> 16\u001b[1;33m \u001b[0mfactorial\u001b[0m\u001b[1;33m(\u001b[0m\u001b[1;33m-\u001b[0m\u001b[1;36m1\u001b[0m\u001b[1;33m)\u001b[0m\u001b[1;33m\u001b[0m\u001b[1;33m\u001b[0m\u001b[0m\n\u001b[0m",
      "\u001b[1;32m<ipython-input-11-297c094f54d8>\u001b[0m in \u001b[0;36mhelper\u001b[1;34m(x)\u001b[0m\n\u001b[0;32m      4\u001b[0m             \u001b[1;32mreturn\u001b[0m \u001b[0mf\u001b[0m\u001b[1;33m(\u001b[0m\u001b[0mx\u001b[0m\u001b[1;33m)\u001b[0m\u001b[1;33m\u001b[0m\u001b[1;33m\u001b[0m\u001b[0m\n\u001b[0;32m      5\u001b[0m         \u001b[1;32melse\u001b[0m\u001b[1;33m:\u001b[0m\u001b[1;33m\u001b[0m\u001b[1;33m\u001b[0m\u001b[0m\n\u001b[1;32m----> 6\u001b[1;33m             \u001b[1;32mraise\u001b[0m \u001b[0mException\u001b[0m\u001b[1;33m(\u001b[0m\u001b[1;34m\"Argument must be a positive integer.\"\u001b[0m\u001b[1;33m)\u001b[0m\u001b[1;33m\u001b[0m\u001b[1;33m\u001b[0m\u001b[0m\n\u001b[0m\u001b[0;32m      7\u001b[0m     \u001b[1;32mreturn\u001b[0m \u001b[0mhelper\u001b[0m\u001b[1;33m\u001b[0m\u001b[1;33m\u001b[0m\u001b[0m\n\u001b[0;32m      8\u001b[0m \u001b[1;33m\u001b[0m\u001b[0m\n",
      "\u001b[1;31mException\u001b[0m: Argument must be a positive integer."
     ]
    }
   ],
   "source": [
    "def argument_test_natural_number(f):\n",
    "    def helper(x):\n",
    "        if type(x)==int and x>0:\n",
    "            return f(x)\n",
    "        else:\n",
    "            raise Exception(\"Argument must be a positive integer.\")\n",
    "    return helper\n",
    "\n",
    "@argument_test_natural_number\n",
    "def factorial(n):\n",
    "    if n==1:\n",
    "        return 1\n",
    "    else:\n",
    "        return n*factorial(n-1)\n",
    "\n",
    "factorial(-1)"
   ]
  },
  {
   "cell_type": "markdown",
   "metadata": {},
   "source": [
    "### Counting Function Calls\n",
    "In this example, the decorator counts the number of times a function has been called."
   ]
  },
  {
   "cell_type": "code",
   "execution_count": 12,
   "metadata": {},
   "outputs": [
    {
     "name": "stdout",
     "output_type": "stream",
     "text": [
      "0\n",
      "10\n"
     ]
    }
   ],
   "source": [
    "def call_counter(func):\n",
    "    def helper(*args, **kwargs):\n",
    "        helper.calls += 1\n",
    "        return func(*args, **kwargs)\n",
    "    helper.calls = 0\n",
    "\n",
    "    return helper\n",
    "\n",
    "@call_counter\n",
    "def succ(x):\n",
    "    return x + 1\n",
    "\n",
    "print(succ.calls)\n",
    "\n",
    "for i in range(10):\n",
    "    succ(i)\n",
    "    \n",
    "print(succ.calls)"
   ]
  },
  {
   "cell_type": "markdown",
   "metadata": {},
   "source": [
    "### Memoization with Decorators\n",
    "**Memoization** is a technique used in computing to spreed up programs.<br>This is accomplished by memorizing the calculation results of processed input, such as the results of function calls. If the same input or a function call with the same parameters is used, the previously stored results can be used again and unnecessary calculation are avoided.\n",
    "\n",
    "In this example, we will improve the runtime of the `fib` function by adding a dictionary to memorize previously calculated values of the function.<br>\n",
    "One way is to modify the `fib` function by explicitly adding a memoization component, which will impair the clarify and beauty of the original recursive implementation.<br>\n",
    "So we will define and use a function `memoize` to decorate `fib`."
   ]
  },
  {
   "cell_type": "code",
   "execution_count": 14,
   "metadata": {},
   "outputs": [],
   "source": [
    "def memoize(f):\n",
    "    memo = {}\n",
    "    def helper(x):\n",
    "        if x not in memo:            \n",
    "            memo[x] = f(x)\n",
    "        return memo[x]\n",
    "    return helper\n",
    "\n",
    "@memoize\n",
    "def fib(n):\n",
    "    if n == 0:\n",
    "        return 0\n",
    "    elif n == 1:\n",
    "        return 1\n",
    "    else:\n",
    "        return fib(n-1) + fib(n-2)"
   ]
  },
  {
   "cell_type": "markdown",
   "metadata": {},
   "source": [
    "We will use another decorator to exam the runtime:"
   ]
  },
  {
   "cell_type": "code",
   "execution_count": 15,
   "metadata": {},
   "outputs": [
    {
     "name": "stdout",
     "output_type": "stream",
     "text": [
      "0.001653399999995031\n",
      "1.1999999998124622e-06\n"
     ]
    }
   ],
   "source": [
    "from timeit import timeit\n",
    "\n",
    "def runtime_decorator(func, *args, **kwargs):\n",
    "    def helper():\n",
    "        return func(*args, **kwargs)\n",
    "    return timeit(helper, number=1)\n",
    "\n",
    "n = 1000\n",
    "runtime1 = runtime_decorator(fib,n)\n",
    "runtime2 = runtime_decorator(fib,n)\n",
    "\n",
    "print(runtime1)\n",
    "print(runtime2)"
   ]
  },
  {
   "cell_type": "code",
   "execution_count": null,
   "metadata": {},
   "outputs": [],
   "source": []
  }
 ],
 "metadata": {
  "kernelspec": {
   "display_name": "Python 3",
   "language": "python",
   "name": "python3"
  },
  "language_info": {
   "codemirror_mode": {
    "name": "ipython",
    "version": 3
   },
   "file_extension": ".py",
   "mimetype": "text/x-python",
   "name": "python",
   "nbconvert_exporter": "python",
   "pygments_lexer": "ipython3",
   "version": "3.7.6"
  }
 },
 "nbformat": 4,
 "nbformat_minor": 4
}
