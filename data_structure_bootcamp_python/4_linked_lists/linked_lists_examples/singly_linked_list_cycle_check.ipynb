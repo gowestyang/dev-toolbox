{
 "cells": [
  {
   "cell_type": "markdown",
   "metadata": {},
   "source": [
    "# Singly Linked List Cycle Check \n",
    "\n",
    "## Problem\n",
    "\n",
    "Given a singly linked list, write a function which takes in the first node in a singly linked list and returns a boolean indicating if the linked list contains a \"cycle\".\n",
    "\n",
    "A cycle is when a node's next point actually points back to a previous node in the list. This is also sometimes known as a **circularly linked list**.\n",
    "\n",
    "You've been given the Linked List Node class code:"
   ]
  },
  {
   "cell_type": "code",
   "execution_count": 1,
   "metadata": {},
   "outputs": [],
   "source": [
    "class Node(object):\n",
    "    \n",
    "    def __init__(self,value):\n",
    "        \n",
    "        self.value = value\n",
    "        self.nextnode = None"
   ]
  },
  {
   "cell_type": "markdown",
   "metadata": {},
   "source": [
    "## Solution - Fast and Slow Markers\n",
    "We will use a fast marker and a slow marker.<br>\n",
    "If the linked list does not have cycle, the fast marker will reach the tail.<br>\n",
    "If there is cycle, the fast marker will \"catch\" the slow marker at some point."
   ]
  },
  {
   "cell_type": "code",
   "execution_count": 2,
   "metadata": {},
   "outputs": [],
   "source": [
    "def cycle_check(node):\n",
    "    \n",
    "    slow = node\n",
    "    fast = node\n",
    "\n",
    "    while fast!=None and fast.nextnode!=None:\n",
    "        slow = slow.nextnode\n",
    "        fast = fast.nextnode.nextnode\n",
    "        if slow == fast:\n",
    "            return True\n",
    "        \n",
    "    return False"
   ]
  },
  {
   "cell_type": "markdown",
   "metadata": {},
   "source": [
    "## Solution - Store the Traversed Nodes\n",
    "This solution will require additional memory."
   ]
  },
  {
   "cell_type": "code",
   "execution_count": null,
   "metadata": {},
   "outputs": [],
   "source": [
    "def cycle_check(node):\n",
    "    \n",
    "    current = node\n",
    "    past = set()\n",
    "    while current!=None:\n",
    "        if current in past:\n",
    "            return True\n",
    "        past.add(current)\n",
    "        current = current.nextnode\n",
    "        \n",
    "    return False"
   ]
  },
  {
   "cell_type": "markdown",
   "metadata": {},
   "source": [
    "# Test Cases"
   ]
  },
  {
   "cell_type": "code",
   "execution_count": 3,
   "metadata": {},
   "outputs": [
    {
     "name": "stdout",
     "output_type": "stream",
     "text": [
      "ALL TEST CASES PASSED\n"
     ]
    }
   ],
   "source": [
    "from nose.tools import assert_equal\n",
    "\n",
    "# CREATE CYCLE LIST\n",
    "a = Node(1)\n",
    "b = Node(2)\n",
    "c = Node(3)\n",
    "\n",
    "a.nextnode = b\n",
    "b.nextnode = c\n",
    "c.nextnode = a\n",
    "\n",
    "\n",
    "# A SELF CYCLE LIST\n",
    "s = Node(1)\n",
    "s.nextnode = s\n",
    "\n",
    "\n",
    "# CREATE NON CYCLE LIST\n",
    "x = Node(1)\n",
    "y = Node(2)\n",
    "z = Node(3)\n",
    "\n",
    "x.nextnode = y\n",
    "y.nextnode = z\n",
    "\n",
    "\n",
    "\n",
    "class TestCycleCheck(object):\n",
    "    \n",
    "    def test(self,sol):\n",
    "        assert_equal(sol(a),True)\n",
    "        assert_equal(sol(s),True)\n",
    "        assert_equal(sol(x),False)\n",
    "        \n",
    "        print(\"ALL TEST CASES PASSED\")\n",
    "        \n",
    "\n",
    "\n",
    "t = TestCycleCheck()\n",
    "t.test(cycle_check)\n"
   ]
  },
  {
   "cell_type": "code",
   "execution_count": null,
   "metadata": {},
   "outputs": [],
   "source": []
  }
 ],
 "metadata": {
  "kernelspec": {
   "display_name": "Python 3",
   "language": "python",
   "name": "python3"
  },
  "language_info": {
   "codemirror_mode": {
    "name": "ipython",
    "version": 3
   },
   "file_extension": ".py",
   "mimetype": "text/x-python",
   "name": "python",
   "nbconvert_exporter": "python",
   "pygments_lexer": "ipython3",
   "version": "3.7.6"
  }
 },
 "nbformat": 4,
 "nbformat_minor": 1
}
