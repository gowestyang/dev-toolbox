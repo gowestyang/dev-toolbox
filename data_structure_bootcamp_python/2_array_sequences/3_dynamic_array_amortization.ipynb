{
 "cells": [
  {
   "cell_type": "markdown",
   "metadata": {},
   "source": [
    "# Amortization\n",
    "\n",
    "Replacing an array with a new, larger array may be slow, which seems to take O(n) time to perform.\n",
    "\n",
    "**Amortization** is an algorithmic design pattern to show that performing a sequence of append operations on a dynamic array is actuall quite efficient.\n",
    "\n",
    "Briefly speaking, let's perform `n` append operations:\n",
    "\n",
    "![](images/dynamic_arrays_amortization_1.jpg)\n",
    "\n",
    "amortized cost (per operation)$=\\frac{(1+1+1+...)+(1+2+4+...)}{n}\\leq \\frac{n+2n}{n}\\leq 3$\n",
    "\n",
    "amortize cost = O(1)\n"
   ]
  },
  {
   "cell_type": "code",
   "execution_count": null,
   "metadata": {},
   "outputs": [],
   "source": []
  }
 ],
 "metadata": {
  "kernelspec": {
   "display_name": "Python 3",
   "language": "python",
   "name": "python3"
  },
  "language_info": {
   "codemirror_mode": {
    "name": "ipython",
    "version": 3
   },
   "file_extension": ".py",
   "mimetype": "text/x-python",
   "name": "python",
   "nbconvert_exporter": "python",
   "pygments_lexer": "ipython3",
   "version": "3.7.6"
  }
 },
 "nbformat": 4,
 "nbformat_minor": 1
}
