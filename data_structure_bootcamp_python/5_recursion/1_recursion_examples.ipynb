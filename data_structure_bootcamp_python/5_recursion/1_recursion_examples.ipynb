{
 "cells": [
  {
   "cell_type": "markdown",
   "metadata": {},
   "source": [
    "# Recursion\n",
    "\n",
    "There are **two main instances** of recursion:\n",
    "1. A technique in which a **function** makes one or more calls to itself.\n",
    "2. A **data structure** uses smaller instances of the exact same type of data structure when it represents itself.\n",
    "\n",
    "Recursion provides a powerful alternative for performing repetitions of tasks in which a loop is not ideal.\n"
   ]
  },
  {
   "cell_type": "markdown",
   "metadata": {},
   "source": [
    "### Example - Factorial Function\n",
    "\n",
    "The factorial function is denoted with an exclamation point and is defined as the product of the integers from 1 to *n*. Formally, we can state this as:\n",
    "\n",
    "$$ n! = n·(n-1)·(n-2)... 3·2·1 $$\n",
    "\n",
    "Note, **if n = 0, then n! = 1**. This is important to take into account, because it will serve as our **base case**.\n",
    "\n",
    "**Base case** is a key part of understanding recursion. When developing a recursive solution, it is very important to think about the base case, and the solution will need to return the base case once all the recursive cases have been worked through.\n",
    "\n",
    "In this example, we can rewrite the formal recursion definition in terms of recursion like so:\n",
    "\n",
    "$$ n! = n·(n−1)!$$\n",
    "\n",
    "Note, **if n = 0, then n! = 1**. This means the **base case** occurs once n=0, the *recursive cases* are defined in the equation above.\n"
   ]
  },
  {
   "cell_type": "code",
   "execution_count": 1,
   "metadata": {},
   "outputs": [],
   "source": [
    "def fact(n):\n",
    "    # base case\n",
    "    if n == 0:\n",
    "        return 1\n",
    "    \n",
    "    # recursion\n",
    "    else:\n",
    "        return n * fact(n-1)"
   ]
  },
  {
   "cell_type": "code",
   "execution_count": 2,
   "metadata": {},
   "outputs": [
    {
     "data": {
      "text/plain": [
       "120"
      ]
     },
     "execution_count": 2,
     "metadata": {},
     "output_type": "execute_result"
    }
   ],
   "source": [
    "fact(5)"
   ]
  },
  {
   "cell_type": "markdown",
   "metadata": {},
   "source": [
    "### Example - Sum of All Digits\n",
    "\n",
    "Given an integer, create a function which returns the sum of all the individual digits in that integer.\n",
    "\n",
    "For example:<br>\n",
    "if n = 4321, return 4+3+2+1"
   ]
  },
  {
   "cell_type": "code",
   "execution_count": 3,
   "metadata": {},
   "outputs": [],
   "source": [
    "def sum_func(n):\n",
    "    if n//10 == 0:\n",
    "        return n\n",
    "    else:\n",
    "        return n%10 + sum_func(n//10)\n"
   ]
  },
  {
   "cell_type": "code",
   "execution_count": 4,
   "metadata": {},
   "outputs": [
    {
     "data": {
      "text/plain": [
       "15"
      ]
     },
     "execution_count": 4,
     "metadata": {},
     "output_type": "execute_result"
    }
   ],
   "source": [
    "sum_func(54321)"
   ]
  },
  {
   "cell_type": "markdown",
   "metadata": {},
   "source": [
    "### Example - Word Split\n",
    "\n",
    "Create a function `word_split()` which takes in a string **phrase** and a set **list_of_words**.\n",
    "\n",
    "The function will then determine if it is possible to split the string in a way in which words can be made from the list of words.\n",
    "\n",
    "You can assume the phrase will only contain words found in the dictionary if it is completely splittable.\n",
    "\n",
    "**Example 1:**<br>\n",
    "phrase = `'themanran'`<br>\n",
    "list_of_wrods = `['the','ran','man']`<br>\n",
    "output = `['the', 'man', 'ran']`\n",
    "\n",
    "**Example 2:**<br>\n",
    "phrase = `'ilovedogsJohn'`<br>\n",
    "list_of_wrods = `['i','am','a','dogs','lover','love','John']`<br>\n",
    "output = `['i', 'love', 'dogs', 'John']`\n",
    "\n",
    "**Example 3:**<br>\n",
    "phrase = `'themanran'`<br>\n",
    "list_of_wrods = `['clown','ran','man']`<br>\n",
    "output = `[]`\n"
   ]
  },
  {
   "cell_type": "code",
   "execution_count": 5,
   "metadata": {},
   "outputs": [],
   "source": [
    "def word_split(phrase,list_of_words, output = None):    \n",
    "\n",
    "    if output is None:\n",
    "        output = []\n",
    "    \n",
    "    for word in list_of_words:\n",
    "        if phrase.startswith(word):\n",
    "            output.append(word)\n",
    "\n",
    "            return word_split(phrase[len(word):],list_of_words,output)\n",
    "    \n",
    "    return output        \n"
   ]
  },
  {
   "cell_type": "code",
   "execution_count": 6,
   "metadata": {},
   "outputs": [
    {
     "data": {
      "text/plain": [
       "['the', 'man', 'ran']"
      ]
     },
     "execution_count": 6,
     "metadata": {},
     "output_type": "execute_result"
    }
   ],
   "source": [
    "word_split('themanran',['the','ran','man'])"
   ]
  },
  {
   "cell_type": "code",
   "execution_count": 7,
   "metadata": {},
   "outputs": [
    {
     "data": {
      "text/plain": [
       "['i', 'love', 'dogs', 'John']"
      ]
     },
     "execution_count": 7,
     "metadata": {},
     "output_type": "execute_result"
    }
   ],
   "source": [
    "word_split('ilovedogsJohn',['i','am','a','dogs','lover','love','John'])"
   ]
  },
  {
   "cell_type": "code",
   "execution_count": 8,
   "metadata": {},
   "outputs": [
    {
     "data": {
      "text/plain": [
       "[]"
      ]
     },
     "execution_count": 8,
     "metadata": {},
     "output_type": "execute_result"
    }
   ],
   "source": [
    "word_split('themanran',['clown','ran','man'])"
   ]
  },
  {
   "cell_type": "code",
   "execution_count": null,
   "metadata": {},
   "outputs": [],
   "source": []
  }
 ],
 "metadata": {
  "kernelspec": {
   "display_name": "Python 3",
   "language": "python",
   "name": "python3"
  },
  "language_info": {
   "codemirror_mode": {
    "name": "ipython",
    "version": 3
   },
   "file_extension": ".py",
   "mimetype": "text/x-python",
   "name": "python",
   "nbconvert_exporter": "python",
   "pygments_lexer": "ipython3",
   "version": "3.7.6"
  }
 },
 "nbformat": 4,
 "nbformat_minor": 1
}
