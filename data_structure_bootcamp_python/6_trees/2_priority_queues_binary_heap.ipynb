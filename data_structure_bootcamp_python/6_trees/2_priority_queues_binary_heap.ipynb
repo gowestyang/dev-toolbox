{
 "cells": [
  {
   "cell_type": "markdown",
   "metadata": {},
   "source": [
    "# Priority Queues with Binary Heaps\n",
    "Yang Xi<br>\n",
    "29 Sep 2020\n",
    "\n",
    "<br>\n",
    "\n",
    "* Priority Queue\n",
    "* Binary Heap\n",
    "* Binary Heap (Min Heap) Implementation\n",
    "    * Binary Heap Operations\n",
    "* References\n",
    "\n",
    "<br>\n"
   ]
  },
  {
   "cell_type": "markdown",
   "metadata": {},
   "source": [
    "## Priority Queue\n",
    "A **priority queue** is a variation of a queue, in which the order of items is determined by their priority.\n",
    "* The highest priority items are at the front (remove by dequeue).\n",
    "* The lowest priority items are at the back.\n",
    "* When you enqueue an item, it may move all the way to the front.\n"
   ]
  },
  {
   "cell_type": "markdown",
   "metadata": {},
   "source": [
    "## Binary Heap\n",
    "**Binary heap** is a classic data structure to implement a priority queue.<br>\n",
    "It allows us to both enqueue and dequeue items in **O(logn)**.\n",
    "\n",
    "<br>\n",
    "\n",
    "A binary heap is defined as a binary tree with two additional constraints:\n",
    "* Shape property: a binary heap is a **complete binary tree**.\n",
    "    * In a complete binary tree, each level has all its nodes.\n",
    "    * A complete binary tree can be represented by a **simple list**.\n",
    "        * For a parent at index p, its children are located at index 2p and 2p+1\n",
    "\n",
    "![](images/complete_binary_tree.jpg)\n",
    "\n",
    "\n",
    "* **Heap property**: the key store in each node is either $\\leq$ or $\\geq$ to the keysin the node's children.\n",
    "    * **min heap**: parent key $\\leq$ child keys (the smallest key value is always at the front).\n",
    "    * **max heap**: parent key $\\geq$ child keys (the largest key value is always at the front)."
   ]
  },
  {
   "cell_type": "markdown",
   "metadata": {},
   "source": [
    "## Binary Heap (Min Heap) Implementation\n",
    "### Binary Heap Operations\n",
    "* BinaryHeap() creates a new, empty, binary heap.\n",
    "* insert(k) adds a new item to the heap.\n",
    "* findMin() returns the item with the minimum key value, leaving item in the heap.\n",
    "* delMin() returns the item with the minimum key value, removing the item from the heap.\n",
    "* isEmpty() returns true if the heap is empty, false otherwise.\n",
    "* size() returns the number of items in the heap.\n",
    "<br>\n",
    "\n",
    "* buildHeap(list) builds a new heap from a list of keys\n",
    "    * to insert n keys into the heap would require a total O(nlogn) operations.\n",
    "        * O(logn) to find the position\n",
    "        * O(n) to shift the rest of the list\n",
    "    * However if we start with an entire list, we can build the heap in **O(n)**."
   ]
  },
  {
   "cell_type": "code",
   "execution_count": 1,
   "metadata": {},
   "outputs": [],
   "source": [
    "class BinHeap:\n",
    "    def __init__(self):\n",
    "        self.heapList = [0]\n",
    "        self.currentSize = 0\n",
    "\n",
    "    def percUp(self,i):\n",
    "        while i // 2 > 0:\n",
    "            if self.heapList[i] < self.heapList[i // 2]:\n",
    "                tmp = self.heapList[i // 2]\n",
    "                self.heapList[i // 2] = self.heapList[i]\n",
    "                self.heapList[i] = tmp\n",
    "            i = i // 2\n",
    "\n",
    "    def insert(self,k):\n",
    "        self.heapList.append(k)\n",
    "        self.currentSize = self.currentSize + 1\n",
    "        self.percUp(self.currentSize)\n",
    "\n",
    "    def minChild(self,i):\n",
    "        if i * 2 + 1 > self.currentSize:\n",
    "            return i * 2\n",
    "        else:\n",
    "            if self.heapList[i*2] < self.heapList[i*2+1]:\n",
    "                return i * 2\n",
    "            else:\n",
    "                return i * 2 + 1\n",
    "\n",
    "    def percDown(self,i):\n",
    "        while (i * 2) <= self.currentSize:\n",
    "            mc = self.minChild(i)\n",
    "            if self.heapList[i] > self.heapList[mc]:\n",
    "                tmp = self.heapList[i]\n",
    "                self.heapList[i] = self.heapList[mc]\n",
    "                self.heapList[mc] = tmp\n",
    "            i = mc\n",
    "\n",
    "    def delMin(self):\n",
    "        # restore the root with the last item, then push it down\n",
    "        retval = self.heapList[1]\n",
    "        self.heapList[1] = self.heapList[self.currentSize]\n",
    "        self.currentSize = self.currentSize - 1\n",
    "        self.heapList.pop()\n",
    "        self.percDown(1)\n",
    "        return retval\n",
    "\n",
    "    def buildHeap(self,alist):\n",
    "        i = len(alist) // 2 # all index past the half are leaves\n",
    "        self.currentSize = len(alist)\n",
    "        self.heapList = [0] + alist[:]\n",
    "        while (i > 0):\n",
    "            self.percDown(i)\n",
    "            i = i - 1"
   ]
  },
  {
   "cell_type": "markdown",
   "metadata": {},
   "source": [
    "## References\n",
    "* [(2019 Jose) Trees](https://www.udemy.com/course/python-for-data-structures-algorithms-and-interviews/)\n",
    "* [Wikipedia: Binary Heap](https://en.wikipedia.org/wiki/Binary_heap)"
   ]
  },
  {
   "cell_type": "code",
   "execution_count": null,
   "metadata": {},
   "outputs": [],
   "source": []
  }
 ],
 "metadata": {
  "kernelspec": {
   "display_name": "Python 3",
   "language": "python",
   "name": "python3"
  },
  "language_info": {
   "codemirror_mode": {
    "name": "ipython",
    "version": 3
   },
   "file_extension": ".py",
   "mimetype": "text/x-python",
   "name": "python",
   "nbconvert_exporter": "python",
   "pygments_lexer": "ipython3",
   "version": "3.7.6"
  }
 },
 "nbformat": 4,
 "nbformat_minor": 1
}
