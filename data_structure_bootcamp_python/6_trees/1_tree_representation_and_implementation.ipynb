{
 "cells": [
  {
   "cell_type": "markdown",
   "metadata": {},
   "source": [
    "# Basics of Trees\n",
    "Yang Xi\n",
    "29 Sep 2020\n",
    "\n",
    "<br>\n",
    "\n",
    "* Introduction\n",
    "* Terminologies\n",
    "* Recursive Definition of a Tree\n",
    "* Example of Trees\n",
    "* Binary Tree Implementation\n",
    "* Tree Traversal\n",
    "* Tree Traversal Implementation\n",
    "\n",
    "<br>\n"
   ]
  },
  {
   "cell_type": "markdown",
   "metadata": {},
   "source": [
    "## Introduction\n",
    "Trees in general is a vast topic. This section will only cover the basics of trees and Abstract Data Types (ADT).\n",
    "\n",
    "A **tree** consists of a set of nodes and a set of edges that connect pairs of nodes.<br>\n",
    "A tree has the following properties:\n",
    "* One node of the tree is designated as the root node.\n",
    "* Every node (excempt the root node) is connected by an edge from exactly one other node, which is the parent of the node.\n",
    "* A unique path traverses from the root to each node.\n",
    "* All children of one node are independent of children of another node.\n",
    "* Each leaf node is unique.\n",
    "\n",
    "If each node has maximum two children, the tree is a **binary tree**. "
   ]
  },
  {
   "cell_type": "markdown",
   "metadata": {},
   "source": [
    "## Terminologies\n",
    "* **Node**: Fundamental part of a tree.\n",
    "    * **Key**: name of the node\n",
    "    * **Payload**: additional information of the node\n",
    "* **Edge**: Connects two nodes\n",
    "    * Every node (except root) is connected by **exactly one incoming** edge.\n",
    "    * A node may have **multiple outgoing** edges.\n",
    "    * **Root** is the only node without incoming edge.\n",
    "* **Path**: An ordered list of nodes connected by edges.\n",
    "* **Children**: Set of nodes with incoming edges from the same node are the children of that node.\n",
    "* **Parent**: A node is the parent of allnodes it connects to with outgoing edges.\n",
    "* **Sibling**: Nodes that are children of the same parent.\n",
    "* **Leaf**: A node without children.\n",
    "* **Level**: Number of edges on the path from the root to a node.\n",
    "* **Height**: Maximum level of any node in the tree.\n",
    "* **SubTree**: A set of nodes and edges comprised of a parent and all the descendants of that parent."
   ]
  },
  {
   "cell_type": "markdown",
   "metadata": {},
   "source": [
    "## Recursive Definition of a Tree\n",
    "A tree is either empty or consists of a root and zero or more subtrees, each of which is also a tree.\n",
    "\n",
    "The root of each subtree is connected to the root of the parent tree by an edge."
   ]
  },
  {
   "cell_type": "markdown",
   "metadata": {},
   "source": [
    "## Example of Trees\n",
    "* file system\n",
    "* webpage (HTML)"
   ]
  },
  {
   "cell_type": "markdown",
   "metadata": {},
   "source": [
    "## Binary Tree Implementation"
   ]
  },
  {
   "cell_type": "code",
   "execution_count": 1,
   "metadata": {},
   "outputs": [],
   "source": [
    "class BinaryTree(object):\n",
    "    def __init__(self,rootObj):\n",
    "        self.key = rootObj\n",
    "        self.leftChild = None\n",
    "        self.rightChild = None\n",
    "\n",
    "    def insertLeft(self,newNode):\n",
    "        if self.leftChild == None:\n",
    "            self.leftChild = BinaryTree(newNode)\n",
    "        else:\n",
    "            t = BinaryTree(newNode)\n",
    "            t.leftChild = self.leftChild\n",
    "            self.leftChild = t\n",
    "\n",
    "    def insertRight(self,newNode):\n",
    "        if self.rightChild == None:\n",
    "            self.rightChild = BinaryTree(newNode)\n",
    "        else:\n",
    "            t = BinaryTree(newNode)\n",
    "            t.rightChild = self.rightChild\n",
    "            self.rightChild = t\n",
    "\n",
    "\n",
    "    def getRightChild(self):\n",
    "        return self.rightChild\n",
    "\n",
    "    def getLeftChild(self):\n",
    "        return self.leftChild\n",
    "\n",
    "    def setRootVal(self,obj):\n",
    "        self.key = obj\n",
    "\n",
    "    def getRootVal(self):\n",
    "        return self.key"
   ]
  },
  {
   "cell_type": "code",
   "execution_count": 2,
   "metadata": {},
   "outputs": [
    {
     "name": "stdout",
     "output_type": "stream",
     "text": [
      "R\n",
      "None\n"
     ]
    }
   ],
   "source": [
    "r = BinaryTree('R')\n",
    "print(r.getRootVal())\n",
    "print(r.getLeftChild())"
   ]
  },
  {
   "cell_type": "code",
   "execution_count": 3,
   "metadata": {},
   "outputs": [
    {
     "name": "stdout",
     "output_type": "stream",
     "text": [
      "L1\n"
     ]
    }
   ],
   "source": [
    "r.insertLeft('L1')\n",
    "print(r.getLeftChild().getRootVal())"
   ]
  },
  {
   "cell_type": "code",
   "execution_count": 4,
   "metadata": {},
   "outputs": [
    {
     "name": "stdout",
     "output_type": "stream",
     "text": [
      "R1\n"
     ]
    }
   ],
   "source": [
    "r.insertRight('R1')\n",
    "print(r.getRightChild().getRootVal())"
   ]
  },
  {
   "cell_type": "code",
   "execution_count": 5,
   "metadata": {},
   "outputs": [
    {
     "name": "stdout",
     "output_type": "stream",
     "text": [
      "R2\n"
     ]
    }
   ],
   "source": [
    "r.getRightChild().setRootVal('R2')\n",
    "print(r.getRightChild().getRootVal())"
   ]
  },
  {
   "cell_type": "code",
   "execution_count": 6,
   "metadata": {},
   "outputs": [
    {
     "name": "stdout",
     "output_type": "stream",
     "text": [
      "R1\n",
      "R2\n"
     ]
    }
   ],
   "source": [
    "r.insertRight('R1')\n",
    "print(r.getRightChild().getRootVal())\n",
    "print(r.getRightChild().getRightChild().getRootVal())"
   ]
  },
  {
   "cell_type": "markdown",
   "metadata": {},
   "source": [
    "## Tree Traversal\n",
    "There are three main methods to **traverse through a tree** (visit all nodes in a tree):\n",
    "* **Preorder**\n",
    "     1. Start from root\n",
    "     2. Recursive preorder traversal of the left subtree\n",
    "     3. Recursive preorder traversal of the right subtree\n",
    "* **Inorder**\n",
    "    1. Recursive inorder traversal of the left subtree\n",
    "    2. Visit the root\n",
    "    3. Recursive inorder traversal of the right subtree\n",
    "* **Postorder**\n",
    "    1. Recursive postorder traversal of the left subtree\n",
    "    2. Recursive postorder traversal of the right subtree\n",
    "    3. Visit the root\n",
    "\n",
    "Traversal is usually implemented as an external function outside the tree object, because you very rarely want to just traverse the tree. Mostly likely you want to achieve something else while traversing the tree."
   ]
  },
  {
   "cell_type": "markdown",
   "metadata": {},
   "source": [
    "## Tree Traversal Implementation"
   ]
  },
  {
   "cell_type": "code",
   "execution_count": 9,
   "metadata": {},
   "outputs": [
    {
     "name": "stdout",
     "output_type": "stream",
     "text": [
      "R\n",
      "L1\n",
      "R1\n",
      "R2\n"
     ]
    }
   ],
   "source": [
    "def preorder(tree):\n",
    "    if tree:\n",
    "        print(tree.getRootVal())\n",
    "        preorder(tree.getLeftChild())\n",
    "        preorder(tree.getRightChild())\n",
    "\n",
    "preorder(r)"
   ]
  },
  {
   "cell_type": "code",
   "execution_count": 10,
   "metadata": {},
   "outputs": [
    {
     "name": "stdout",
     "output_type": "stream",
     "text": [
      "L1\n",
      "R2\n",
      "R1\n",
      "R\n"
     ]
    }
   ],
   "source": [
    "def postorder(tree):\n",
    "    if tree:        \n",
    "        postorder(tree.getLeftChild())\n",
    "        postorder(tree.getRightChild())\n",
    "        print(tree.getRootVal())\n",
    "\n",
    "postorder(r)"
   ]
  },
  {
   "cell_type": "code",
   "execution_count": 11,
   "metadata": {},
   "outputs": [
    {
     "name": "stdout",
     "output_type": "stream",
     "text": [
      "L1\n",
      "R\n",
      "R1\n",
      "R2\n"
     ]
    }
   ],
   "source": [
    "def inorder(tree):\n",
    "    if tree:        \n",
    "        inorder(tree.getLeftChild())\n",
    "        print(tree.getRootVal())\n",
    "        inorder(tree.getRightChild())\n",
    "\n",
    "inorder(r)"
   ]
  },
  {
   "cell_type": "code",
   "execution_count": null,
   "metadata": {},
   "outputs": [],
   "source": []
  }
 ],
 "metadata": {
  "kernelspec": {
   "display_name": "Python 3",
   "language": "python",
   "name": "python3"
  },
  "language_info": {
   "codemirror_mode": {
    "name": "ipython",
    "version": 3
   },
   "file_extension": ".py",
   "mimetype": "text/x-python",
   "name": "python",
   "nbconvert_exporter": "python",
   "pygments_lexer": "ipython3",
   "version": "3.7.6"
  }
 },
 "nbformat": 4,
 "nbformat_minor": 1
}
