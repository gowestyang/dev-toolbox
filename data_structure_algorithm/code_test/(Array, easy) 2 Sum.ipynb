{
 "cells": [
  {
   "cell_type": "markdown",
   "source": [
    "# Two Number Sum\r\n",
    "\r\n",
    "## Problem\r\n",
    "Write a function that takes in a non-empty array of distinct integers and an integer representing a target sum.<br>\r\n",
    "If any two numbers in the input array sum up to the target sum, the function should return them in an array, in any order.<br>\r\n",
    "If no two numbers sum up to the target sum, the function should return an empty array.<br>\r\n",
    "\r\n",
    "Note that the target sum has to be obtained by summing two different integers in the array;<br>\r\n",
    "you can't add a single integer to itself in order to obtain the target sum.<br>\r\n",
    "\r\n",
    "You can assume that there will be at most one pair of numbers summing up to the target sum.<br>\r\n",
    "\r\n",
    "**Example**:\r\n",
    "* inputs:\r\n",
    "    * array = [3, 5, -4, 8, 11, 1, -1, 6]\r\n",
    "    * targetSum = 10\r\n",
    "* output: [-1, 11]"
   ],
   "metadata": {}
  },
  {
   "cell_type": "markdown",
   "source": [
    "## Solution (best time)\r\n",
    "\r\n",
    "O(n) time | O(n) space\r\n",
    "\r\n",
    "Use a hash table"
   ],
   "metadata": {}
  },
  {
   "cell_type": "code",
   "execution_count": 3,
   "source": [
    "def solution(array, targetSum):\r\n",
    "    nums = {}\r\n",
    "    for num in array:\r\n",
    "        potentialMatch = targetSum - num\r\n",
    "        if potentialMatch in nums:\r\n",
    "            return [potentialMatch, num]\r\n",
    "        else:\r\n",
    "            nums[num] = True\r\n",
    "    return []\r\n"
   ],
   "outputs": [],
   "metadata": {}
  },
  {
   "cell_type": "markdown",
   "source": [
    "## Solution (best space)\r\n",
    "\r\n",
    "O(nlog(n)) time | O(1) space"
   ],
   "metadata": {}
  },
  {
   "cell_type": "code",
   "execution_count": 1,
   "source": [
    "def solution(array, targetSum):\r\n",
    "    array.sort()\r\n",
    "    left = 0\r\n",
    "    right = len(array) - 1\r\n",
    "    while left < right:\r\n",
    "        currentSum = array[left] + array[right]\r\n",
    "        if currentSum == targetSum:\r\n",
    "            return [array[left], array[right]]\r\n",
    "        elif currentSum < targetSum:\r\n",
    "            left += 1\r\n",
    "        elif currentSum > targetSum:\r\n",
    "            right -= 1\r\n",
    "    return []\r\n"
   ],
   "outputs": [],
   "metadata": {}
  },
  {
   "cell_type": "markdown",
   "source": [
    "## Solution (loops)\r\n",
    "\r\n",
    "O(n^2) time | O(1) space"
   ],
   "metadata": {}
  },
  {
   "cell_type": "code",
   "execution_count": 2,
   "source": [
    "def solution(array, targetSum):\r\n",
    "    for i in range(len(array) - 1):\r\n",
    "        firstNum = array[i]\r\n",
    "        for j in range(i + 1, len(array)):\r\n",
    "            secondNum = array[j]\r\n",
    "            if firstNum + secondNum == targetSum:\r\n",
    "                return [firstNum, secondNum]\r\n",
    "    return []"
   ],
   "outputs": [],
   "metadata": {}
  },
  {
   "cell_type": "markdown",
   "source": [
    "## Test Cases"
   ],
   "metadata": {}
  },
  {
   "cell_type": "code",
   "execution_count": 4,
   "source": [
    "from nose.tools import assert_equal\r\n",
    "\r\n",
    "assert_equal(solution([3, 5, -4, 8, 11, 1, -1, 6], 10),[11, -1])\r\n",
    "assert_equal(solution([4, 6], 10),[4, 6])\r\n",
    "assert_equal(solution([1, 2, 3, 4, 5, 6, 7, 8, 9], 17),[8, 9])\r\n",
    "assert_equal(solution([-7, -5, -3, -1, 0, 1, 3, 5, 7], -5),[-5, 0])\r\n",
    "assert_equal(solution([-21, 301, 12, 4, 65, 56, 210, 356, 9, -47], 163),[210, -47])\r\n",
    "assert_equal(solution([3, 5, -4, 8, 11, 1, -1, 6], 15),[])\r\n",
    "assert_equal(solution([14], 15),[])\r\n",
    "assert_equal(solution([15], 15),[])\r\n",
    "\r\n",
    "print('ALL TEST CASES PASSED')"
   ],
   "outputs": [
    {
     "output_type": "stream",
     "name": "stdout",
     "text": [
      "ALL TEST CASES PASSED\n"
     ]
    }
   ],
   "metadata": {}
  }
 ],
 "metadata": {
  "kernelspec": {
   "name": "python3",
   "display_name": "Python 3.8.8 64-bit ('base': conda)"
  },
  "language_info": {
   "codemirror_mode": {
    "name": "ipython",
    "version": 3
   },
   "file_extension": ".py",
   "mimetype": "text/x-python",
   "name": "python",
   "nbconvert_exporter": "python",
   "pygments_lexer": "ipython3",
   "version": "3.8.8"
  },
  "interpreter": {
   "hash": "7b4b4feff2f24a0f0a34464dbe537a36fda679851528fb8735cb41fa49dffb2d"
  }
 },
 "nbformat": 4,
 "nbformat_minor": 1
}