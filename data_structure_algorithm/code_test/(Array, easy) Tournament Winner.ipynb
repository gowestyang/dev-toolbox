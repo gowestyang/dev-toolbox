{
 "cells": [
  {
   "cell_type": "markdown",
   "source": [
    "# Tournament Winner\r\n",
    "\r\n",
    "## Problem\r\n",
    "There's an algorithms tournament taking place in which teams of programmers compete against each other to solve algorithmic problems as fast as possible.<br>\r\n",
    "Teams compete in a round robin, where each team faces off against all other teams.<br>\r\n",
    "Only two teams compete against each other at a time, and for each competition, one team is designated the home team, while the other team is the away team.<br>\r\n",
    "In each competition there's always one winner and one loser; there are no ties.<br>\r\n",
    "A team receives 3 points if it wins and 0 points if it loses.<br>\r\n",
    "The winner of the tournament is the team that receives the most amount of points.<br>\r\n",
    "\r\n",
    "Given an array of pairs representing the teams that have competed against each other,<br>\r\n",
    "and an array containing the results of each competition,<br>\r\n",
    "write a function that returns the winner of the tournament.<br>\r\n",
    "\r\n",
    "The input arrays are named competitions and results, respectively.<br>\r\n",
    "The competitions array has elements in the form of [homeTeam, awayTeam], where each team is a string of at most 30 characters representing the name of the team.<br>\r\n",
    "The results array contains information about the winner of each corresponding competition in the competitions array.<br>\r\n",
    "Specifically, results[i] denotes the winner of competitions[i], where a 1 in the results array means that the home team in the corresponding competition won and a 0 means that the away team won.<br>\r\n",
    "\r\n",
    "It's guaranteed that exactly one team will win the tournament and that each team will compete against all other teams exactly once.<br>\r\n",
    "It's also guaranteed that the tournament will always have at least two teams.\r\n",
    "\r\n",
    "\r\n",
    "**Example**:\r\n",
    "* inputs:\r\n",
    "    * competitions = [[\"HTML\", \"C#\"], [\"C#\", \"Python\"], [\"Python\", \"HTML\"]]\r\n",
    "    * results = [0, 0, 1]\r\n",
    "* output: \"Python\""
   ],
   "metadata": {}
  },
  {
   "cell_type": "markdown",
   "source": [
    "## Solution\r\n",
    "\r\n",
    "O(n) time | O(k) space - here n is the number of competitions and k is the number of teams\r\n",
    "\r\n",
    "Yang Xi: Use a hash table to update scores of each team, same as how competitions do in real life."
   ],
   "metadata": {}
  },
  {
   "cell_type": "code",
   "execution_count": 2,
   "source": [
    "HOME_TEAM_WON = 1\r\n",
    "\r\n",
    "def solution(competitions, results):\r\n",
    "    currentBestTeam = \"\"\r\n",
    "    scores = {currentBestTeam: 0} # O(k) space\r\n",
    "\r\n",
    "    for idx, competition in enumerate(competitions): # O(n) time\r\n",
    "        result = results[idx]\r\n",
    "        homeTeam, awayTeam = competition\r\n",
    "\r\n",
    "        winningTeam = homeTeam if result == HOME_TEAM_WON else awayTeam\r\n",
    "\r\n",
    "        updateScores(winningTeam, 3, scores)\r\n",
    "\r\n",
    "        if scores[winningTeam] > scores[currentBestTeam]:\r\n",
    "            currentBestTeam = winningTeam\r\n",
    "    return currentBestTeam\r\n",
    "\r\n",
    "\r\n",
    "def updateScores(team, points, scores):\r\n",
    "    if team not in scores:\r\n",
    "        scores[team] = 0\r\n",
    "    scores[team] += points"
   ],
   "outputs": [],
   "metadata": {}
  },
  {
   "cell_type": "markdown",
   "source": [
    "## Test Cases"
   ],
   "metadata": {}
  },
  {
   "cell_type": "code",
   "execution_count": 3,
   "source": [
    "from nose.tools import assert_equal\r\n",
    "\r\n",
    "assert_equal(solution([[\"HTML\", \"C#\"], [\"C#\", \"Python\"], [\"Python\", \"HTML\"]], [0, 0, 1]), \"Python\")\r\n",
    "\r\n",
    "\r\n",
    "print('ALL TEST CASES PASSED')"
   ],
   "outputs": [
    {
     "output_type": "stream",
     "name": "stdout",
     "text": [
      "ALL TEST CASES PASSED\n"
     ]
    }
   ],
   "metadata": {}
  }
 ],
 "metadata": {
  "kernelspec": {
   "name": "python3",
   "display_name": "Python 3.8.8 64-bit ('base': conda)"
  },
  "language_info": {
   "codemirror_mode": {
    "name": "ipython",
    "version": 3
   },
   "file_extension": ".py",
   "mimetype": "text/x-python",
   "name": "python",
   "nbconvert_exporter": "python",
   "pygments_lexer": "ipython3",
   "version": "3.8.8"
  },
  "interpreter": {
   "hash": "7b4b4feff2f24a0f0a34464dbe537a36fda679851528fb8735cb41fa49dffb2d"
  }
 },
 "nbformat": 4,
 "nbformat_minor": 1
}