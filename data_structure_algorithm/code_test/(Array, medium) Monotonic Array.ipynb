{
 "cells": [
  {
   "cell_type": "markdown",
   "source": [
    "# Monotonic Array\r\n",
    "\r\n",
    "## Problem\r\n",
    "Write a function that takes in an array of integers and returns a boolean representing whether the array is monotonic.<br>\r\n",
    "\r\n",
    "An array is said to be monotonic if its elements, from left to right, are entirely non-increasing or entirely non-decreasing.<br>\r\n",
    "Non-increasing elements aren't necessarily exclusively decreasing; they simply don't increase.<br>\r\n",
    "Similarly, non-decreasing elements aren't necessarily exclusively increasing; they simply don't decrease.<br>\r\n",
    "\r\n",
    "Note that empty arrays and arrays of one element are monotonic.\r\n",
    "\r\n",
    "**Example**:\r\n",
    "* inputs:\r\n",
    "    * array = [-1, -5, -10, -1100, -1100, -1101, -1102, -9001]\r\n",
    "* output: True"
   ],
   "metadata": {}
  },
  {
   "cell_type": "markdown",
   "source": [
    "## Solution\r\n",
    "\r\n",
    "O(n) time | O(1) space - where n is the length of the array"
   ],
   "metadata": {}
  },
  {
   "cell_type": "code",
   "execution_count": 1,
   "source": [
    "def solution(array):\r\n",
    "    if len(array) <= 2:\r\n",
    "        return True\r\n",
    "\r\n",
    "    direction = array[1] - array[0]\r\n",
    "    for i in range(2, len(array)):\r\n",
    "        if direction == 0:\r\n",
    "            direction = array[i] - array[i - 1]\r\n",
    "            continue\r\n",
    "        if breaksDirection(direction, array[i - 1], array[i]):\r\n",
    "            return False\r\n",
    "    return True\r\n",
    "\r\n",
    "def breaksDirection(direction, previousInt, currentInt):\r\n",
    "    difference = currentInt - previousInt\r\n",
    "    if direction > 0:\r\n",
    "        return difference < 0\r\n",
    "    return difference > 0\r\n"
   ],
   "outputs": [],
   "metadata": {}
  },
  {
   "cell_type": "markdown",
   "source": [
    "## Test Cases"
   ],
   "metadata": {}
  },
  {
   "cell_type": "code",
   "execution_count": 3,
   "source": [
    "from nose.tools import assert_equal\r\n",
    "\r\n",
    "assert_equal(solution([-1, -5, -10, -1100, -1100, -1101, -1102, -9001]), True)\r\n",
    "assert_equal(solution([1, 2, 3, 3, 2, 1]), False)\r\n",
    "assert_equal(solution([]), True)\r\n",
    "assert_equal(solution([-1]), True)\r\n",
    "assert_equal(solution([-1, -1, -2, -3, -4, -5, -5, -5, -6, -7, -8, -7, -9, -10, -11]), False)\r\n",
    "print('ALL TEST CASES PASSED')"
   ],
   "outputs": [
    {
     "output_type": "stream",
     "name": "stdout",
     "text": [
      "ALL TEST CASES PASSED\n"
     ]
    }
   ],
   "metadata": {}
  }
 ],
 "metadata": {
  "kernelspec": {
   "name": "python3",
   "display_name": "Python 3.8.8 64-bit ('base': conda)"
  },
  "language_info": {
   "codemirror_mode": {
    "name": "ipython",
    "version": 3
   },
   "file_extension": ".py",
   "mimetype": "text/x-python",
   "name": "python",
   "nbconvert_exporter": "python",
   "pygments_lexer": "ipython3",
   "version": "3.8.8"
  },
  "interpreter": {
   "hash": "7b4b4feff2f24a0f0a34464dbe537a36fda679851528fb8735cb41fa49dffb2d"
  }
 },
 "nbformat": 4,
 "nbformat_minor": 1
}