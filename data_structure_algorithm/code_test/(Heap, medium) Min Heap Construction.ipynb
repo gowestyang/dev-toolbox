{
 "cells": [
  {
   "cell_type": "markdown",
   "source": [
    "# Min Heap Construction\r\n",
    "\r\n",
    "## Problem\r\n",
    "Implement a MinHeap class that supports:\r\n",
    "* Building a Min Heap from an input array of integers.\r\n",
    "* Inserting integers in the heap.\r\n",
    "* Removing the heap's minimum / root value.\r\n",
    "* Peeking at the heap's minimum / root value.\r\n",
    "* Sifting integers up and down the heap, which is to be used when inserting and removing values.\r\n",
    "\r\n",
    "Note that the heap should be represented in the form of an array.<br>\r\n",
    "\r\n",
    "A **binary heap** is a binary tree with two additional constrains:\r\n",
    "* Shape Property: a bineary heap is a complete binary tree; that is, all levels of the tree, except possibly the last one (deepest) are fully filled, and, if the last level of the tree is not complete, the nodes of that level are filled from left to right.\r\n",
    "* Heap property: the key stored in each node is either greater than or equal to (≥) or less than or equal to (≤) the keys in the node's children, according to some total order.\r\n",
    "    * **max-heap**: parent key >= child keys; as a result, root is always the maximum\r\n",
    "    * **min-heap**: parent key <= child keys; as a result, root is always the mininum\r\n",
    "\r\n",
    "Heap data structure has many applications, including implementation of heapsort, priority queue, and etc.\r\n",
    "\r\n",
    "**Example**: a min-heap [-5, 2, 6, 7, 8, 8, 24, 391, 24, 56, 12, 24, 48, 41]\r\n",
    "```\r\n",
    "           -5\r\n",
    "       /         \\\r\n",
    "      2           6\r\n",
    "    /   \\       /   \\\r\n",
    "   7     8     8     24\r\n",
    "  / \\   / \\   / \\   /\r\n",
    "391 24 56 12 24 48 41\r\n",
    "\r\n",
    "```"
   ],
   "metadata": {}
  },
  {
   "cell_type": "markdown",
   "source": [
    "## Solution"
   ],
   "metadata": {}
  },
  {
   "cell_type": "code",
   "execution_count": 1,
   "source": [
    "class MinHeap:\r\n",
    "    def __init__(self, array):\r\n",
    "        self.heap = self.buildHeap(array)\r\n",
    "    \r\n",
    "    # O(n) time | O(1) space\r\n",
    "    def buildHeap(self, array):\r\n",
    "        firstParentIdx = (len(array) - 2) // 2\r\n",
    "        for currentIdx in reversed(range(firstParentIdx + 1)):\r\n",
    "            self.siftDown(currentIdx, len(array) - 1, array)\r\n",
    "        return array\r\n",
    "\r\n",
    "    # O(log(n)) time | O(1) space\r\n",
    "    def siftDown(self, currentIdx, endIdx, heap):\r\n",
    "        childOneIdx = currentIdx * 2 + 1\r\n",
    "        while childOneIdx <= endIdx:\r\n",
    "            childTwoIdx = currentIdx * 2 + 2 if currentIdx * 2 + 2 <= endIdx else -1\r\n",
    "            if childTwoIdx != -1 and heap[childTwoIdx] < heap[childOneIdx]:\r\n",
    "                idxToSwap = childTwoIdx\r\n",
    "            else:\r\n",
    "                idxToSwap = childOneIdx\r\n",
    "            if heap[idxToSwap] < heap[currentIdx]:\r\n",
    "                self.swap(currentIdx, idxToSwap, heap)\r\n",
    "                currentIdx = idxToSwap\r\n",
    "                childOneIdx = currentIdx * 2 + 1\r\n",
    "            else:\r\n",
    "                return\r\n",
    "\r\n",
    "    # O(log(n)) time | O(1) space\r\n",
    "    def siftUp(self, currentIdx, heap):\r\n",
    "        parentIdx = (currentIdx - 1) // 2\r\n",
    "        while currentIdx > 0 and heap[currentIdx] < heap[parentIdx]:\r\n",
    "            self.swap(currentIdx, parentIdx, heap)\r\n",
    "            currentIdx = parentIdx\r\n",
    "            parentIdx = (currentIdx - 1) // 2\r\n",
    "    \r\n",
    "    # O(1) time | O(1) space\r\n",
    "    def peek(self):\r\n",
    "        return self.heap[0]\r\n",
    "    \r\n",
    "    # O(log(n)) time | O(1) space\r\n",
    "    def remove(self):\r\n",
    "        self.swap(0, len(self.heap) - 1, self.heap)\r\n",
    "        valueToRemove = self.heap.pop()\r\n",
    "        self.siftDown(0, len(self.heap) - 1, self.heap)\r\n",
    "        return valueToRemove\r\n",
    "\r\n",
    "    # O(log(n)) time | O(1) space\r\n",
    "    def insert(self, value):\r\n",
    "        self.heap.append(value)\r\n",
    "        self.siftUp(len(self.heap) - 1, self.heap)\r\n",
    "\r\n",
    "    def swap(self, i, j, heap):\r\n",
    "        heap[i], heap[j] = heap[j], heap[i]"
   ],
   "outputs": [],
   "metadata": {}
  },
  {
   "cell_type": "markdown",
   "source": [
    "## Test Cases"
   ],
   "metadata": {}
  },
  {
   "cell_type": "code",
   "execution_count": 2,
   "source": [
    "from nose.tools import assert_equal\r\n",
    "\r\n",
    "minheap = MinHeap([48, 12, 24, 7, 8, -5, 24, 391, 24, 56, 2, 6, 8, 41])\r\n",
    "assert_equal(minheap.heap, [-5, 2, 6, 7, 8, 8, 24, 391, 24, 56, 12, 24, 48, 41])\r\n",
    "\r\n",
    "minheap.insert(76)\r\n",
    "assert_equal(minheap.heap, [-5, 2, 6, 7, 8, 8, 24, 391, 24, 56, 12, 24, 48, 41, 76])\r\n",
    "assert_equal(minheap.peek(), -5)\r\n",
    "\r\n",
    "assert_equal(minheap.remove(), -5)\r\n",
    "assert_equal(minheap.heap, [2, 7, 6, 24, 8, 8, 24, 391, 76, 56, 12, 24, 48, 41])\r\n",
    "\r\n",
    "assert_equal(minheap.remove(), 2)\r\n",
    "assert_equal(minheap.heap, [6, 7, 8, 24, 8, 24, 24, 391, 76, 56, 12, 41, 48])\r\n",
    "\r\n",
    "minheap.insert(87)\r\n",
    "assert_equal(minheap.heap, [6, 7, 8, 24, 8, 24, 24, 391, 76, 56, 12, 41, 48, 87])\r\n",
    "\r\n",
    "print('ALL TEST CASES PASSED')"
   ],
   "outputs": [
    {
     "output_type": "stream",
     "name": "stdout",
     "text": [
      "ALL TEST CASES PASSED\n"
     ]
    }
   ],
   "metadata": {}
  }
 ],
 "metadata": {
  "kernelspec": {
   "name": "python3",
   "display_name": "Python 3.8.8 64-bit ('base': conda)"
  },
  "language_info": {
   "codemirror_mode": {
    "name": "ipython",
    "version": 3
   },
   "file_extension": ".py",
   "mimetype": "text/x-python",
   "name": "python",
   "nbconvert_exporter": "python",
   "pygments_lexer": "ipython3",
   "version": "3.8.8"
  },
  "interpreter": {
   "hash": "7b4b4feff2f24a0f0a34464dbe537a36fda679851528fb8735cb41fa49dffb2d"
  }
 },
 "nbformat": 4,
 "nbformat_minor": 1
}