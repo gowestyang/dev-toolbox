{
 "cells": [
  {
   "cell_type": "markdown",
   "source": [
    "# Validate BST\r\n",
    "\r\n",
    "## Problem\r\n",
    "Write a function that takes in a potentially invalid Binary Search Tree (BST) and returns a boolean representing whether the BST is valid.<br>\r\n",
    "\r\n",
    "Each BST node has an integer value, a left child node, and a right child node.<br>\r\n",
    "A node is said to be a valid BST node if and only if it satisfies the BST property:\r\n",
    "* its value is strictly greater than the values of every node to its left;\r\n",
    "* its value is less than or equal to the values of every node to its right;\r\n",
    "* its children nodes are either valid BST nodes themselves or None / null.\r\n",
    "A BST is valid if and only if all of its nodes are valid BST nodes.\r\n",
    "\r\n",
    "**Example**:\r\n",
    "* inputs:\r\n",
    "  * tree = \r\n",
    "  ```\r\n",
    "        10\r\n",
    "       /  \\\r\n",
    "      5    15\r\n",
    "     / \\   / \\\r\n",
    "    2   5 13 22\r\n",
    "   /       \\\r\n",
    "  1         14\r\n",
    "  ```\r\n",
    "* output: True"
   ],
   "metadata": {}
  },
  {
   "cell_type": "markdown",
   "source": [
    "## Solution\r\n",
    "\r\n",
    "O(n) time | O(d) space"
   ],
   "metadata": {}
  },
  {
   "cell_type": "code",
   "execution_count": 1,
   "source": [
    "def validateBst(tree):\r\n",
    "    return validateBstHelper(tree, float(\"-inf\"), float(\"inf\"))\r\n",
    "\r\n",
    "def validateBstHelper(tree, minValue, maxValue):\r\n",
    "    if tree is None:\r\n",
    "        return True\r\n",
    "    if tree.value < minValue or tree.value >= maxValue:\r\n",
    "        return False\r\n",
    "    leftIsValid = validateBstHelper(tree.left, minValue, tree.value)\r\n",
    "    return leftIsValid and validateBstHelper(tree.right, tree.value, maxValue)\r\n"
   ],
   "outputs": [],
   "metadata": {}
  },
  {
   "cell_type": "markdown",
   "source": [
    "## Test Cases"
   ],
   "metadata": {}
  },
  {
   "cell_type": "code",
   "execution_count": 2,
   "source": [
    "from nose.tools import assert_equal\r\n",
    "\r\n",
    "class BST:\r\n",
    "    def __init__(self, value):\r\n",
    "        self.value = value\r\n",
    "        self.left = None\r\n",
    "        self.right = None\r\n",
    "\r\n",
    "inputs = {\r\n",
    "  \"tree\": {\r\n",
    "    \"nodes\": [\r\n",
    "      {\"id\": \"10\", \"left\": \"5\", \"right\": \"15\", \"value\": 10},\r\n",
    "      {\"id\": \"15\", \"left\": \"13\", \"right\": \"22\", \"value\": 15},\r\n",
    "      {\"id\": \"22\", \"left\": None, \"right\": None, \"value\": 22},\r\n",
    "      {\"id\": \"13\", \"left\": None, \"right\": \"14\", \"value\": 13},\r\n",
    "      {\"id\": \"14\", \"left\": None, \"right\": None, \"value\": 14},\r\n",
    "      {\"id\": \"5\", \"left\": \"2\", \"right\": \"5-2\", \"value\": 5},\r\n",
    "      {\"id\": \"5-2\", \"left\": None, \"right\": None, \"value\": 5},\r\n",
    "      {\"id\": \"2\", \"left\": \"1\", \"right\": None, \"value\": 2},\r\n",
    "      {\"id\": \"1\", \"left\": None, \"right\": None, \"value\": 1}\r\n",
    "    ],\r\n",
    "    \"root\": \"10\"\r\n",
    "  }\r\n",
    "}\r\n",
    "\r\n",
    "dTree = dict()\r\n",
    "for d in reversed(inputs['tree']['nodes']):\r\n",
    "    dTree[d['id']] = BST(d['value'])\r\n",
    "    if d['left']:\r\n",
    "        dTree[d['id']].left = dTree[d['left']]\r\n",
    "    if d['right']:\r\n",
    "        dTree[d['id']].right = dTree[d['right']]\r\n",
    "\r\n",
    "tree = dTree[inputs['tree']['root']]\r\n",
    "\r\n",
    "assert_equal(validateBst(tree), True)\r\n",
    "\r\n",
    "print('ALL TEST CASES PASSED')"
   ],
   "outputs": [
    {
     "output_type": "stream",
     "name": "stdout",
     "text": [
      "ALL TEST CASES PASSED\n"
     ]
    }
   ],
   "metadata": {}
  }
 ],
 "metadata": {
  "kernelspec": {
   "name": "python3",
   "display_name": "Python 3.8.8 64-bit ('base': conda)"
  },
  "language_info": {
   "codemirror_mode": {
    "name": "ipython",
    "version": 3
   },
   "file_extension": ".py",
   "mimetype": "text/x-python",
   "name": "python",
   "nbconvert_exporter": "python",
   "pygments_lexer": "ipython3",
   "version": "3.8.8"
  },
  "interpreter": {
   "hash": "7b4b4feff2f24a0f0a34464dbe537a36fda679851528fb8735cb41fa49dffb2d"
  }
 },
 "nbformat": 4,
 "nbformat_minor": 1
}