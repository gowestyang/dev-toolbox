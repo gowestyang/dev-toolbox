{
 "cells": [
  {
   "cell_type": "markdown",
   "source": [
    "# Kadane's Algorithm\r\n",
    "\r\n",
    "## Problem\r\n",
    "Write a function that takes in a non-empty array of integers,<br>\r\n",
    "and returns the maximum sum that can be obtained by summing up all of the integers in a non-empty subarray of the input array.<br>\r\n",
    "A subarray must only contain **adjacent** numbers (numbers next to each other in the input array)\r\n",
    "\r\n",
    "**Example**:\r\n",
    "* inputs:\r\n",
    "    * array = [3, 5, -9, 1, 3, -2, 3, 4, 7, 2, -9, 6, 3, 1, -5, 4]\r\n",
    "* output: 19 (1, 3, -2, 3, 4, 7, 2, -9, 6, 3, 1)\r\n"
   ],
   "metadata": {}
  },
  {
   "cell_type": "markdown",
   "source": [
    "## Solution\r\n",
    "\r\n",
    "O(n) time | O(1) space - where n is the length of the input array"
   ],
   "metadata": {}
  },
  {
   "cell_type": "code",
   "execution_count": 1,
   "source": [
    "def solution(array):\r\n",
    "    maxEndingHere = array[0]\r\n",
    "    maxSoFar = array[0]\r\n",
    "    for i in range(1, len(array)):\r\n",
    "        num = array[i]\r\n",
    "        maxEndingHere = max(num, maxEndingHere + num)\r\n",
    "        maxSoFar = max(maxSoFar, maxEndingHere)\r\n",
    "    return maxSoFar\r\n"
   ],
   "outputs": [],
   "metadata": {}
  },
  {
   "cell_type": "markdown",
   "source": [
    "## Test Cases"
   ],
   "metadata": {}
  },
  {
   "cell_type": "code",
   "execution_count": 2,
   "source": [
    "from nose.tools import assert_equal\r\n",
    "\r\n",
    "assert_equal(solution([3, 5, -9, 1, 3, -2, 3, 4, 7, 2, -9, 6, 3, 1, -5, 4]), 19)\r\n",
    "assert_equal(solution([-10, -2, -9, -4, -8, -6, -7, -1, -3, -5]), -1)\r\n",
    "assert_equal(solution([1, 2, -4, 3, 5, -9, 8, 1, 2]), 11)\r\n",
    "assert_equal(solution([3, 4, -6, 7, 8, -15, 100]), 101)\r\n",
    "assert_equal(solution([8, 5, -9, 1, 3, -2, 3, 4, 7, 2, -18, 6, 3, 1, -5, 6, 20, -23, 15, 1, -3, 4]), 35)\r\n",
    "assert_equal(solution([-2, -1]), -1)\r\n",
    "assert_equal(solution([-10]), -10)\r\n",
    "print('ALL TEST CASES PASSED')"
   ],
   "outputs": [
    {
     "output_type": "stream",
     "name": "stdout",
     "text": [
      "ALL TEST CASES PASSED\n"
     ]
    }
   ],
   "metadata": {}
  }
 ],
 "metadata": {
  "kernelspec": {
   "name": "python3",
   "display_name": "Python 3.8.8 64-bit ('base': conda)"
  },
  "language_info": {
   "codemirror_mode": {
    "name": "ipython",
    "version": 3
   },
   "file_extension": ".py",
   "mimetype": "text/x-python",
   "name": "python",
   "nbconvert_exporter": "python",
   "pygments_lexer": "ipython3",
   "version": "3.8.8"
  },
  "interpreter": {
   "hash": "7b4b4feff2f24a0f0a34464dbe537a36fda679851528fb8735cb41fa49dffb2d"
  }
 },
 "nbformat": 4,
 "nbformat_minor": 1
}