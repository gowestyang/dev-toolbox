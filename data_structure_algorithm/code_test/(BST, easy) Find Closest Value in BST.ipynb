{
 "cells": [
  {
   "cell_type": "markdown",
   "source": [
    "# Find Closest Value In BST\r\n",
    "\r\n",
    "## Problem\r\n",
    "Write a function that takes in a Binary Search Tree (BST) and a target integer value,<br>\r\n",
    "and returns the closest value to that target value contained in the BST.<br>\r\n",
    "\r\n",
    "You can assume that there will only be one closest value.<br>\r\n",
    "\r\n",
    "Each BST node has an integer value, a left child node, and a right child node.<br>\r\n",
    "A node is said to be a valid BST node if and only if it satisfies the BST property:<br>\r\n",
    "* its value is strictly greater than the values of every node to its left;\r\n",
    "* its value is less than or equal to the values of every node to its right;\r\n",
    "* its children nodes are either valid BST nodes themselves or None / null.\r\n",
    "\r\n",
    "**Example**:\r\n",
    "* inputs:\r\n",
    "  * tree = \r\n",
    "  ```\r\n",
    "        10\r\n",
    "       /  \\\r\n",
    "      5    15\r\n",
    "     / \\   / \\\r\n",
    "    2   5 13 22\r\n",
    "   /       \\\r\n",
    "  1         14\r\n",
    "  ```\r\n",
    "  * target = 12\r\n",
    "* output: 13"
   ],
   "metadata": {}
  },
  {
   "cell_type": "markdown",
   "source": [
    "## Solution\r\n",
    "\r\n",
    "Average: O(log(n)) time | O(log(n)) space <br>\r\n",
    "Worst: O(n) time | O(n) space"
   ],
   "metadata": {}
  },
  {
   "cell_type": "code",
   "execution_count": 1,
   "source": [
    "def solution(tree, target):\r\n",
    "    return findClosestValueInBstHelper(tree, target, tree.value)\r\n",
    "\r\n",
    "def findClosestValueInBstHelper(tree, target, closest):\r\n",
    "    if tree is None:\r\n",
    "        return closest\r\n",
    "    if abs(target - closest) > abs(target - tree.value):\r\n",
    "        closest = tree.value\r\n",
    "    if target < tree.value:\r\n",
    "        return findClosestValueInBstHelper(tree.left, target, closest)\r\n",
    "    elif target > tree.value:\r\n",
    "        return findClosestValueInBstHelper(tree.right, target, closest)\r\n",
    "    else:\r\n",
    "        return closest\r\n"
   ],
   "outputs": [],
   "metadata": {}
  },
  {
   "cell_type": "markdown",
   "source": [
    "## Test Cases"
   ],
   "metadata": {}
  },
  {
   "cell_type": "code",
   "execution_count": 2,
   "source": [
    "from nose.tools import assert_equal\r\n",
    "\r\n",
    "# This is the class of the input tree. Do not edit.\r\n",
    "class BST:\r\n",
    "    def __init__(self, value):\r\n",
    "        self.value = value\r\n",
    "        self.left = None\r\n",
    "        self.right = None\r\n",
    "\r\n",
    "inputs = {\r\n",
    "  \"target\": 12,\r\n",
    "  \"tree\": {\r\n",
    "    \"nodes\": [\r\n",
    "      {\"id\": \"10\", \"left\": \"5\", \"right\": \"15\", \"value\": 10},\r\n",
    "      {\"id\": \"15\", \"left\": \"13\", \"right\": \"22\", \"value\": 15},\r\n",
    "      {\"id\": \"22\", \"left\": None, \"right\": None, \"value\": 22},\r\n",
    "      {\"id\": \"13\", \"left\": None, \"right\": \"14\", \"value\": 13},\r\n",
    "      {\"id\": \"14\", \"left\": None, \"right\": None, \"value\": 14},\r\n",
    "      {\"id\": \"5\", \"left\": \"2\", \"right\": \"5-2\", \"value\": 5},\r\n",
    "      {\"id\": \"5-2\", \"left\": None, \"right\": None, \"value\": 5},\r\n",
    "      {\"id\": \"2\", \"left\": \"1\", \"right\": None, \"value\": 2},\r\n",
    "      {\"id\": \"1\", \"left\": None, \"right\": None, \"value\": 1}\r\n",
    "    ],\r\n",
    "    \"root\": \"10\"\r\n",
    "  }\r\n",
    "}\r\n",
    "\r\n",
    "dTree = dict()\r\n",
    "for d in reversed(inputs['tree']['nodes']):\r\n",
    "    dTree[d['id']] = BST(d['value'])\r\n",
    "    if d['left']:\r\n",
    "        dTree[d['id']].left = dTree[d['left']]\r\n",
    "    if d['right']:\r\n",
    "        dTree[d['id']].right = dTree[d['right']]\r\n",
    "\r\n",
    "assert_equal(solution(dTree[inputs['tree']['root']], inputs['target']), 13)\r\n",
    "print('ALL TEST CASES PASSED')"
   ],
   "outputs": [
    {
     "output_type": "stream",
     "name": "stdout",
     "text": [
      "ALL TEST CASES PASSED\n"
     ]
    }
   ],
   "metadata": {}
  }
 ],
 "metadata": {
  "kernelspec": {
   "name": "python3",
   "display_name": "Python 3.8.8 64-bit ('base': conda)"
  },
  "language_info": {
   "codemirror_mode": {
    "name": "ipython",
    "version": 3
   },
   "file_extension": ".py",
   "mimetype": "text/x-python",
   "name": "python",
   "nbconvert_exporter": "python",
   "pygments_lexer": "ipython3",
   "version": "3.8.8"
  },
  "interpreter": {
   "hash": "7b4b4feff2f24a0f0a34464dbe537a36fda679851528fb8735cb41fa49dffb2d"
  }
 },
 "nbformat": 4,
 "nbformat_minor": 1
}