{
 "cells": [
  {
   "cell_type": "markdown",
   "source": [
    "# Move Element To End\r\n",
    "\r\n",
    "## Problem\r\n",
    "You're given an array of integers and an integer.<br>\r\n",
    "Write a function that moves all instances of that integer in the array to the end of the array and returns the array.<br>\r\n",
    "\r\n",
    "The function should perform this in place (i.e., it should mutate the input array) and doesn't need to maintain the order of the other integers.\r\n",
    "\r\n",
    "**Example**:\r\n",
    "* inputs:\r\n",
    "    * array = [2, 1, 2, 2, 2, 3, 4, 2]\r\n",
    "    * toMove = 2\r\n",
    "* output: [1, 3, 4, 2, 2, 2, 2, 2] "
   ],
   "metadata": {}
  },
  {
   "cell_type": "markdown",
   "source": [
    "## Solution\r\n",
    "\r\n",
    "O(n) time | O(1) space - where n is the length of the array\r\n",
    "\r\n",
    "Yang Xi: take note of the \"inplace swap\""
   ],
   "metadata": {}
  },
  {
   "cell_type": "code",
   "execution_count": 1,
   "source": [
    "def solution(array, toMove):\r\n",
    "    i = 0\r\n",
    "    j = len(array) - 1\r\n",
    "    while i < j:\r\n",
    "        while i < j and array[j] == toMove:\r\n",
    "            j -= 1\r\n",
    "        if array[i] == toMove:\r\n",
    "            array[i], array[j] = array[j], array[i]\r\n",
    "        i += 1\r\n",
    "    return array"
   ],
   "outputs": [],
   "metadata": {}
  },
  {
   "cell_type": "markdown",
   "source": [
    "## Test Cases"
   ],
   "metadata": {}
  },
  {
   "cell_type": "code",
   "execution_count": 2,
   "source": [
    "from nose.tools import assert_equal\r\n",
    "\r\n",
    "assert_equal(solution([2, 1, 2, 2, 2, 3, 4, 2], 2), [4, 1, 3, 2, 2, 2, 2, 2])\r\n",
    "assert_equal(solution([5, 1, 2, 5, 5, 3, 4, 6, 7, 5, 8, 9, 10, 11, 5, 5, 12], 5), [12, 1, 2, 11, 10, 3, 4, 6, 7, 9, 8, 5, 5, 5, 5, 5, 5])\r\n",
    "assert_equal(solution([5, 5, 5, 5, 5, 5, 1, 2, 3, 4, 6, 7, 8, 9, 10, 11, 12], 5), [12, 11, 10, 9, 8, 7, 1, 2, 3, 4, 6, 5, 5, 5, 5, 5, 5])\r\n",
    "assert_equal(solution([1, 2, 3, 4, 5], 3), [1, 2, 5, 4, 3])\r\n",
    "print('ALL TEST CASES PASSED')"
   ],
   "outputs": [
    {
     "output_type": "stream",
     "name": "stdout",
     "text": [
      "ALL TEST CASES PASSED\n"
     ]
    }
   ],
   "metadata": {}
  }
 ],
 "metadata": {
  "kernelspec": {
   "name": "python3",
   "display_name": "Python 3.8.8 64-bit ('base': conda)"
  },
  "language_info": {
   "codemirror_mode": {
    "name": "ipython",
    "version": 3
   },
   "file_extension": ".py",
   "mimetype": "text/x-python",
   "name": "python",
   "nbconvert_exporter": "python",
   "pygments_lexer": "ipython3",
   "version": "3.8.8"
  },
  "interpreter": {
   "hash": "7b4b4feff2f24a0f0a34464dbe537a36fda679851528fb8735cb41fa49dffb2d"
  }
 },
 "nbformat": 4,
 "nbformat_minor": 1
}