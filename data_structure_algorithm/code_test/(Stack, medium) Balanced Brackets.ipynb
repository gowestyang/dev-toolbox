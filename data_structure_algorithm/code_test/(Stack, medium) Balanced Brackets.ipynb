{
 "cells": [
  {
   "cell_type": "markdown",
   "source": [
    "# Balanced Brackets\r\n",
    "\r\n",
    "## Problem\r\n",
    "Write a function that takes in a string made up of brackets ( ( , [ , { , ) , ] , and } ) and other optional characters.<br>\r\n",
    "The function should return a boolean representing whether the string is balanced with regards to brackets.<br>\r\n",
    "\r\n",
    "A string is said to be balanced if it has as many opening brackets of a certain type as it has closing brackets of that type and if no\r\n",
    "bracket is unmatched.<br>Note that an opening bracket can't match a corresponding closing bracket that comes before it, and\r\n",
    "similarly, a closing bracket can't match a corresponding opening bracket that comes after it.<br>Also, brackets can't overlap each\r\n",
    "other as in [(]).<br>\r\n",
    "\r\n",
    "All class methods, when considered independently, should run in constant time and with constant space.\r\n",
    "\r\n",
    "**Example**:\r\n",
    "* Inputs:\r\n",
    "    * string = \"([])(){}(())()()\"\r\n",
    "* Output: True"
   ],
   "metadata": {}
  },
  {
   "cell_type": "markdown",
   "source": [
    "## Solution\r\n",
    "\r\n",
    "O(n) time | O(n) space"
   ],
   "metadata": {}
  },
  {
   "cell_type": "code",
   "execution_count": 1,
   "source": [
    "def solution(string):\r\n",
    "    openingBrackets = \"([{\"\r\n",
    "    closingBrackets = \")]}\"\r\n",
    "    matchingBrackets = {\")\": \"(\", \"]\": \"[\", \"}\": \"{\"}\r\n",
    "    stack = []\r\n",
    "    for char in string:\r\n",
    "        if char in openingBrackets:\r\n",
    "            stack.append(char)\r\n",
    "        elif char in closingBrackets:\r\n",
    "            if len(stack) == 0:\r\n",
    "                return False\r\n",
    "            if stack[-1] == matchingBrackets[char]:\r\n",
    "                stack.pop()\r\n",
    "            else:\r\n",
    "                return False\r\n",
    "    return len(stack) == 0\r\n"
   ],
   "outputs": [],
   "metadata": {}
  },
  {
   "cell_type": "markdown",
   "source": [
    "## Test Cases"
   ],
   "metadata": {}
  },
  {
   "cell_type": "code",
   "execution_count": 2,
   "source": [
    "from nose.tools import assert_equal\r\n",
    "\r\n",
    "assert_equal(solution(\"([])(){}(())()()\"), True)\r\n",
    "assert_equal(solution(\"()([])\"), True)\r\n",
    "assert_equal(solution(\"{[[[[({(}))]]]]}\"), False)\r\n",
    "assert_equal(solution(\"(a(\"), False)\r\n",
    "assert_equal(solution(\"()(agawg)[{()gawggaw})]\"), False)\r\n",
    "\r\n",
    "print('ALL TEST CASES PASSED')"
   ],
   "outputs": [
    {
     "output_type": "stream",
     "name": "stdout",
     "text": [
      "ALL TEST CASES PASSED\n"
     ]
    }
   ],
   "metadata": {}
  }
 ],
 "metadata": {
  "kernelspec": {
   "name": "python3",
   "display_name": "Python 3.8.8 64-bit ('base': conda)"
  },
  "language_info": {
   "codemirror_mode": {
    "name": "ipython",
    "version": 3
   },
   "file_extension": ".py",
   "mimetype": "text/x-python",
   "name": "python",
   "nbconvert_exporter": "python",
   "pygments_lexer": "ipython3",
   "version": "3.8.8"
  },
  "interpreter": {
   "hash": "7b4b4feff2f24a0f0a34464dbe537a36fda679851528fb8735cb41fa49dffb2d"
  }
 },
 "nbformat": 4,
 "nbformat_minor": 1
}