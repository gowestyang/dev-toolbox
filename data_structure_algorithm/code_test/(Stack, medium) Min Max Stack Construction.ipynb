{
 "cells": [
  {
   "cell_type": "markdown",
   "source": [
    "# Min Max Stack Construction\r\n",
    "\r\n",
    "## Problem\r\n",
    "Write a MinMaxStack class for a Min Max Stack. The class should support:\r\n",
    "* Pushing and popping values on and off the stack.\r\n",
    "* Peeking at the value at the top of the stack.\r\n",
    "* Getting both the minimum and the maximum values in the stack at any given point in time.\r\n",
    "\r\n",
    "All class methods, when considered independently, should run in constant time and with constant space."
   ],
   "metadata": {}
  },
  {
   "cell_type": "markdown",
   "source": [
    "## Solution"
   ],
   "metadata": {}
  },
  {
   "cell_type": "code",
   "execution_count": 1,
   "source": [
    "class MinMaxStack:\r\n",
    "    def __init__(self):\r\n",
    "        self.minMaxStack = []\r\n",
    "        self.stack = []\r\n",
    "\r\n",
    "    # O(1) time | O(1) space\r\n",
    "    def peek(self):\r\n",
    "        return self.stack[len(self.stack) - 1]\r\n",
    "    \r\n",
    "    # O(1) time | O(1) space\r\n",
    "    def pop(self):\r\n",
    "        self.minMaxStack.pop()\r\n",
    "        return self.stack.pop()\r\n",
    "    \r\n",
    "    # O(1) time | O(1) space\r\n",
    "    def push(self, number):\r\n",
    "        newMinMax = {\"min\": number, \"max\": number}\r\n",
    "        if len(self.minMaxStack):\r\n",
    "            lastMinMax = self.minMaxStack[len(self.minMaxStack) - 1]\r\n",
    "            newMinMax[\"min\"] = min(lastMinMax[\"min\"], number)\r\n",
    "            newMinMax[\"max\"] = max(lastMinMax[\"max\"], number)\r\n",
    "        self.minMaxStack.append(newMinMax)\r\n",
    "        self.stack.append(number)\r\n",
    "\r\n",
    "    # O(1) time | O(1) space\r\n",
    "    def getMin(self):\r\n",
    "        return self.minMaxStack[len(self.minMaxStack) - 1][\"min\"]\r\n",
    "\r\n",
    "    # O(1) time | O(1) space\r\n",
    "    def getMax(self):\r\n",
    "        return self.minMaxStack[len(self.minMaxStack) - 1][\"max\"]\r\n"
   ],
   "outputs": [],
   "metadata": {}
  },
  {
   "cell_type": "markdown",
   "source": [
    "## Test Cases"
   ],
   "metadata": {}
  },
  {
   "cell_type": "code",
   "execution_count": 2,
   "source": [
    "from nose.tools import assert_equal\r\n",
    "\r\n",
    "mmStack = MinMaxStack()\r\n",
    "mmStack.push(5)\r\n",
    "assert_equal(mmStack.getMin(), 5)\r\n",
    "assert_equal(mmStack.getMax(), 5)\r\n",
    "assert_equal(mmStack.peek(), 5)\r\n",
    "\r\n",
    "mmStack.push(7)\r\n",
    "assert_equal(mmStack.getMin(), 5)\r\n",
    "assert_equal(mmStack.getMax(), 7)\r\n",
    "assert_equal(mmStack.peek(), 7)\r\n",
    "\r\n",
    "mmStack.push(2)\r\n",
    "assert_equal(mmStack.getMin(), 2)\r\n",
    "assert_equal(mmStack.getMax(), 7)\r\n",
    "assert_equal(mmStack.peek(), 2)\r\n",
    "\r\n",
    "assert_equal(mmStack.pop(), 2)\r\n",
    "assert_equal(mmStack.pop(), 7)\r\n",
    "assert_equal(mmStack.getMin(), 5)\r\n",
    "assert_equal(mmStack.getMax(), 5)\r\n",
    "assert_equal(mmStack.peek(), 5)\r\n",
    "\r\n",
    "print('ALL TEST CASES PASSED')"
   ],
   "outputs": [
    {
     "output_type": "stream",
     "name": "stdout",
     "text": [
      "ALL TEST CASES PASSED\n"
     ]
    }
   ],
   "metadata": {}
  }
 ],
 "metadata": {
  "kernelspec": {
   "name": "python3",
   "display_name": "Python 3.8.8 64-bit ('base': conda)"
  },
  "language_info": {
   "codemirror_mode": {
    "name": "ipython",
    "version": 3
   },
   "file_extension": ".py",
   "mimetype": "text/x-python",
   "name": "python",
   "nbconvert_exporter": "python",
   "pygments_lexer": "ipython3",
   "version": "3.8.8"
  },
  "interpreter": {
   "hash": "7b4b4feff2f24a0f0a34464dbe537a36fda679851528fb8735cb41fa49dffb2d"
  }
 },
 "nbformat": 4,
 "nbformat_minor": 1
}