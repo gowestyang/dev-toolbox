{
 "cells": [
  {
   "cell_type": "markdown",
   "source": [
    "# Bubble Sort\r\n",
    "\r\n",
    "## Problem\r\n",
    "Write a function that takes in an array of integers and returns a sorted version of that array.<br>\r\n",
    "Use the Bubble Sort algorithm to sort the array.\r\n",
    "\r\n",
    "**Example**:\r\n",
    "* inputs:\r\n",
    "    * array = [8, 5, 2, 9, 5, 6, 3]\r\n",
    "* output: [2, 3, 5, 5, 6, 8, 9]"
   ],
   "metadata": {}
  },
  {
   "cell_type": "markdown",
   "source": [
    "## Solution\r\n",
    "\r\n",
    "* Best: O(n) time | O(1) space\r\n",
    "* Average: O(n^2) time | O(1) space\r\n",
    "* Worst: O(n^2) time | O(1) space\r\n",
    "\r\n",
    "Bubble Sort: in each iteration, keep swaping the adjacent numbers to place the largest to the end."
   ],
   "metadata": {}
  },
  {
   "cell_type": "code",
   "execution_count": 1,
   "source": [
    "def solution(array):\r\n",
    "    isSorted = False\r\n",
    "    counter = 0\r\n",
    "    while not isSorted:\r\n",
    "        isSorted = True\r\n",
    "        for i in range(len(array) - 1 - counter):\r\n",
    "            if array[i] > array[i + 1]:\r\n",
    "                array[i], array[i+1] = array[i+1], array[i]\r\n",
    "                isSorted = False\r\n",
    "        counter += 1\r\n",
    "    return array"
   ],
   "outputs": [],
   "metadata": {}
  },
  {
   "cell_type": "markdown",
   "source": [
    "## Test Cases"
   ],
   "metadata": {}
  },
  {
   "cell_type": "code",
   "execution_count": 3,
   "source": [
    "from nose.tools import assert_equal\r\n",
    "\r\n",
    "assert_equal(solution([8, 5, 2, 9, 5, 6, 3]), [2, 3, 5, 5, 6, 8, 9])\r\n",
    "assert_equal(solution([1, 3, 2]), [1, 2, 3])\r\n",
    "assert_equal(solution([8, -6, 7, 10, 8, -1, 6, 2, 4, -5, 1, 10, 8, -10, -9, -10, 8, 9, -2, 7, -2, 4]), [-10, -10, -9, -6, -5, -2, -2, -1, 1, 2, 4, 4, 6, 7, 7, 8, 8, 8, 8, 9, 10, 10])\r\n",
    "assert_equal(solution([4, 1, 5, 0, -9, -3, -3, 9, 3, -4, -9, 8, 1, -3, -7, -4, -9, -1, -7, -2, -7, 4]), [-9, -9, -9, -7, -7, -7, -4, -4, -3, -3, -3, -2, -1, 0, 1, 1, 3, 4, 4, 5, 8, 9])\r\n",
    "print('ALL TEST CASES PASSED')"
   ],
   "outputs": [
    {
     "output_type": "stream",
     "name": "stdout",
     "text": [
      "ALL TEST CASES PASSED\n"
     ]
    }
   ],
   "metadata": {}
  }
 ],
 "metadata": {
  "kernelspec": {
   "name": "python3",
   "display_name": "Python 3.8.8 64-bit ('base': conda)"
  },
  "language_info": {
   "codemirror_mode": {
    "name": "ipython",
    "version": 3
   },
   "file_extension": ".py",
   "mimetype": "text/x-python",
   "name": "python",
   "nbconvert_exporter": "python",
   "pygments_lexer": "ipython3",
   "version": "3.8.8"
  },
  "interpreter": {
   "hash": "7b4b4feff2f24a0f0a34464dbe537a36fda679851528fb8735cb41fa49dffb2d"
  }
 },
 "nbformat": 4,
 "nbformat_minor": 1
}