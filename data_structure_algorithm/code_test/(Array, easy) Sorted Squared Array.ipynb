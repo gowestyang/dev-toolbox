{
 "cells": [
  {
   "cell_type": "markdown",
   "source": [
    "# Sorted Squared Array\r\n",
    "\r\n",
    "## Problem\r\n",
    "Write a function that takes in a non-empty array of integers that are sorted in ascending order,<br>\r\n",
    "and returns a new array of the same length with the squares of the original integers also sorted in ascending order.\r\n",
    "\r\n",
    "**Example**:\r\n",
    "* inputs:\r\n",
    "    * array = [-7, -3, 1, 9, 22, 30]\r\n",
    "* output: [1, 9, 49, 81, 484, 900]"
   ],
   "metadata": {}
  },
  {
   "cell_type": "markdown",
   "source": [
    "## Solution (best time)\r\n",
    "\r\n",
    "O(n) time | O(n) space - where n is the length of the input array"
   ],
   "metadata": {}
  },
  {
   "cell_type": "code",
   "execution_count": 5,
   "source": [
    "def solution(array):\r\n",
    "    sortedSquares = [0 for _ in array] # O(n) space\r\n",
    "    smallerValueIdx = 0\r\n",
    "    largerValueIdx = len(array) - 1\r\n",
    "\r\n",
    "    for idx in reversed(range(len(array))):\r\n",
    "        smallerValue = array[smallerValueIdx]\r\n",
    "        largerValue = array[largerValueIdx]\r\n",
    "        if abs(smallerValue) > abs(largerValue):\r\n",
    "            sortedSquares[idx] = smallerValue * smallerValue\r\n",
    "            smallerValueIdx += 1\r\n",
    "        else:\r\n",
    "            sortedSquares[idx] = largerValue * largerValue\r\n",
    "            largerValueIdx -= 1\r\n",
    "    return sortedSquares"
   ],
   "outputs": [],
   "metadata": {}
  },
  {
   "cell_type": "markdown",
   "source": [
    "## Solution (naive)\r\n",
    "\r\n",
    "O(nlogn) time | O(n) space - where n is the length of the input array"
   ],
   "metadata": {}
  },
  {
   "cell_type": "code",
   "execution_count": 1,
   "source": [
    "def sortedSquaredArray(array):\r\n",
    "    sortedSquares = [0 for _ in array] # O(n) space\r\n",
    "\r\n",
    "    for idx in range(len(array)):\r\n",
    "        value = array[idx]\r\n",
    "        sortedSquares[idx] = value * value\r\n",
    "\r\n",
    "    sortedSquares.sort() # O(nlogn) time\r\n",
    "    return sortedSquares"
   ],
   "outputs": [],
   "metadata": {}
  },
  {
   "cell_type": "markdown",
   "source": [
    "## Test Cases"
   ],
   "metadata": {}
  },
  {
   "cell_type": "code",
   "execution_count": 6,
   "source": [
    "from nose.tools import assert_equal\r\n",
    "\r\n",
    "assert_equal(solution([1, 2, 3, 5, 6, 8, 9]), [1, 4, 9, 25, 36, 64, 81])\r\n",
    "assert_equal(solution([-7, -3, 1, 9, 22, 30]), [1, 9, 49, 81, 484, 900])\r\n",
    "\r\n",
    "print('ALL TEST CASES PASSED')"
   ],
   "outputs": [
    {
     "output_type": "stream",
     "name": "stdout",
     "text": [
      "ALL TEST CASES PASSED\n"
     ]
    }
   ],
   "metadata": {}
  }
 ],
 "metadata": {
  "kernelspec": {
   "name": "python3",
   "display_name": "Python 3.8.8 64-bit ('base': conda)"
  },
  "language_info": {
   "codemirror_mode": {
    "name": "ipython",
    "version": 3
   },
   "file_extension": ".py",
   "mimetype": "text/x-python",
   "name": "python",
   "nbconvert_exporter": "python",
   "pygments_lexer": "ipython3",
   "version": "3.8.8"
  },
  "interpreter": {
   "hash": "7b4b4feff2f24a0f0a34464dbe537a36fda679851528fb8735cb41fa49dffb2d"
  }
 },
 "nbformat": 4,
 "nbformat_minor": 1
}