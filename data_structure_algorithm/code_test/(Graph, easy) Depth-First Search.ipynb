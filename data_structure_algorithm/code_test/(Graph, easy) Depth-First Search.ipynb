{
 "cells": [
  {
   "cell_type": "markdown",
   "source": [
    "# Depth-first Search\r\n",
    "\r\n",
    "## Problem\r\n",
    "You're given a Node class that has a name and an array of optional children nodes.<br>\r\n",
    "When put together, nodes form an acyclic tree-like structure.<br>\r\n",
    "\r\n",
    "Implement the depthFirstSearch method on the Node class, which takes in an empty array, traverses the tree using the Depth-first Search approach (specifically navigating the tree from left to right), stores all of the nodes' names in the input array, and returns it.\r\n",
    "\r\n",
    "**Example**:\r\n",
    "* inputs:\r\n",
    "  * graph = \r\n",
    "  ```\r\n",
    "        A\r\n",
    "     /  | \\\r\n",
    "    B   C  D\r\n",
    "   / \\    / \\\r\n",
    "  E   F  G   H\r\n",
    "     / \\  \\\r\n",
    "    I   J  K\r\n",
    "  ```\r\n",
    "* output: [\"A\", \"B\", \"E\", \"F\", \"I\", \"J\", \"C\", \"D\", \"G\", \"K\", \"H\"]"
   ],
   "metadata": {}
  },
  {
   "cell_type": "markdown",
   "source": [
    "## Solution"
   ],
   "metadata": {}
  },
  {
   "cell_type": "code",
   "execution_count": 1,
   "source": [
    "class Node:\r\n",
    "    def __init__(self, name):\r\n",
    "        self.children = []\r\n",
    "        self.name = name\r\n",
    "\r\n",
    "    def addChild(self, node):\r\n",
    "        self.children.append(node)\r\n",
    "        return self\r\n",
    "\r\n",
    "    # O(v + e) time | O(v) space\r\n",
    "    def depthFirstSearch(self, array):\r\n",
    "        array.append(self.name)\r\n",
    "        for child in self.children:\r\n",
    "            child.depthFirstSearch(array)\r\n",
    "        return array\r\n"
   ],
   "outputs": [],
   "metadata": {}
  },
  {
   "cell_type": "markdown",
   "source": [
    "## Test Cases"
   ],
   "metadata": {}
  },
  {
   "cell_type": "code",
   "execution_count": 2,
   "source": [
    "from nose.tools import assert_equal\r\n",
    "\r\n",
    "inputs = {\r\n",
    "  \"graph\": {\r\n",
    "    \"nodes\": [\r\n",
    "      {\"children\": [\"B\", \"C\", \"D\"], \"id\": \"A\", \"value\": \"A\"},\r\n",
    "      {\"children\": [\"E\", \"F\"], \"id\": \"B\", \"value\": \"B\"},\r\n",
    "      {\"children\": [], \"id\": \"C\", \"value\": \"C\"},\r\n",
    "      {\"children\": [\"G\", \"H\"], \"id\": \"D\", \"value\": \"D\"},\r\n",
    "      {\"children\": [], \"id\": \"E\", \"value\": \"E\"},\r\n",
    "      {\"children\": [\"I\", \"J\"], \"id\": \"F\", \"value\": \"F\"},\r\n",
    "      {\"children\": [\"K\"], \"id\": \"G\", \"value\": \"G\"},\r\n",
    "      {\"children\": [], \"id\": \"H\", \"value\": \"H\"},\r\n",
    "      {\"children\": [], \"id\": \"I\", \"value\": \"I\"},\r\n",
    "      {\"children\": [], \"id\": \"J\", \"value\": \"J\"},\r\n",
    "      {\"children\": [], \"id\": \"K\", \"value\": \"K\"}\r\n",
    "    ],\r\n",
    "    \"startNode\": \"A\"\r\n",
    "  }\r\n",
    "}\r\n",
    "\r\n",
    "dGraph = dict()\r\n",
    "for d in reversed(inputs['graph']['nodes']):\r\n",
    "    dGraph[d['id']] = Node(d['id'])\r\n",
    "    if len(d['children'])>0:\r\n",
    "        for c in d['children']:\r\n",
    "            dGraph[d['id']].addChild(dGraph[c])\r\n",
    "\r\n",
    "graph = dGraph[inputs['graph']['startNode']]\r\n",
    "\r\n",
    "assert_equal(graph.depthFirstSearch([]), [\"A\", \"B\", \"E\", \"F\", \"I\", \"J\", \"C\", \"D\", \"G\", \"K\", \"H\"])\r\n",
    "print('ALL TEST CASES PASSED')"
   ],
   "outputs": [
    {
     "output_type": "stream",
     "name": "stdout",
     "text": [
      "ALL TEST CASES PASSED\n"
     ]
    }
   ],
   "metadata": {}
  }
 ],
 "metadata": {
  "kernelspec": {
   "name": "python3",
   "display_name": "Python 3.8.8 64-bit ('base': conda)"
  },
  "language_info": {
   "codemirror_mode": {
    "name": "ipython",
    "version": 3
   },
   "file_extension": ".py",
   "mimetype": "text/x-python",
   "name": "python",
   "nbconvert_exporter": "python",
   "pygments_lexer": "ipython3",
   "version": "3.8.8"
  },
  "interpreter": {
   "hash": "7b4b4feff2f24a0f0a34464dbe537a36fda679851528fb8735cb41fa49dffb2d"
  }
 },
 "nbformat": 4,
 "nbformat_minor": 1
}