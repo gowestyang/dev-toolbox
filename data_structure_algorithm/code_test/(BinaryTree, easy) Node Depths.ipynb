{
 "cells": [
  {
   "cell_type": "markdown",
   "source": [
    "# Node Depths\r\n",
    "\r\n",
    "## Problem\r\n",
    "The distance between a node in a Binary Tree and the tree's root is called the node's depth.<br>\r\n",
    "\r\n",
    "Write a function that takes in a Binary Tree and returns the sum of its nodes' depths.<br>\r\n",
    "\r\n",
    "Each BinaryTree node has an integer value, a left child node, and a right child node.<br>\r\n",
    "Children nodes can either be BinaryTree nodes themselves or None / null.\r\n",
    "\r\n",
    "**Example**:\r\n",
    "* inputs:\r\n",
    "  * tree = \r\n",
    "  ```\r\n",
    "          1\r\n",
    "        /    \\\r\n",
    "       2      3\r\n",
    "     /   \\   / \\\r\n",
    "    4     5 6   7\r\n",
    "   / \\\r\n",
    "  8   9\r\n",
    "  ```\r\n",
    "* output: 16 (1 + 1 + 2 + 2 + 2 + 2 + 3 + 3)"
   ],
   "metadata": {}
  },
  {
   "cell_type": "markdown",
   "source": [
    "## Solution 1 (most concise)\r\n",
    "\r\n",
    "Average case: when the tree is balanced\r\n",
    "* O(n) time | O(h) space - where n is the number of nodes in the Binary Tree and h is the height of the Binary Tree"
   ],
   "metadata": {}
  },
  {
   "cell_type": "code",
   "execution_count": 1,
   "source": [
    "def nodeDepths(root, depth=0):\r\n",
    "    if root is None:\r\n",
    "        return 0\r\n",
    "    return depth + nodeDepths(root.left, depth + 1) + nodeDepths(root.right, depth + 1)"
   ],
   "outputs": [],
   "metadata": {}
  },
  {
   "cell_type": "markdown",
   "source": [
    "## Solution 1 (use a stack)\r\n",
    "\r\n",
    "Average case: when the tree is balanced\r\n",
    "* O(n) time | O(h) space - where n is the number of nodes in the Binary Tree and h is the height of the Binary Tree"
   ],
   "metadata": {}
  },
  {
   "cell_type": "code",
   "execution_count": null,
   "source": [
    "def nodeDepths(root):\r\n",
    "    sumOfDepths = 0\r\n",
    "    stack = [{\"node\": root, \"depth\": 0}]\r\n",
    "    while len(stack) > 0:\r\n",
    "        nodeInfo = stack.pop()\r\n",
    "        node, depth = nodeInfo[\"node\"], nodeInfo[\"depth\"]\r\n",
    "        if node is None:\r\n",
    "            continue\r\n",
    "    sumOfDepths += depth\r\n",
    "    stack.append({\"node\": node.left, \"depth\": depth + 1})\r\n",
    "    stack.append({\"node\": node.right, \"depth\": depth + 1})\r\n",
    "    return sumOfDepths"
   ],
   "outputs": [],
   "metadata": {}
  },
  {
   "cell_type": "markdown",
   "source": [
    "## Test Cases"
   ],
   "metadata": {}
  },
  {
   "cell_type": "code",
   "execution_count": 4,
   "source": [
    "from nose.tools import assert_equal\r\n",
    "\r\n",
    "class BST:\r\n",
    "    def __init__(self, value):\r\n",
    "        self.value = value\r\n",
    "        self.left = None\r\n",
    "        self.right = None\r\n",
    "\r\n",
    "inputs = {\r\n",
    "  \"tree\": {\r\n",
    "    \"nodes\": [\r\n",
    "      {\"id\": \"1\", \"left\": \"2\", \"right\": \"3\", \"value\": 1},\r\n",
    "      {\"id\": \"2\", \"left\": \"4\", \"right\": \"5\", \"value\": 2},\r\n",
    "      {\"id\": \"3\", \"left\": \"6\", \"right\": \"7\", \"value\": 3},\r\n",
    "      {\"id\": \"4\", \"left\": \"8\", \"right\": \"9\", \"value\": 4},\r\n",
    "      {\"id\": \"5\", \"left\": None, \"right\": None, \"value\": 5},\r\n",
    "      {\"id\": \"6\", \"left\": None, \"right\": None, \"value\": 6},\r\n",
    "      {\"id\": \"7\", \"left\": None, \"right\": None, \"value\": 7},\r\n",
    "      {\"id\": \"8\", \"left\": None, \"right\": None, \"value\": 8},\r\n",
    "      {\"id\": \"9\", \"left\": None, \"right\": None, \"value\": 9}\r\n",
    "    ],\r\n",
    "    \"root\": \"1\"\r\n",
    "  }\r\n",
    "}\r\n",
    "\r\n",
    "dTree = dict()\r\n",
    "for d in reversed(inputs['tree']['nodes']):\r\n",
    "    dTree[d['id']] = BST(d['value'])\r\n",
    "    if d['left']:\r\n",
    "        dTree[d['id']].left = dTree[d['left']]\r\n",
    "    if d['right']:\r\n",
    "        dTree[d['id']].right = dTree[d['right']]\r\n",
    "\r\n",
    "assert_equal(nodeDepths(dTree[inputs['tree']['root']]), 16)\r\n",
    "print('ALL TEST CASES PASSED')"
   ],
   "outputs": [
    {
     "output_type": "stream",
     "name": "stdout",
     "text": [
      "ALL TEST CASES PASSED\n"
     ]
    }
   ],
   "metadata": {}
  }
 ],
 "metadata": {
  "kernelspec": {
   "name": "python3",
   "display_name": "Python 3.8.8 64-bit ('base': conda)"
  },
  "language_info": {
   "codemirror_mode": {
    "name": "ipython",
    "version": 3
   },
   "file_extension": ".py",
   "mimetype": "text/x-python",
   "name": "python",
   "nbconvert_exporter": "python",
   "pygments_lexer": "ipython3",
   "version": "3.8.8"
  },
  "interpreter": {
   "hash": "7b4b4feff2f24a0f0a34464dbe537a36fda679851528fb8735cb41fa49dffb2d"
  }
 },
 "nbformat": 4,
 "nbformat_minor": 1
}