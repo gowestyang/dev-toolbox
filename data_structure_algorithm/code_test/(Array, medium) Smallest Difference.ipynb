{
 "cells": [
  {
   "cell_type": "markdown",
   "source": [
    "# Smallest Difference\r\n",
    "\r\n",
    "## Problem\r\n",
    "Write a function that takes in two non-empty arrays of integers,<br>\r\n",
    "finds the pair of numbers (one from each array) whose absolute difference is closest to zero,<br>\r\n",
    "and returns an array containing these two numbers, with the number from the first array in the first position.<br>\r\n",
    "\r\n",
    "Note that the absolute difference of two integers is the distance between them on the real number line.<br>\r\n",
    "For example, the absolute difference of -5 and 5 is 10, and the absolute difference of -5 and -4 is 1.<br>\r\n",
    "You can assume that there will only be one pair of numbers with the smallest difference.\r\n",
    "\r\n",
    "**Example**:\r\n",
    "* inputs:\r\n",
    "    * arrayOne = [-1, 5, 10, 20, 28, 3]\r\n",
    "    * arrayTwo = [26, 134, 135, 15, 17]\r\n",
    "* output: [28, 26]"
   ],
   "metadata": {}
  },
  {
   "cell_type": "markdown",
   "source": [
    "## Solution\r\n",
    "\r\n",
    "O(nlog(n) + mlog(m)) time | O(1) space\r\n",
    "\r\n",
    "**Example**: (after sorted)\r\n",
    "* arrayOne = [-1, 3, 5, 10, 20, 28]\r\n",
    "* arrayTwo = [15, 17, 26, 134, 135]"
   ],
   "metadata": {}
  },
  {
   "cell_type": "code",
   "execution_count": 1,
   "source": [
    "def solution(arrayOne, arrayTwo):\r\n",
    "    arrayOne.sort()\r\n",
    "    arrayTwo.sort()\r\n",
    "    idxOne = 0\r\n",
    "    idxTwo = 0\r\n",
    "    smallest = float(\"inf\")\r\n",
    "    current = float(\"inf\")\r\n",
    "    smallestPair = []\r\n",
    "    while idxOne < len(arrayOne) and idxTwo < len(arrayTwo):\r\n",
    "        firstNum = arrayOne[idxOne]\r\n",
    "        secondNum = arrayTwo[idxTwo]\r\n",
    "        if firstNum < secondNum:\r\n",
    "            current = secondNum - firstNum\r\n",
    "            idxOne += 1\r\n",
    "        elif secondNum < firstNum:\r\n",
    "            current = firstNum - secondNum\r\n",
    "            idxTwo += 1\r\n",
    "        else:\r\n",
    "            return [firstNum, secondNum]\r\n",
    "        if smallest > current:\r\n",
    "            smallest = current\r\n",
    "            smallestPair = [firstNum, secondNum]\r\n",
    "    return smallestPair\r\n"
   ],
   "outputs": [],
   "metadata": {}
  },
  {
   "cell_type": "markdown",
   "source": [
    "## Test Cases"
   ],
   "metadata": {}
  },
  {
   "cell_type": "code",
   "execution_count": 2,
   "source": [
    "from nose.tools import assert_equal\r\n",
    "\r\n",
    "assert_equal(solution([-1, 5, 10, 20, 28, 3], [26, 134, 135, 15, 17]), [28, 26])\r\n",
    "assert_equal(solution([10, 1000, 9124, 2142, 59, 24, 596, 591, 124, -123, 530], [-1441, -124, -25, 1014, 1500, 660, 410, 245, 530]), [530, 530])\r\n",
    "assert_equal(solution([10, 0, 20, 25], [1005, 1006, 1014, 1032, 1031]), [25, 1005])\r\n",
    "assert_equal(solution([10, 0, 20, 25, 2000], [1005, 1006, 1014, 1032, 1031]), [2000, 1032])\r\n",
    "assert_equal(solution([10, 1000], [-1441, -124, -25, 1014, 1500, 660, 410, 245, 530]), [1000, 1014])\r\n",
    "print('ALL TEST CASES PASSED')"
   ],
   "outputs": [
    {
     "output_type": "stream",
     "name": "stdout",
     "text": [
      "ALL TEST CASES PASSED\n"
     ]
    }
   ],
   "metadata": {}
  }
 ],
 "metadata": {
  "kernelspec": {
   "name": "python3",
   "display_name": "Python 3.8.8 64-bit ('base': conda)"
  },
  "language_info": {
   "codemirror_mode": {
    "name": "ipython",
    "version": 3
   },
   "file_extension": ".py",
   "mimetype": "text/x-python",
   "name": "python",
   "nbconvert_exporter": "python",
   "pygments_lexer": "ipython3",
   "version": "3.8.8"
  },
  "interpreter": {
   "hash": "7b4b4feff2f24a0f0a34464dbe537a36fda679851528fb8735cb41fa49dffb2d"
  }
 },
 "nbformat": 4,
 "nbformat_minor": 1
}