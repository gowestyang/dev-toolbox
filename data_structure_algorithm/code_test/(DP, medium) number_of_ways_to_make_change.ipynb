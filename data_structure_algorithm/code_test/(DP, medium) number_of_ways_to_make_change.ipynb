{
 "cells": [
  {
   "cell_type": "markdown",
   "source": [
    "# Number Of Ways To Make Change\r\n",
    "\r\n",
    "## Problem\r\n",
    "Given an array of distinct positive integers representing coin denominations and a single non-negative integer n representing a target amount of money<br>,\r\n",
    "write a function that returns the number of ways to make change for that target amount using the given coin denominations.<br>\r\n",
    "\r\n",
    "Note that an unlimited amount of coins is at your disposal\r\n",
    "\r\n",
    "**Example**:\r\n",
    "* inputs:\r\n",
    "    * n = 6\r\n",
    "    * demos = [1, 5]\r\n",
    "* output: 2 (1x1 + 1x5, 6x1)"
   ],
   "metadata": {}
  },
  {
   "cell_type": "markdown",
   "source": [
    "## Solution\r\n",
    "\r\n",
    "O(nd) time | O(n) space\r\n",
    "\r\n",
    "**Example**:\r\n",
    "* n = 6\r\n",
    "* demos = [1, 5]\r\n",
    "* ways = [0, 0, 0, 0, 0, 0, 0]\r\n",
    "* ways = [1, 0, 0, 0, 0, 0, 0]\r\n",
    "* denom = 1\r\n",
    "    * amount = 1\r\n",
    "        * ways = [1, 1, 0, 0, 0, 0, 0] (ways[1] = ways[1] + ways[0])\r\n",
    "    * amount = 2\r\n",
    "        * ways = [1, 1, 1, 0, 0, 0, 0] (ways[2] = ways[2] + ways[1])\r\n",
    "    * amount = 3\r\n",
    "        * ways = [1, 1, 1, 1, 0, 0, 0] (ways[3] = ways[3] + ways[2])\r\n",
    "    * amount = 4\r\n",
    "        * ways = [1, 1, 1, 1, 1, 0, 0] (ways[4] = ways[4] + ways[3])\r\n",
    "    * amount = 5\r\n",
    "        * ways = [1, 1, 1, 1, 1, 1, 0] (ways[5] = ways[5] + ways[4])\r\n",
    "    * amount = 6\r\n",
    "        * ways = [1, 1, 1, 1, 1, 1, 1] (ways[6] = ways[6] + ways[5])\r\n",
    "* denom = 5\r\n",
    "    * amount = 1\r\n",
    "    * amount = 2\r\n",
    "    * amount = 3\r\n",
    "    * amount = 4\r\n",
    "    * amount = 5\r\n",
    "        * ways = [1, 1, 1, 1, 1, 2, 1] (ways[5] = ways[5] + ways[0])\r\n",
    "    * amount = 6\r\n",
    "        * ways = [1, 1, 1, 1, 1, 2, 2] (ways[6] = ways[6] + ways[1])"
   ],
   "metadata": {}
  },
  {
   "cell_type": "code",
   "execution_count": 1,
   "source": [
    "def solution(n, denoms):\r\n",
    "    ways = [0 for amount in range(n + 1)]\r\n",
    "    ways[0] = 1\r\n",
    "    for denom in denoms:\r\n",
    "        for amount in range(1, n + 1):\r\n",
    "            if denom <= amount:\r\n",
    "                ways[amount] += ways[amount - denom]\r\n",
    "    return ways[n]"
   ],
   "outputs": [],
   "metadata": {}
  },
  {
   "cell_type": "markdown",
   "source": [
    "## Test Cases"
   ],
   "metadata": {}
  },
  {
   "cell_type": "code",
   "execution_count": 2,
   "source": [
    "from nose.tools import assert_equal\r\n",
    "\r\n",
    "assert_equal(solution(6, [1, 5]), 2)\r\n",
    "assert_equal(solution(0, [2, 3, 4, 7]), 1)\r\n",
    "assert_equal(solution(9, [5]), 0)\r\n",
    "assert_equal(solution(7, [2, 3, 4, 7]), 3)\r\n",
    "assert_equal(solution(25, [1, 5, 10, 25]), 13)\r\n",
    "print('ALL TEST CASES PASSED')"
   ],
   "outputs": [
    {
     "output_type": "stream",
     "name": "stdout",
     "text": [
      "ALL TEST CASES PASSED\n"
     ]
    }
   ],
   "metadata": {}
  }
 ],
 "metadata": {
  "kernelspec": {
   "name": "python3",
   "display_name": "Python 3.8.8 64-bit ('base': conda)"
  },
  "language_info": {
   "codemirror_mode": {
    "name": "ipython",
    "version": 3
   },
   "file_extension": ".py",
   "mimetype": "text/x-python",
   "name": "python",
   "nbconvert_exporter": "python",
   "pygments_lexer": "ipython3",
   "version": "3.8.8"
  },
  "interpreter": {
   "hash": "7b4b4feff2f24a0f0a34464dbe537a36fda679851528fb8735cb41fa49dffb2d"
  }
 },
 "nbformat": 4,
 "nbformat_minor": 1
}