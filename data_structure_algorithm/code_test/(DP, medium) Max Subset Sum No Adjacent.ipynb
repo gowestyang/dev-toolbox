{
 "cells": [
  {
   "cell_type": "markdown",
   "source": [
    "# Max Subset Sum No Adjacent\r\n",
    "\r\n",
    "## Problem\r\n",
    "Write a function that takes in an array of positive integers,<br>\r\n",
    "and returns the maximum sum of non-adjacent elements in the array.<br>\r\n",
    "\r\n",
    "If the input array is empty, the function should return 0 .\r\n",
    "\r\n",
    "**Example**:\r\n",
    "* inputs:\r\n",
    "    * array = [75, 105, 120, 75, 90, 135]\r\n",
    "* output: 330 (75 + 120 + 135)"
   ],
   "metadata": {}
  },
  {
   "cell_type": "markdown",
   "source": [
    "## Solution (best space)\r\n",
    "\r\n",
    "O(n) time | O(1) space\r\n",
    "\r\n",
    "**Example**:\r\n",
    "* array = [75, 105, 120, 75, 90, 135]\r\n",
    "* second = 75\r\n",
    "* first = 105\r\n",
    "* i = 2\r\n",
    "    * current = 195\r\n",
    "    * second = 75\r\n",
    "    * first = 195\r\n",
    "* i = 3\r\n",
    "    * current = 195\r\n",
    "    * second = 195\r\n",
    "    * first = 195\r\n",
    "* i = 4\r\n",
    "    * current = 285\r\n",
    "    * second = 195\r\n",
    "    * first = 285\r\n",
    "* i = 5\r\n",
    "    * current = 330\r\n",
    "    * second = 285\r\n",
    "    * first = 330"
   ],
   "metadata": {}
  },
  {
   "cell_type": "code",
   "execution_count": 1,
   "source": [
    "def solution(array):\r\n",
    "    if not len(array):\r\n",
    "        return 0\r\n",
    "    elif len(array) == 1:\r\n",
    "        return array[0]\r\n",
    "    \r\n",
    "    second = array[0]\r\n",
    "    first = max(array[0], array[1])\r\n",
    "    for i in range(2, len(array)):\r\n",
    "        current = max(first, second + array[i])\r\n",
    "        second = first\r\n",
    "        first = current\r\n",
    "    return first"
   ],
   "outputs": [],
   "metadata": {}
  },
  {
   "cell_type": "markdown",
   "source": [
    "## Solution\r\n",
    "\r\n",
    "O(n) time | O(n) space\r\n",
    "\r\n",
    "**Example**:\r\n",
    "* array = [75, 105, 120, 75, 90, 135]\r\n",
    "* maxSums = [75, 105, 120, 75, 90, 135]\r\n",
    "* maxSums = [75, 105, 120, 75, 90, 135]\r\n",
    "* i = 2\r\n",
    "    * maxSums = [75, 105, 195, 75, 90, 135]\r\n",
    "* i = 3\r\n",
    "    * maxSums = [75, 105, 195, 195, 90, 135]\r\n",
    "* i = 4\r\n",
    "    * maxSums = [75, 105, 195, 195, 285, 135]\r\n",
    "* i = 5\r\n",
    "    * maxSums = [75, 105, 195, 195, 285, 330]"
   ],
   "metadata": {}
  },
  {
   "cell_type": "code",
   "execution_count": 4,
   "source": [
    "def maxSubsetSumNoAdjacent(array):\r\n",
    "    if not len(array):\r\n",
    "        return 0\r\n",
    "    elif len(array) == 1:\r\n",
    "        return array[0]\r\n",
    "    \r\n",
    "    maxSums = array[:] # O(n) space\r\n",
    "    maxSums[1] = max(array[0], array[1])\r\n",
    "    for i in range(2, len(array)): # O(n) time\r\n",
    "        maxSums[i] = max(maxSums[i - 1], maxSums[i - 2] + array[i])\r\n",
    "    return maxSums[-1]"
   ],
   "outputs": [],
   "metadata": {}
  },
  {
   "cell_type": "markdown",
   "source": [
    "## Test Cases"
   ],
   "metadata": {}
  },
  {
   "cell_type": "code",
   "execution_count": 2,
   "source": [
    "from nose.tools import assert_equal\r\n",
    "\r\n",
    "assert_equal(solution([75, 105, 120, 75, 90, 135]), 330)\r\n",
    "assert_equal(solution([]), 0)\r\n",
    "assert_equal(solution([7, 10, 12, 7, 9, 14, 15, 16, 25, 20, 4]), 72)\r\n",
    "assert_equal(solution([30, 25, 50, 55, 100, 120]), 205)\r\n",
    "assert_equal(solution([4, 3, 5, 200, 5, 3]), 207)\r\n",
    "print('ALL TEST CASES PASSED')"
   ],
   "outputs": [
    {
     "output_type": "stream",
     "name": "stdout",
     "text": [
      "ALL TEST CASES PASSED\n"
     ]
    }
   ],
   "metadata": {}
  }
 ],
 "metadata": {
  "kernelspec": {
   "name": "python3",
   "display_name": "Python 3.8.8 64-bit ('base': conda)"
  },
  "language_info": {
   "codemirror_mode": {
    "name": "ipython",
    "version": 3
   },
   "file_extension": ".py",
   "mimetype": "text/x-python",
   "name": "python",
   "nbconvert_exporter": "python",
   "pygments_lexer": "ipython3",
   "version": "3.8.8"
  },
  "interpreter": {
   "hash": "7b4b4feff2f24a0f0a34464dbe537a36fda679851528fb8735cb41fa49dffb2d"
  }
 },
 "nbformat": 4,
 "nbformat_minor": 1
}