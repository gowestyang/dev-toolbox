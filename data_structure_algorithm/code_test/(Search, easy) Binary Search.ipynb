{
 "cells": [
  {
   "cell_type": "markdown",
   "source": [
    "# Binary Search\r\n",
    "\r\n",
    "## Problem\r\n",
    "Write a function that takes in a sorted array of integers, as well as a target integer.<br>\r\n",
    "The function should use the Binary Search algorithm to determine if the target integer is contained in the array and should return its index if it is, otherwise -1.\r\n",
    "\r\n",
    "**Example**:\r\n",
    "* inputs:\r\n",
    "    * array = [0, 1, 21, 33, 45, 45, 61, 71, 72, 73]\r\n",
    "    * target = 33\r\n",
    "* output: 3"
   ],
   "metadata": {}
  },
  {
   "cell_type": "markdown",
   "source": [
    "## Solution 1 (best time and space)\r\n",
    "\r\n",
    "O(log(n)) time | O(1) space"
   ],
   "metadata": {}
  },
  {
   "cell_type": "code",
   "execution_count": 1,
   "source": [
    "def solution(array, target):\r\n",
    "    return binarySearchHelper(array, target, 0, len(array) - 1)\r\n",
    "\r\n",
    "def binarySearchHelper(array, target, left, right):\r\n",
    "    while left <= right:\r\n",
    "        middle = (left + right) // 2\r\n",
    "        potentialMatch = array[middle]\r\n",
    "        if target == potentialMatch:\r\n",
    "            return middle\r\n",
    "        elif target < potentialMatch:\r\n",
    "            right = middle - 1\r\n",
    "        else:\r\n",
    "            left  = middle + 1\r\n",
    "    return -1"
   ],
   "outputs": [],
   "metadata": {}
  },
  {
   "cell_type": "markdown",
   "source": [
    "## Solution 2 (resursion)\r\n",
    "\r\n",
    "O(log(n)) time | O(log(n)) space"
   ],
   "metadata": {}
  },
  {
   "cell_type": "code",
   "execution_count": 1,
   "source": [
    "def solution(array, target):\r\n",
    "    return binarySearchHelper(array, target, 0, len(array) - 1)\r\n",
    "\r\n",
    "def binarySearchHelper(array, target, left, right):\r\n",
    "    if left > right:\r\n",
    "        return -1\r\n",
    "    middle = (left + right) // 2\r\n",
    "    potentialMatch = array[middle]\r\n",
    "    if target == potentialMatch:\r\n",
    "        return middle\r\n",
    "    elif target < potentialMatch:\r\n",
    "        return binarySearchHelper(array, target, left, middle - 1)\r\n",
    "    else:\r\n",
    "        return binarySearchHelper(array, target, middle + 1, right)"
   ],
   "outputs": [],
   "metadata": {}
  },
  {
   "cell_type": "markdown",
   "source": [
    "## Test Cases"
   ],
   "metadata": {}
  },
  {
   "cell_type": "code",
   "execution_count": 2,
   "source": [
    "from nose.tools import assert_equal\r\n",
    "\r\n",
    "assert_equal(solution([0, 1, 21, 33, 45, 45, 61, 71, 72, 73], 33), 3)\r\n",
    "assert_equal(solution([5, 23, 111], 3), -1)\r\n",
    "assert_equal(solution([0, 1, 21, 33, 45, 45, 61, 71, 72, 73, 355], 355), 10)\r\n",
    "assert_equal(solution([0, 1, 21, 33, 45, 45, 61, 71, 72, 73], 72), 8)\r\n",
    "assert_equal(solution([0, 1, 21, 33, 45, 45, 61, 71, 72, 73], 21), 2)\r\n",
    "print('ALL TEST CASES PASSED')"
   ],
   "outputs": [
    {
     "output_type": "stream",
     "name": "stdout",
     "text": [
      "ALL TEST CASES PASSED\n"
     ]
    }
   ],
   "metadata": {}
  }
 ],
 "metadata": {
  "kernelspec": {
   "name": "python3",
   "display_name": "Python 3.8.8 64-bit ('base': conda)"
  },
  "language_info": {
   "codemirror_mode": {
    "name": "ipython",
    "version": 3
   },
   "file_extension": ".py",
   "mimetype": "text/x-python",
   "name": "python",
   "nbconvert_exporter": "python",
   "pygments_lexer": "ipython3",
   "version": "3.8.8"
  },
  "interpreter": {
   "hash": "7b4b4feff2f24a0f0a34464dbe537a36fda679851528fb8735cb41fa49dffb2d"
  }
 },
 "nbformat": 4,
 "nbformat_minor": 1
}