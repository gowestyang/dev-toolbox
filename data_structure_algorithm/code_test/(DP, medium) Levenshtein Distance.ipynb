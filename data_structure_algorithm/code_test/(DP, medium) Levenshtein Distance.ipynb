{
 "cells": [
  {
   "cell_type": "markdown",
   "source": [
    "# Levenshtein Distance\r\n",
    "\r\n",
    "## Problem\r\n",
    "Write a function that takes in two strings,<br>\r\n",
    "and returns the minimum number of edit operations that need to be performed on the first string to obtain the second string.<br>\r\n",
    "\r\n",
    "There are three edit operations:\r\n",
    "* insertion of a character,\r\n",
    "* deletion of a character,\r\n",
    "* substitution of a character for another.\r\n",
    "\r\n",
    "**Example**:\r\n",
    "* inputs:\r\n",
    "    * str1 = \"abc\"\r\n",
    "    * str2 = \"yabd\"\r\n",
    "* output: 2 (insert \"y\", substitute \"c\" for \"d\")"
   ],
   "metadata": {}
  },
  {
   "cell_type": "markdown",
   "source": [
    "## Solution (best space)\r\n",
    "\r\n",
    "O(nm) time | O(min(n, m)) space\r\n",
    "\r\n",
    "**Example**:\r\n",
    "* str1 = \"abc\"\r\n",
    "* str2 = \"yabd\"\r\n",
    "* small = \"abc\", big = \"yabd\"\r\n",
    "* evenEdits = [0,1,2,3], oddEdits = [None,None,None,None]\r\n",
    "* i = 1: odd\r\n",
    "    * currentEdits = [None,None,None,None] (odd), previousEdits = [0,1,2,3] (even)\r\n",
    "    * currentEdits = [1,None,None,None]\r\n",
    "    * j = 1: big[0] != small[0]\r\n",
    "        * currentEdits = [1,1,None,None] (currentEdits[1] = 1 + min(previousEdits[0], previousEdits[1], currentEdits[0]))\r\n",
    "    * j = 2: big[0] != small[1]\r\n",
    "        * currentEdits = [1,1,2,None] (currentEdits[2] = 1 + min(previousEdits[1], previousEdits[2], currentEdits[1]))\r\n",
    "    * j = 3: big[0] != small[2]\r\n",
    "        * currentEdits = [1,1,2,3] (currentEdits[3] = 1 + min(previousEdits[2], previousEdits[3], currentEdits[2]))\r\n",
    "* i = 2: even\r\n",
    "    * currentEdits = [0,1,2,3] (even), previousEdits = [1,1,2,3] (odd)\r\n",
    "    * currentEdits = [2,1,2,3]\r\n",
    "    * j = 1: big[1] == small[0]\r\n",
    "        * currentEdits = [2,1,2,3] (currentEdits[1] = previousEdits[0])\r\n",
    "    * j = 2: big[1] != small[1]\r\n",
    "        * currentEdits = [2,1,2,3] (currentEdits[2] = 1 + min(previousEdits[1], previousEdits[2], currentEdits[1]))\r\n",
    "    * j = 3: big[1] != small[2]\r\n",
    "        * currentEdits = [2,1,2,3] (currentEdits[3] = 1 + min(previousEdits[2], previousEdits[3], currentEdits[2]))\r\n",
    "* i = 3: odd\r\n",
    "    * currentEdits = [1,1,2,3] (odd), previousEdits = [2,1,2,3] (even)\r\n",
    "    * currentEdits = [3,1,2,3]\r\n",
    "    * j = 1: big[2] != small[0]\r\n",
    "        * currentEdits = [3,2,2,3] (currentEdits[1] = 1 + min(previousEdits[0], previousEdits[1], currentEdits[0]))\r\n",
    "    * j = 2: big[2] == small[1]\r\n",
    "        * currentEdits = [3,2,1,3] (currentEdits[2] = previousEdits[1])\r\n",
    "    * j = 3: big[2] != small[2]\r\n",
    "        * currentEdits = [3,2,1,2] (currentEdits[3] = 1 + min(previousEdits[2], previousEdits[3], currentEdits[2]))\r\n",
    "* i = 4: even\r\n",
    "    * currentEdits = [2,1,2,3] (even), previousEdits = [3,2,1,2] (odd)\r\n",
    "    * currentEdits = [4,1,2,3]\r\n",
    "    * j = 1: big[3] != small[0]\r\n",
    "        * currentEdits = [4,3,2,3] (currentEdits[1] = 1 + min(previousEdits[0], previousEdits[1], currentEdits[0]))\r\n",
    "    * j = 2: big[3] != small[1]\r\n",
    "        * currentEdits = [4,3,2,3] (currentEdits[2] = 1 + min(previousEdits[1], previousEdits[2], currentEdits[1]))\r\n",
    "    * j = 3: big[3] != small[2]\r\n",
    "        * currentEdits = [4,3,2,2] (currentEdits[3] = 1 + min(previousEdits[2], previousEdits[3], currentEdits[2]))\r\n",
    "* evenEdits = [4,3,2,2], oddEdits = [3,2,1,2], len(big)%2==0"
   ],
   "metadata": {}
  },
  {
   "cell_type": "code",
   "execution_count": 1,
   "source": [
    "def solution(str1, str2):\r\n",
    "    small = str1 if len(str1) < len(str2) else str2\r\n",
    "    big = str1 if len(str1) >= len(str2) else str2\r\n",
    "    evenEdits = [x for x in range(len(small) + 1)]\r\n",
    "    oddEdits = [None for x in range(len(small) + 1)]\r\n",
    "    for i in range(1, len(big) + 1):\r\n",
    "        if i % 2 == 1:\r\n",
    "            currentEdits = oddEdits\r\n",
    "            previousEdits = evenEdits\r\n",
    "        else:\r\n",
    "            currentEdits = evenEdits\r\n",
    "            previousEdits = oddEdits\r\n",
    "        currentEdits[0] = i\r\n",
    "        for j in range(1, len(small) + 1):\r\n",
    "            if big[i - 1] == small[j - 1]:\r\n",
    "                currentEdits[j] = previousEdits[j - 1]\r\n",
    "            else:\r\n",
    "                currentEdits[j] = 1 + min(previousEdits[j - 1], previousEdits[j], currentEdits[j - 1])\r\n",
    "    print(evenEdits)\r\n",
    "    print(oddEdits)\r\n",
    "    return evenEdits[-1] if len(big) % 2 == 0 else oddEdits[-1]"
   ],
   "outputs": [],
   "metadata": {}
  },
  {
   "cell_type": "markdown",
   "source": [
    "## Solution\r\n",
    "\r\n",
    "O(nm) time | O(nm) space\r\n",
    "\r\n",
    "**Example**:\r\n",
    "* str1 = \"abc\"\r\n",
    "* str2 = \"yabd\"\r\n",
    "* edits = [[0,1,2,3],[0,1,2,3],[0,1,2,3],[0,1,2,3],[0,1,2,3]]\r\n",
    "* for i in (1,2,3,4): edits = [[0,1,2,3],[1,1,2,3],[2,1,2,3],[3,1,2,3],[4,1,2,3]]\r\n",
    "* i = 1\r\n",
    "    * j = 1: str2[0] != str1[0]\r\n",
    "        * edits = [[0,1,2,3],[1,1,2,3],[2,1,2,3],[3,1,2,3],[4,1,2,3]] (edits[1][1] = 1 + min(edits[0][0], edits[0][1], edits[1][0]))\r\n",
    "    * j = 2: str2[0] != str1[1]\r\n",
    "        * edits = [[0,1,2,3],[1,1,2,3],[2,1,2,3],[3,1,2,3],[4,1,2,3]] (edits[1][2] = 1 + min(edits[0][1], edits[0][2], edits[1][1]))\r\n",
    "    * j = 3: str2[0] != str1[2]\r\n",
    "        * edits = [[0,1,2,3],[1,1,2,3],[2,1,2,3],[3,1,2,3],[4,1,2,3]] (edits[1][3] = 1 + min(edits[0][2], edits[0][3], edits[1][2]))\r\n",
    "* i = 2\r\n",
    "    * j = 1: str2[1] == str1[0]\r\n",
    "        * edits = [[0,1,2,3],[1,1,2,3],[2,1,2,3],[3,1,2,3],[4,1,2,3]] (edits[2][1] = edits[1][0])\r\n",
    "    * j = 2: str2[1] != str1[1]\r\n",
    "        * edits = [[0,1,2,3],[1,1,2,3],[2,1,2,3],[3,1,2,3],[4,1,2,3]] (edits[2][2] = 1 + min(edits[1][1], edits[1][2], edits[2][1]))\r\n",
    "    * j = 3: str2[1] != str1[2]\r\n",
    "        * edits = [[0,1,2,3],[1,1,2,3],[2,1,2,3],[3,1,2,3],[4,1,2,3]] (edits[2][3] = 1 + min(edits[1][2], edits[1][3], edits[2][2]))\r\n",
    "* i = 3\r\n",
    "    * j = 1: str2[2] != str1[0]\r\n",
    "        * edits = [[0,1,2,3],[1,1,2,3],[2,1,2,3],[3,2,2,3],[4,1,2,3]] (edits[3][1] = 1 + min(edits[2][0], edits[2][1], edits[3][0]))\r\n",
    "    * j = 2: str2[2] == str1[1]\r\n",
    "        * edits = [[0,1,2,3],[1,1,2,3],[2,1,2,3],[3,2,1,3],[4,1,2,3]] (edits[3][2] = edits[2][1])\r\n",
    "    * j = 3: str2[2] != str1[2]\r\n",
    "        * edits = [[0,1,2,3],[1,1,2,3],[2,1,2,3],[3,2,1,2],[4,1,2,3]] (edits[3][3] = 1 + min(edits[2][2], edits[2][3], edits[3][2]))\r\n",
    "* i = 4\r\n",
    "    * j = 1: str2[3] != str1[0]\r\n",
    "        * edits = [[0,1,2,3],[1,1,2,3],[2,1,2,3],[3,2,1,2],[4,3,2,3]] (edits[4][1] = 1 + min(edits[3][0], edits[3][1], edits[4][0]))\r\n",
    "    * j = 2: str2[3] != str1[1]\r\n",
    "        * edits = [[0,1,2,3],[1,1,2,3],[2,1,2,3],[3,2,1,2],[4,3,2,3]] (edits[4][2] = 1 + min(edits[3][1], edits[3][2], edits[4][1]))\r\n",
    "    * j = 3: str2[3] != str1[2]\r\n",
    "        * edits = [[0,1,2,3],[1,1,2,3],[2,1,2,3],[3,2,1,2],[4,3,2,2]] (edits[4][3] = 1 + min(edits[3][2], edits[3][3], edits[4][2]))\r\n"
   ],
   "metadata": {}
  },
  {
   "cell_type": "code",
   "execution_count": 7,
   "source": [
    "def solution(str1, str2):\r\n",
    "    edits = [[x for x in range(len(str1) + 1)] for y in range(len(str2) + 1)] # O(nm) space\r\n",
    "    for i in range(1, len(str2) + 1):\r\n",
    "        edits[i][0] = edits[i - 1][0] + 1\r\n",
    "    for i in range(1, len(str2) + 1):\r\n",
    "        for j in range(1, len(str1) + 1):\r\n",
    "            if str2[i - 1] == str1[j - 1]:\r\n",
    "                edits[i][j] = edits[i - 1][j - 1]\r\n",
    "            else:\r\n",
    "                edits[i][j] = 1 + min(edits[i - 1][j - 1], edits[i - 1][j], edits[i][j - 1])\r\n",
    "    return edits[-1][-1]"
   ],
   "outputs": [],
   "metadata": {}
  },
  {
   "cell_type": "markdown",
   "source": [
    "## Test Cases"
   ],
   "metadata": {}
  },
  {
   "cell_type": "code",
   "execution_count": 2,
   "source": [
    "from nose.tools import assert_equal\r\n",
    "\r\n",
    "assert_equal(solution(\"abc\", \"yabd\"), 2)\r\n",
    "assert_equal(solution(\"gumbo\", \"gambol\"), 2)\r\n",
    "assert_equal(solution(\"xabc\", \"abcx\"), 2)\r\n",
    "assert_equal(solution(\"cereal\", \"saturdzz\"), 7)\r\n",
    "assert_equal(solution(\"abcdefghij\", \"1234567890\"), 10)\r\n",
    "print('ALL TEST CASES PASSED')"
   ],
   "outputs": [
    {
     "output_type": "stream",
     "name": "stdout",
     "text": [
      "ALL TEST CASES PASSED\n"
     ]
    }
   ],
   "metadata": {}
  }
 ],
 "metadata": {
  "kernelspec": {
   "name": "python3",
   "display_name": "Python 3.8.8 64-bit ('base': conda)"
  },
  "language_info": {
   "codemirror_mode": {
    "name": "ipython",
    "version": 3
   },
   "file_extension": ".py",
   "mimetype": "text/x-python",
   "name": "python",
   "nbconvert_exporter": "python",
   "pygments_lexer": "ipython3",
   "version": "3.8.8"
  },
  "interpreter": {
   "hash": "7b4b4feff2f24a0f0a34464dbe537a36fda679851528fb8735cb41fa49dffb2d"
  }
 },
 "nbformat": 4,
 "nbformat_minor": 1
}