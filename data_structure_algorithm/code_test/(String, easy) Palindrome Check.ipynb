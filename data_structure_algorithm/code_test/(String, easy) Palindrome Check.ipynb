{
 "cells": [
  {
   "cell_type": "markdown",
   "source": [
    "# Palindrome Check\r\n",
    "\r\n",
    "## Problem\r\n",
    "Write a function that takes in a non-empty string and that returns a boolean representing whether the string is a palindrome.<br>\r\n",
    "\r\n",
    "A palindrome is defined as a string that's written the same forward and backward.<br>\r\n",
    "Note that single-character strings are palindromes.\r\n",
    "\r\n",
    "\r\n",
    "**Example**:\r\n",
    "* inputs:\r\n",
    "    * string = \"abcdcba\"\r\n",
    "* output: True"
   ],
   "metadata": {}
  },
  {
   "cell_type": "markdown",
   "source": [
    "## Solution\r\n",
    "\r\n",
    "O(n) time | O(1) space"
   ],
   "metadata": {}
  },
  {
   "cell_type": "code",
   "execution_count": 1,
   "source": [
    "def solution(string):\r\n",
    "    leftIdx = 0\r\n",
    "    rightIdx = len(string) - 1\r\n",
    "    while leftIdx < rightIdx:\r\n",
    "        if string[leftIdx] != string[rightIdx]:\r\n",
    "            return False\r\n",
    "        leftIdx += 1\r\n",
    "        rightIdx -= 1\r\n",
    "    return True"
   ],
   "outputs": [],
   "metadata": {}
  },
  {
   "cell_type": "markdown",
   "source": [
    "## Test Cases"
   ],
   "metadata": {}
  },
  {
   "cell_type": "code",
   "execution_count": 2,
   "source": [
    "from nose.tools import assert_equal\r\n",
    "\r\n",
    "assert_equal(solution(\"abcdcba\"), True)\r\n",
    "assert_equal(solution(\"abcdefghihgfeddcba\"), False)\r\n",
    "assert_equal(solution(\"abcdefghhgfedcba\"), True)\r\n",
    "assert_equal(solution(\"abb\"), False)\r\n",
    "assert_equal(solution(\"z\"), True)\r\n",
    "print('ALL TEST CASES PASSED')"
   ],
   "outputs": [
    {
     "output_type": "stream",
     "name": "stdout",
     "text": [
      "ALL TEST CASES PASSED\n"
     ]
    }
   ],
   "metadata": {}
  }
 ],
 "metadata": {
  "kernelspec": {
   "name": "python3",
   "display_name": "Python 3.8.8 64-bit ('base': conda)"
  },
  "language_info": {
   "codemirror_mode": {
    "name": "ipython",
    "version": 3
   },
   "file_extension": ".py",
   "mimetype": "text/x-python",
   "name": "python",
   "nbconvert_exporter": "python",
   "pygments_lexer": "ipython3",
   "version": "3.8.8"
  },
  "interpreter": {
   "hash": "7b4b4feff2f24a0f0a34464dbe537a36fda679851528fb8735cb41fa49dffb2d"
  }
 },
 "nbformat": 4,
 "nbformat_minor": 1
}