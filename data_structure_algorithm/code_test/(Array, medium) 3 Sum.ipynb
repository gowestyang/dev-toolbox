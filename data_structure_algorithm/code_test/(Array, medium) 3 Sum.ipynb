{
 "cells": [
  {
   "cell_type": "markdown",
   "source": [
    "# Three Number Sum\r\n",
    "\r\n",
    "## Problem\r\n",
    "Write a function that takes in a non-empty array of distinct integers, and an integer representing a target sum.<br>\r\n",
    "The function should find all triplets in the array that sum up to the target sum,<br>\r\n",
    "and return a two dimensional array of all these triplets.<br>\r\n",
    "The numbers in each triplet should be ordered in ascending order,<br>\r\n",
    "and the triplets themselves should be ordered in ascending order with respect to the numbers they hold.<br>\r\n",
    "\r\n",
    "If no three numbers sum up to the target sum, the function should return an empty array.\r\n",
    "\r\n",
    "\r\n",
    "**Example**:\r\n",
    "* inputs:\r\n",
    "    * array = [12, 3, 1, 2, -6, 5, -8, 6]\r\n",
    "    * targetSum = 0\r\n",
    "* output: [[-8, 2, 6], [-8, 3, 5], [-6, 1, 5]]"
   ],
   "metadata": {}
  },
  {
   "cell_type": "markdown",
   "source": [
    "## Solution\r\n",
    "\r\n",
    "O(n^2) time | O(n) space"
   ],
   "metadata": {}
  },
  {
   "cell_type": "code",
   "execution_count": 1,
   "source": [
    "def solution(array, targetSum):\r\n",
    "    array.sort()\r\n",
    "\r\n",
    "    triplets = []\r\n",
    "    for i in range(len(array) - 2):\r\n",
    "        left = i + 1\r\n",
    "        right = len(array) - 1\r\n",
    "        while left < right:\r\n",
    "            currentSum = array[i] + array[left] + array[right]\r\n",
    "            if currentSum == targetSum:\r\n",
    "                triplets.append([array[i], array[left], array[right]])\r\n",
    "                left += 1\r\n",
    "                right -= 1\r\n",
    "            elif currentSum < targetSum:\r\n",
    "                left += 1\r\n",
    "            elif currentSum > targetSum:\r\n",
    "                right -= 1\r\n",
    "    return triplets"
   ],
   "outputs": [],
   "metadata": {}
  },
  {
   "cell_type": "markdown",
   "source": [
    "## Test Cases"
   ],
   "metadata": {}
  },
  {
   "cell_type": "code",
   "execution_count": 2,
   "source": [
    "from nose.tools import assert_equal\r\n",
    "\r\n",
    "assert_equal(solution([12, 3, 1, 2, -6, 5, -8, 6], 0), [[-8, 2, 6], [-8, 3, 5],[-6, 1, 5]])\r\n",
    "assert_equal(solution([1, 2, 3], 6), [[1, 2, 3]])\r\n",
    "assert_equal(solution([1, 2, 3, 4, 5, 6, 7, 8, 9, 15], 5), [])\r\n",
    "assert_equal(solution([1, 2, 3, 4, 5, 6, 7, 8, 9, 15], 32), [[8, 9, 15]])\r\n",
    "assert_equal(solution([12, 3, 1, 2, -6, 5, 0, -8, -1, 6], 0), [[-8, 2, 6], [-8, 3, 5], [-6, 0, 6], [-6, 1, 5], [-1, 0, 1]])\r\n",
    "print('ALL TEST CASES PASSED')"
   ],
   "outputs": [
    {
     "output_type": "stream",
     "name": "stdout",
     "text": [
      "ALL TEST CASES PASSED\n"
     ]
    }
   ],
   "metadata": {}
  }
 ],
 "metadata": {
  "kernelspec": {
   "name": "python3",
   "display_name": "Python 3.8.8 64-bit ('base': conda)"
  },
  "language_info": {
   "codemirror_mode": {
    "name": "ipython",
    "version": 3
   },
   "file_extension": ".py",
   "mimetype": "text/x-python",
   "name": "python",
   "nbconvert_exporter": "python",
   "pygments_lexer": "ipython3",
   "version": "3.8.8"
  },
  "interpreter": {
   "hash": "7b4b4feff2f24a0f0a34464dbe537a36fda679851528fb8735cb41fa49dffb2d"
  }
 },
 "nbformat": 4,
 "nbformat_minor": 1
}