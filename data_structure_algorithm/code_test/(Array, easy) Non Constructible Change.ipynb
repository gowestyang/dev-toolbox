{
 "cells": [
  {
   "cell_type": "markdown",
   "source": [
    "# Non-Constructible Change\r\n",
    "\r\n",
    "## Problem\r\n",
    "Given an array of positive integers representing the values of coins in your possession,<br>\r\n",
    "write a function that returns the minimum amount of change (the minimum sum of money) that you cannot create.<br>\r\n",
    "The given coins can have any positive integer value and aren't necessarily unique (i.e., you can have multiple coins of the same value).<br>\r\n",
    "\r\n",
    "For example, if you're given coins = [1, 2, 5] , the minimum amount of change that you can't create is 4.<br>\r\n",
    "If you're given no coins, the minimum amount of change that you can't create is 1.\r\n",
    "\r\n",
    "**Example**:\r\n",
    "* inputs:\r\n",
    "    * coins = [5, 7, 1, 1, 2, 3, 22]\r\n",
    "* output: 20"
   ],
   "metadata": {}
  },
  {
   "cell_type": "markdown",
   "source": [
    "## Solution\r\n",
    "\r\n",
    "O(nlogn) time | O(1) space - where n is the number of coin"
   ],
   "metadata": {}
  },
  {
   "cell_type": "code",
   "execution_count": 1,
   "source": [
    "def solution(coins):\r\n",
    "    coins.sort()\r\n",
    "\r\n",
    "    currentChangeCreated = 0\r\n",
    "    for coin in coins:\r\n",
    "        if coin > currentChangeCreated + 1:\r\n",
    "            return currentChangeCreated + 1\r\n",
    "\r\n",
    "        currentChangeCreated += coin\r\n",
    "\r\n",
    "    return currentChangeCreated + 1"
   ],
   "outputs": [],
   "metadata": {}
  },
  {
   "cell_type": "markdown",
   "source": [
    "## Test Cases"
   ],
   "metadata": {}
  },
  {
   "cell_type": "code",
   "execution_count": 3,
   "source": [
    "from nose.tools import assert_equal\r\n",
    "\r\n",
    "assert_equal(solution([5, 7, 1, 1, 2, 3, 22]), 20)\r\n",
    "assert_equal(solution([1, 1, 1, 1, 1]), 6)\r\n",
    "assert_equal(solution([2]), 1)\r\n",
    "assert_equal(solution([1, 2, 3, 4, 5, 6, 7]), 29)\r\n",
    "assert_equal(solution([109, 2000, 8765, 19, 18, 17, 16, 8, 1, 1, 2, 4]), 87)\r\n",
    "print('ALL TEST CASES PASSED')"
   ],
   "outputs": [
    {
     "output_type": "stream",
     "name": "stdout",
     "text": [
      "ALL TEST CASES PASSED\n"
     ]
    }
   ],
   "metadata": {}
  }
 ],
 "metadata": {
  "kernelspec": {
   "name": "python3",
   "display_name": "Python 3.8.8 64-bit ('base': conda)"
  },
  "language_info": {
   "codemirror_mode": {
    "name": "ipython",
    "version": 3
   },
   "file_extension": ".py",
   "mimetype": "text/x-python",
   "name": "python",
   "nbconvert_exporter": "python",
   "pygments_lexer": "ipython3",
   "version": "3.8.8"
  },
  "interpreter": {
   "hash": "7b4b4feff2f24a0f0a34464dbe537a36fda679851528fb8735cb41fa49dffb2d"
  }
 },
 "nbformat": 4,
 "nbformat_minor": 1
}