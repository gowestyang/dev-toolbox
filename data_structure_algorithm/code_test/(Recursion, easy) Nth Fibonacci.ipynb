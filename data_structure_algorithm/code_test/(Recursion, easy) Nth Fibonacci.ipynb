{
 "cells": [
  {
   "cell_type": "markdown",
   "source": [
    "# Nth Fibonacci\r\n",
    "\r\n",
    "## Problem\r\n",
    "The Fibonacci sequence is defined as follows:\r\n",
    "* the first number of the sequence is 0,\r\n",
    "* the second number is 1,\r\n",
    "* the nth number is the sum of the (n - 1)th and (n - 2)th numbers.\r\n",
    "\r\n",
    "Write a function that takes in an integer n and returns the nth Fibonacci number.<br>\r\n",
    "\r\n",
    "Important note: the Fibonacci sequence is often defined with its first two numbers as F0 = 0 and F1 = 1.<br>\r\n",
    "For the purpose of this question, the first Fibonacci number is F0;<br>\r\n",
    "therefore, getNthFib(1) is equal to F0, getNthFib(2) is equal to F1, etc..\r\n",
    "\r\n",
    "**Example**:\r\n",
    "* inputs:\r\n",
    "    * n = 6\r\n",
    "* output: 5 (0, 1, 1, 2, 3, 5)"
   ],
   "metadata": {}
  },
  {
   "cell_type": "markdown",
   "source": [
    "## Solution 1 (best time and sapce)\r\n",
    "\r\n",
    "O(n) time | O(1) space\r\n",
    "\r\n",
    "Without using recursion"
   ],
   "metadata": {}
  },
  {
   "cell_type": "code",
   "execution_count": 1,
   "source": [
    "def solution(n):\r\n",
    "    lastTwo = [0, 1]\r\n",
    "    counter = 3\r\n",
    "    while counter <= n:\r\n",
    "        nextFib = lastTwo[0] + lastTwo[1]\r\n",
    "        lastTwo[0] = lastTwo[1]\r\n",
    "        lastTwo[1] = nextFib\r\n",
    "        counter += 1\r\n",
    "    return lastTwo[1] if n > 1 else lastTwo[0]\r\n"
   ],
   "outputs": [],
   "metadata": {}
  },
  {
   "cell_type": "markdown",
   "source": [
    "## Solution 2 (recursion with memoize)\r\n",
    "\r\n",
    "O(n) time | O(n) space"
   ],
   "metadata": {}
  },
  {
   "cell_type": "code",
   "execution_count": 5,
   "source": [
    "def solution(n, memoize={1: 0, 2: 1}):\r\n",
    "    if n in memoize:\r\n",
    "        return memoize[n]\r\n",
    "    else:\r\n",
    "        memoize[n] = solution(n - 1, memoize) + solution(n - 2, memoize)\r\n",
    "    return memoize[n]\r\n"
   ],
   "outputs": [],
   "metadata": {}
  },
  {
   "cell_type": "markdown",
   "source": [
    "## Solution 3 (naive recursion)\r\n",
    "\r\n",
    "O(2^n) time | O(n) space"
   ],
   "metadata": {}
  },
  {
   "cell_type": "code",
   "execution_count": 1,
   "source": [
    "def solution(n):\r\n",
    "    if n == 2:\r\n",
    "        return 1\r\n",
    "    elif n == 1:\r\n",
    "        return 0\r\n",
    "    else:\r\n",
    "        return solution(n - 1) + solution(n - 2)"
   ],
   "outputs": [],
   "metadata": {}
  },
  {
   "cell_type": "markdown",
   "source": [
    "## Test Cases"
   ],
   "metadata": {}
  },
  {
   "cell_type": "code",
   "execution_count": 2,
   "source": [
    "from nose.tools import assert_equal\r\n",
    "\r\n",
    "assert_equal(solution(6), 5)\r\n",
    "assert_equal(solution(1), 0)\r\n",
    "assert_equal(solution(2), 1)\r\n",
    "assert_equal(solution(3), 1)\r\n",
    "print('ALL TEST CASES PASSED')"
   ],
   "outputs": [
    {
     "output_type": "stream",
     "name": "stdout",
     "text": [
      "ALL TEST CASES PASSED\n"
     ]
    }
   ],
   "metadata": {}
  }
 ],
 "metadata": {
  "kernelspec": {
   "name": "python3",
   "display_name": "Python 3.8.8 64-bit ('base': conda)"
  },
  "language_info": {
   "codemirror_mode": {
    "name": "ipython",
    "version": 3
   },
   "file_extension": ".py",
   "mimetype": "text/x-python",
   "name": "python",
   "nbconvert_exporter": "python",
   "pygments_lexer": "ipython3",
   "version": "3.8.8"
  },
  "interpreter": {
   "hash": "7b4b4feff2f24a0f0a34464dbe537a36fda679851528fb8735cb41fa49dffb2d"
  }
 },
 "nbformat": 4,
 "nbformat_minor": 1
}