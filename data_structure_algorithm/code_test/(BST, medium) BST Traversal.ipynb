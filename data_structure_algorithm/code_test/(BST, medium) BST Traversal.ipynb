{
 "cells": [
  {
   "cell_type": "markdown",
   "source": [
    "# BST Traversal\r\n",
    "\r\n",
    "## Problem\r\n",
    "Write three functions that take in a Binary Search Tree (BST) and an empty array：\r\n",
    "- traverse the BST\r\n",
    "- add its nodes' values to the input array, and\r\n",
    "- return that array.\r\n",
    "\r\n",
    "The three functions should traverse the BST using the **in-order**, **pre-order**, and **postorder** tree-traversal techniques, respectively.\r\n",
    "\r\n",
    "Each BST node has an integer value, a left child node, and a right child node.<br>\r\n",
    "A node is said to be a valid BST node if and only if it satisfies the BST property:\r\n",
    "- its value is strictly greater than the values of every node to its left;\r\n",
    "- its value is less than or equal to the values of every node to its right; and\r\n",
    "- its children nodes are either valid BST nodes themselves or None / null .\r\n",
    "\r\n",
    "\r\n",
    "**Example**:\r\n",
    "* inputs:\r\n",
    "  * tree = \r\n",
    "  ```\r\n",
    "        10\r\n",
    "       /  \\\r\n",
    "      5    15\r\n",
    "     / \\     \\\r\n",
    "    2   6    22\r\n",
    "   /\r\n",
    "  1\r\n",
    "  ```\r\n",
    "  * array = []\r\n",
    "* outputs:\r\n",
    "  * inOrderTraverse: [1, 2, 5, 6, 10, 15, 22]\r\n",
    "  * preOrderTraverse: [10, 5, 2, 1, 6, 15, 22]\r\n",
    "  * postOrderTraverse: [1, 2, 6, 5, 22, 15, 10]"
   ],
   "metadata": {}
  },
  {
   "cell_type": "markdown",
   "source": [
    "## Solution"
   ],
   "metadata": {}
  },
  {
   "cell_type": "code",
   "execution_count": 1,
   "source": [
    "# O(n) time | O(n) space\r\n",
    "def inOrderTraverse(tree, array):\r\n",
    "    if tree is not None:\r\n",
    "        inOrderTraverse(tree.left, array)\r\n",
    "        array.append(tree.value)\r\n",
    "        inOrderTraverse(tree.right, array)\r\n",
    "    return array\r\n",
    "\r\n",
    "# O(n) time | O(n) space\r\n",
    "def preOrderTraverse(tree, array):\r\n",
    "    if tree is not None:\r\n",
    "        array.append(tree.value)\r\n",
    "        preOrderTraverse(tree.left, array)\r\n",
    "        preOrderTraverse(tree.right, array)\r\n",
    "    return array\r\n",
    "\r\n",
    "# O(n) time | O(n) space\r\n",
    "def postOrderTraverse(tree, array):\r\n",
    "    if tree is not None:\r\n",
    "        postOrderTraverse(tree.left, array)\r\n",
    "        postOrderTraverse(tree.right, array)\r\n",
    "        array.append(tree.value)\r\n",
    "    return array\r\n"
   ],
   "outputs": [],
   "metadata": {}
  },
  {
   "cell_type": "markdown",
   "source": [
    "## Test Cases"
   ],
   "metadata": {}
  },
  {
   "cell_type": "code",
   "execution_count": 2,
   "source": [
    "from nose.tools import assert_equal\r\n",
    "\r\n",
    "class BST:\r\n",
    "    def __init__(self, value):\r\n",
    "        self.value = value\r\n",
    "        self.left = None\r\n",
    "        self.right = None\r\n",
    "\r\n",
    "inputs = {\r\n",
    "  \"tree\": {\r\n",
    "    \"nodes\": [\r\n",
    "      {\"id\": \"10\", \"left\": \"5\", \"right\": \"15\", \"value\": 10},\r\n",
    "      {\"id\": \"15\", \"left\": None, \"right\": \"22\", \"value\": 15},\r\n",
    "      {\"id\": \"22\", \"left\": None, \"right\": None, \"value\": 22},\r\n",
    "      {\"id\": \"5\", \"left\": \"2\", \"right\": \"6\", \"value\": 5},\r\n",
    "      {\"id\": \"6\", \"left\": None, \"right\": None, \"value\": 6},\r\n",
    "      {\"id\": \"2\", \"left\": \"1\", \"right\": None, \"value\": 2},\r\n",
    "      {\"id\": \"1\", \"left\": None, \"right\": None, \"value\": 1}\r\n",
    "    ],\r\n",
    "    \"root\": \"10\"\r\n",
    "  }\r\n",
    "}\r\n",
    "\r\n",
    "dTree = dict()\r\n",
    "for d in reversed(inputs['tree']['nodes']):\r\n",
    "    dTree[d['id']] = BST(d['value'])\r\n",
    "    if d['left']:\r\n",
    "        dTree[d['id']].left = dTree[d['left']]\r\n",
    "    if d['right']:\r\n",
    "        dTree[d['id']].right = dTree[d['right']]\r\n",
    "\r\n",
    "tree = dTree[inputs['tree']['root']]\r\n",
    "\r\n",
    "assert_equal(inOrderTraverse(tree, []), [1, 2, 5, 6, 10, 15, 22])\r\n",
    "assert_equal(preOrderTraverse(tree, []), [10, 5, 2, 1, 6, 15, 22])\r\n",
    "assert_equal(postOrderTraverse(tree, []), [1, 2, 6, 5, 22, 15, 10])\r\n",
    "\r\n",
    "print('ALL TEST CASES PASSED')"
   ],
   "outputs": [
    {
     "output_type": "stream",
     "name": "stdout",
     "text": [
      "ALL TEST CASES PASSED\n"
     ]
    }
   ],
   "metadata": {}
  },
  {
   "cell_type": "code",
   "execution_count": null,
   "source": [],
   "outputs": [],
   "metadata": {}
  }
 ],
 "metadata": {
  "kernelspec": {
   "name": "python3",
   "display_name": "Python 3.8.8 64-bit ('base': conda)"
  },
  "language_info": {
   "codemirror_mode": {
    "name": "ipython",
    "version": 3
   },
   "file_extension": ".py",
   "mimetype": "text/x-python",
   "name": "python",
   "nbconvert_exporter": "python",
   "pygments_lexer": "ipython3",
   "version": "3.8.8"
  },
  "interpreter": {
   "hash": "7b4b4feff2f24a0f0a34464dbe537a36fda679851528fb8735cb41fa49dffb2d"
  }
 },
 "nbformat": 4,
 "nbformat_minor": 1
}