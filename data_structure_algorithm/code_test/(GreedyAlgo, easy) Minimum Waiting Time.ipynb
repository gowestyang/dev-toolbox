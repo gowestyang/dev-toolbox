{
 "cells": [
  {
   "cell_type": "markdown",
   "source": [
    "# Minimum Waiting Time\r\n",
    "\r\n",
    "## Problem\r\n",
    "You're given a non-empty array of positive integers representing the amounts of time that specific queries take to execute.<br>\r\n",
    "Only one query can be executed at a time, but the queries can be executed in any order.\r\n",
    "\r\n",
    "A query's waiting time is defined as the amount of time that it must wait before its execution starts.<br>\r\n",
    "In other words, if a query is executed second, then its waiting time is the duration of the first query;<br>\r\n",
    "if a query is executed third, then its waiting time is the sum of the durations of the first two queries.<br>\r\n",
    "\r\n",
    "Write a function that returns the minimum amount of total waiting time for all of the queries.<br>\r\n",
    "\r\n",
    "For example, if you're given the queries of durations [1, 4, 5], then the total waiting time if the queries were executed in the order of [5, 1, 4] would be (0) + (5) + (5 + 1) = 11.<br>\r\n",
    "* The first query of duration 5 would be executed immediately, so its waiting time would be 0,\r\n",
    "* the second query of duration 1 would have to wait 5 seconds (the duration of the first query) to be executed,\r\n",
    "* and the last query would have to wait the duration of the first two queries before being executed.\r\n",
    "\r\n",
    "Note: you're allowed to mutate the input array.\r\n",
    "\r\n",
    "**Example**:\r\n",
    "* inputs:\r\n",
    "    * queries = [3, 2, 1, 2, 6]\r\n",
    "* output: 17\r\n"
   ],
   "metadata": {}
  },
  {
   "cell_type": "markdown",
   "source": [
    "## Solution\r\n",
    "\r\n",
    "O(nlogn) time | O(1) space - where n is the number of queries\r\n",
    "\r\n",
    "Simply run quicker queries first"
   ],
   "metadata": {}
  },
  {
   "cell_type": "code",
   "execution_count": 1,
   "source": [
    "def solution(queries):\r\n",
    "    queries.sort()\r\n",
    "\r\n",
    "    totalWaitingTime = 0\r\n",
    "    for idx, duration in enumerate(queries):\r\n",
    "        queriesLeft = len(queries) - (idx + 1)\r\n",
    "        totalWaitingTime += duration * queriesLeft\r\n",
    "\r\n",
    "    return totalWaitingTime"
   ],
   "outputs": [],
   "metadata": {}
  },
  {
   "cell_type": "markdown",
   "source": [
    "## Test Cases"
   ],
   "metadata": {}
  },
  {
   "cell_type": "code",
   "execution_count": 2,
   "source": [
    "from nose.tools import assert_equal\r\n",
    "\r\n",
    "assert_equal(solution([3, 2, 1, 2, 6]), 17)\r\n",
    "print('ALL TEST CASES PASSED')"
   ],
   "outputs": [
    {
     "output_type": "stream",
     "name": "stdout",
     "text": [
      "ALL TEST CASES PASSED\n"
     ]
    }
   ],
   "metadata": {}
  }
 ],
 "metadata": {
  "kernelspec": {
   "name": "python3",
   "display_name": "Python 3.8.8 64-bit ('base': conda)"
  },
  "language_info": {
   "codemirror_mode": {
    "name": "ipython",
    "version": 3
   },
   "file_extension": ".py",
   "mimetype": "text/x-python",
   "name": "python",
   "nbconvert_exporter": "python",
   "pygments_lexer": "ipython3",
   "version": "3.8.8"
  },
  "interpreter": {
   "hash": "7b4b4feff2f24a0f0a34464dbe537a36fda679851528fb8735cb41fa49dffb2d"
  }
 },
 "nbformat": 4,
 "nbformat_minor": 1
}