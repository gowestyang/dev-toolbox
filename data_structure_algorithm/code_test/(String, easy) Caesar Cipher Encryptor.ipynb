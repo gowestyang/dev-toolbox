{
 "cells": [
  {
   "cell_type": "markdown",
   "source": [
    "# Caesar Cipher Encryptor\r\n",
    "\r\n",
    "## Problem\r\n",
    "Given a non-empty string of lowercase letters and a non-negative integer representing a key,<br>\r\n",
    "write a function that returns a new string obtained by shifting every letter in the input string by k positions in the alphabet, where k is the\r\n",
    "key.<br>\r\n",
    "\r\n",
    "Note that letters should \"wrap\" around the alphabet; in other words, the letter `z` shifted by one returns the letter `a`.\r\n",
    "\r\n",
    "**Example**:\r\n",
    "* inputs:\r\n",
    "    * string = \"xyz\"\r\n",
    "    * key = 2\r\n",
    "* output: \"zab\""
   ],
   "metadata": {}
  },
  {
   "cell_type": "markdown",
   "source": [
    "## Solution 1\r\n",
    "\r\n",
    "O(n) time | O(n) space"
   ],
   "metadata": {}
  },
  {
   "cell_type": "code",
   "execution_count": 1,
   "source": [
    "def solution(string, key):\r\n",
    "    newLetters = []\r\n",
    "    newKey = key % 26\r\n",
    "    for letter in string:\r\n",
    "        newLetters.append(getNewLetter(letter, newKey))\r\n",
    "    return \"\".join(newLetters)\r\n",
    "\r\n",
    "def getNewLetter(letter, key):\r\n",
    "    # ord() returns an iteger representing the Unicode character, 'a' is 97, 'z' is 122\r\n",
    "    newLetterCode = ord(letter) + key\r\n",
    "    return chr(newLetterCode) if newLetterCode <= 122 else chr(96 + newLetterCode % 122)\r\n"
   ],
   "outputs": [],
   "metadata": {}
  },
  {
   "cell_type": "markdown",
   "source": [
    "## Solution 2\r\n",
    "\r\n",
    "O(n) time | O(n) space"
   ],
   "metadata": {}
  },
  {
   "cell_type": "code",
   "execution_count": 1,
   "source": [
    "# O(n) time | O(n) space\r\n",
    "def solution(string, key):\r\n",
    "    newLetters = []\r\n",
    "    newKey = key % 26\r\n",
    "    alphabet = list(\"abcdefghijklmnopqrstuvwxyz\")\r\n",
    "    for letter in string:\r\n",
    "        newLetters.append(getNewLetter(letter, newKey, alphabet))\r\n",
    "    return \"\".join(newLetters)\r\n",
    "\r\n",
    "def getNewLetter(letter, key, alphabet):\r\n",
    "    newLetterCode = alphabet.index(letter) + key\r\n",
    "    return alphabet[newLetterCode % 26]"
   ],
   "outputs": [],
   "metadata": {}
  },
  {
   "cell_type": "markdown",
   "source": [
    "## Test Cases"
   ],
   "metadata": {}
  },
  {
   "cell_type": "code",
   "execution_count": 2,
   "source": [
    "from nose.tools import assert_equal\r\n",
    "\r\n",
    "assert_equal(solution(\"xyz\", 2), \"zab\")\r\n",
    "assert_equal(solution(\"kjwmntauvjjnmsagwgawkagfuaugjhawgnawgjhawjgawbfawghesh\", 15), \"zylbcipjkyycbhpvlvplzpvujpjvywplvcplvywplyvplquplvwthw\")\r\n",
    "assert_equal(solution(\"iwufqnkqkqoolxzzlzihqfm\", 25), \"hvtepmjpjpnnkwyykyhgpel\")\r\n",
    "assert_equal(solution(\"abc\", 57), \"fgh\")\r\n",
    "assert_equal(solution(\"xyz\", 5), \"cde\")\r\n",
    "print('ALL TEST CASES PASSED')"
   ],
   "outputs": [
    {
     "output_type": "stream",
     "name": "stdout",
     "text": [
      "ALL TEST CASES PASSED\n"
     ]
    }
   ],
   "metadata": {}
  }
 ],
 "metadata": {
  "kernelspec": {
   "name": "python3",
   "display_name": "Python 3.8.8 64-bit ('base': conda)"
  },
  "language_info": {
   "codemirror_mode": {
    "name": "ipython",
    "version": 3
   },
   "file_extension": ".py",
   "mimetype": "text/x-python",
   "name": "python",
   "nbconvert_exporter": "python",
   "pygments_lexer": "ipython3",
   "version": "3.8.8"
  },
  "interpreter": {
   "hash": "7b4b4feff2f24a0f0a34464dbe537a36fda679851528fb8735cb41fa49dffb2d"
  }
 },
 "nbformat": 4,
 "nbformat_minor": 1
}