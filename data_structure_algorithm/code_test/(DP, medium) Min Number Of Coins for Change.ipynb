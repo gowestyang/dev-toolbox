{
 "cells": [
  {
   "cell_type": "markdown",
   "source": [
    "# Min Number Of Coins For Change\r\n",
    "\r\n",
    "## Problem\r\n",
    "Given an array of positive integers representing coin denominations and a single non-negative integer n representing a target amount of money,<br>\r\n",
    "write a function that returns the smallest number of coins needed to make change for (to sum up to) that target amount using the given coin denominations.<br>\r\n",
    "\r\n",
    "Note that you have access to an unlimited amount of coins.<br>\r\n",
    "In other words, if the denominations are [1, 5, 10] , you have access to an unlimited amount of 1 s, 5 s, and 10 s.<br>\r\n",
    "If it's impossible to make change for the target amount, return -1.\r\n",
    "\r\n",
    "\r\n",
    "**Example**:\r\n",
    "* inputs:\r\n",
    "    * n = 7\r\n",
    "    * demos = [1, 5, 10]\r\n",
    "* output: 3 (1x2 + 5x1)"
   ],
   "metadata": {}
  },
  {
   "cell_type": "markdown",
   "source": [
    "## Solution\r\n",
    "\r\n",
    "O(nd) time | O(n) space\r\n",
    "\r\n",
    "**Example**:\r\n",
    "* n = 7\r\n",
    "* demos = [1, 5, 10]\r\n",
    "* numOfCoins = [inf, inf, inf, inf, inf, inf, inf, inf]\r\n",
    "* numOfCoins = [0, inf, inf, inf, inf, inf, inf, inf]\r\n",
    "* denom = 1\r\n",
    "    * amount = 0\r\n",
    "    * amount = 1\r\n",
    "        * numOfCoins = [0, 1, inf, inf, inf, inf, inf, inf] (numOfCoins[1] = min(numOfCoins[1], numOfCoins[0]+1))\r\n",
    "    * amount = 2\r\n",
    "        * numOfCoins = [0, 1, 2, inf, inf, inf, inf, inf] (numOfCoins[2] = min(numOfCoins[2], numOfCoins[1]+1))\r\n",
    "    * amount = 3\r\n",
    "        * numOfCoins = [0, 1, 2, 3, inf, inf, inf, inf] (numOfCoins[3] = min(numOfCoins[3], numOfCoins[2]+1))\r\n",
    "    * amount = 4\r\n",
    "        * numOfCoins = [0, 1, 2, 3, 4, inf, inf, inf] (numOfCoins[4] = min(numOfCoins[4], numOfCoins[3]+1))\r\n",
    "    * amount = 5\r\n",
    "        * numOfCoins = [0, 1, 2, 3, 4, 5, inf, inf] (numOfCoins[5] = min(numOfCoins[5], numOfCoins[4]+1))\r\n",
    "    * amount = 6\r\n",
    "        * numOfCoins = [0, 1, 2, 3, 4, 5, 6, inf] (numOfCoins[6] = min(numOfCoins[6], numOfCoins[5]+1))\r\n",
    "    * amount = 7\r\n",
    "        * numOfCoins = [0, 1, 2, 3, 4, 5, 6, 7] (numOfCoins[7] = min(numOfCoins[7], numOfCoins[6]+1))\r\n",
    "* denom = 5\r\n",
    "    * amount = 1\r\n",
    "    * amount = 2\r\n",
    "    * amount = 3\r\n",
    "    * amount = 4\r\n",
    "    * amount = 5\r\n",
    "        * numOfCoins = [0, 1, 2, 3, 4, 1, 6, 7] (numOfCoins[5] = min(numOfCoins[5], numOfCoins[0]+1))\r\n",
    "    * amount = 6\r\n",
    "        * numOfCoins = [0, 1, 2, 3, 4, 1, 2, 7] (numOfCoins[6] = min(numOfCoins[6], numOfCoins[1]+1))\r\n",
    "    * amount = 7\r\n",
    "        * numOfCoins = [0, 1, 2, 3, 4, 1, 2, 3] (numOfCoins[7] = min(numOfCoins[7], numOfCoins[2]+1))\r\n",
    "* denom = 10\r\n"
   ],
   "metadata": {}
  },
  {
   "cell_type": "code",
   "execution_count": 1,
   "source": [
    "def solution(n, denoms):\r\n",
    "    numOfCoins = [float(\"inf\") for amount in range(n + 1)]\r\n",
    "    numOfCoins[0] = 0\r\n",
    "    for denom in denoms:\r\n",
    "        for amount in range(len(numOfCoins)):\r\n",
    "            if denom <= amount:\r\n",
    "                numOfCoins[amount] = min(numOfCoins[amount], numOfCoins[amount - denom] + 1)\r\n",
    "    return numOfCoins[n] if numOfCoins[n] != float(\"inf\") else -1"
   ],
   "outputs": [],
   "metadata": {}
  },
  {
   "cell_type": "markdown",
   "source": [
    "## Test Cases"
   ],
   "metadata": {}
  },
  {
   "cell_type": "code",
   "execution_count": 2,
   "source": [
    "from nose.tools import assert_equal\r\n",
    "\r\n",
    "assert_equal(solution(7, [1, 5, 10]), 3)\r\n",
    "assert_equal(solution(10, [1, 3, 4]), 3)\r\n",
    "assert_equal(solution(9, [3, 4, 5]), 2)\r\n",
    "assert_equal(solution(7, [2, 4]), -1)\r\n",
    "assert_equal(solution(11, [1, 5, 10]), 2)\r\n",
    "print('ALL TEST CASES PASSED')"
   ],
   "outputs": [
    {
     "output_type": "stream",
     "name": "stdout",
     "text": [
      "ALL TEST CASES PASSED\n"
     ]
    }
   ],
   "metadata": {}
  }
 ],
 "metadata": {
  "kernelspec": {
   "name": "python3",
   "display_name": "Python 3.8.8 64-bit ('base': conda)"
  },
  "language_info": {
   "codemirror_mode": {
    "name": "ipython",
    "version": 3
   },
   "file_extension": ".py",
   "mimetype": "text/x-python",
   "name": "python",
   "nbconvert_exporter": "python",
   "pygments_lexer": "ipython3",
   "version": "3.8.8"
  },
  "interpreter": {
   "hash": "7b4b4feff2f24a0f0a34464dbe537a36fda679851528fb8735cb41fa49dffb2d"
  }
 },
 "nbformat": 4,
 "nbformat_minor": 1
}