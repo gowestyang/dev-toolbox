{
 "cells": [
  {
   "cell_type": "markdown",
   "source": [
    "# Remove Duplicates From Linked List\r\n",
    "\r\n",
    "## Problem\r\n",
    "You're given the head of a Singly Linked List, whose nodes are in sorted order with respect to their values.<br>\r\n",
    "Write a function that returns a modified version of the Linked List, that doesn't contain any nodes with duplicate values.<br>\r\n",
    "The Linked List should be modified in place (i.e., you shouldn't create a brand new list),<br>\r\n",
    "and the modified Linked List should still have its nodes sorted with respect to their values.<br>\r\n",
    "\r\n",
    "Each LinkedList node has an integer value as well as a next node pointing to the next node in the list or to None / null if it's the tail of the list.\r\n",
    "\r\n",
    "**Example**:\r\n",
    "* inputs:\r\n",
    "    * linkedList = 1 -> 1 -> 3 -> 4 -> 4 -> 4 -> 5 -> 6 -> 6\r\n",
    "* output: 1 -> 3 -> 4 -> 5 -> 6"
   ],
   "metadata": {}
  },
  {
   "cell_type": "markdown",
   "source": [
    "## Solution\r\n",
    "\r\n",
    "O(n) time | O(1) space - where n is the number of nodes in the Linked List"
   ],
   "metadata": {}
  },
  {
   "cell_type": "code",
   "execution_count": 1,
   "source": [
    "def solution(linkedList):\r\n",
    "    currentNode = linkedList\r\n",
    "    while currentNode is not None:\r\n",
    "        nextDistinctNode = currentNode.next\r\n",
    "        while nextDistinctNode is not None and nextDistinctNode.value == currentNode.value:\r\n",
    "            nextDistinctNode = nextDistinctNode.next\r\n",
    "        \r\n",
    "        currentNode.next = nextDistinctNode\r\n",
    "        currentNode = nextDistinctNode\r\n",
    "    return linkedList\r\n"
   ],
   "outputs": [],
   "metadata": {}
  },
  {
   "cell_type": "markdown",
   "source": [
    "## Test Cases"
   ],
   "metadata": {}
  },
  {
   "cell_type": "code",
   "execution_count": 3,
   "source": [
    "from nose.tools import assert_equal\r\n",
    "\r\n",
    "class LinkedList:\r\n",
    "    def __init__(self, value):\r\n",
    "        self.value = value\r\n",
    "        self.next = None\r\n",
    "\r\n",
    "inputs = {\r\n",
    "  \"linkedList\": {\r\n",
    "    \"head\": \"1\",\r\n",
    "    \"nodes\": [\r\n",
    "      {\"id\": \"1\", \"next\": \"1-2\", \"value\": 1},\r\n",
    "      {\"id\": \"1-2\", \"next\": \"1-3\", \"value\": 1},\r\n",
    "      {\"id\": \"1-3\", \"next\": \"2\", \"value\": 1},\r\n",
    "      {\"id\": \"2\", \"next\": \"3\", \"value\": 3},\r\n",
    "      {\"id\": \"3\", \"next\": \"3-2\", \"value\": 4},\r\n",
    "      {\"id\": \"3-2\", \"next\": \"3-3\", \"value\": 4},\r\n",
    "      {\"id\": \"3-3\", \"next\": \"4\", \"value\": 4},\r\n",
    "      {\"id\": \"4\", \"next\": \"5\", \"value\": 5},\r\n",
    "      {\"id\": \"5\", \"next\": \"5-2\", \"value\": 6},\r\n",
    "      {\"id\": \"5-2\", \"next\": None, \"value\": 6}\r\n",
    "    ]\r\n",
    "  }\r\n",
    "}\r\n",
    "\r\n",
    "dLinkedList = dict()\r\n",
    "for d in reversed(inputs['linkedList']['nodes']):\r\n",
    "    dLinkedList[d['id']] = LinkedList(d['value'])\r\n",
    "    if d['next']:\r\n",
    "        dLinkedList[d['id']].next = dLinkedList[d['next']]\r\n",
    "\r\n",
    "linkedList = dLinkedList[inputs['linkedList']['head']]\r\n",
    "\r\n",
    "linkedList_sol = solution(linkedList)\r\n",
    "assert_equal(linkedList_sol.value, 1)\r\n",
    "assert_equal(linkedList_sol.next.value, 3)\r\n",
    "assert_equal(linkedList_sol.next.next.value, 4)\r\n",
    "assert_equal(linkedList_sol.next.next.next.value, 5)\r\n",
    "assert_equal(linkedList_sol.next.next.next.next.value, 6)\r\n",
    "print('ALL TEST CASES PASSED')"
   ],
   "outputs": [
    {
     "output_type": "stream",
     "name": "stdout",
     "text": [
      "ALL TEST CASES PASSED\n"
     ]
    }
   ],
   "metadata": {}
  }
 ],
 "metadata": {
  "kernelspec": {
   "name": "python3",
   "display_name": "Python 3.8.8 64-bit ('base': conda)"
  },
  "language_info": {
   "codemirror_mode": {
    "name": "ipython",
    "version": 3
   },
   "file_extension": ".py",
   "mimetype": "text/x-python",
   "name": "python",
   "nbconvert_exporter": "python",
   "pygments_lexer": "ipython3",
   "version": "3.8.8"
  },
  "interpreter": {
   "hash": "7b4b4feff2f24a0f0a34464dbe537a36fda679851528fb8735cb41fa49dffb2d"
  }
 },
 "nbformat": 4,
 "nbformat_minor": 1
}