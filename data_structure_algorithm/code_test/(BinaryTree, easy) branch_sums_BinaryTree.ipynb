{
 "cells": [
  {
   "cell_type": "markdown",
   "source": [
    "# Branch Sums\r\n",
    "\r\n",
    "## Problem\r\n",
    "Write a function that takes in a Binary Tree,<br>\r\n",
    "and returns a list of its branch sums, ordered from leftmost branch sum to rightmost branch sum.\r\n",
    "\r\n",
    "A branch sum is the sum of all values in a Binary Tree branch.<br>\r\n",
    "A Binary Tree branch is a path of nodes in a tree that starts at the root node and ends at any leaf node.<br>\r\n",
    "Each BinaryTree node has an integer value, a left child node, and a right child node.<br>\r\n",
    "Children nodes can either be BinaryTree nodes themselves or None / null.\r\n",
    "\r\n",
    "**Example**:\r\n",
    "* inputs:\r\n",
    "  * tree = \r\n",
    "  ```\r\n",
    "          1\r\n",
    "        /    \\\r\n",
    "       2      3\r\n",
    "     /   \\   / \\\r\n",
    "    4     5 6   7\r\n",
    "   / \\   /\r\n",
    "  8   9 10\r\n",
    "  ```\r\n",
    "* output: [15, 16, 18, 10, 11]"
   ],
   "metadata": {}
  },
  {
   "cell_type": "markdown",
   "source": [
    "## Solution\r\n",
    "\r\n",
    "O(n) time | O(n) space - where n is the number of nodes in the Binary Tree"
   ],
   "metadata": {}
  },
  {
   "cell_type": "code",
   "execution_count": 1,
   "source": [
    "def solution(root):\r\n",
    "    sums = []\r\n",
    "    calculateBranchSums(root, 0, sums)\r\n",
    "    return sums\r\n",
    "\r\n",
    "def calculateBranchSums(node, runningSum, sums):\r\n",
    "    if node is None:\r\n",
    "        return\r\n",
    "\r\n",
    "    newRunningSum = runningSum + node.value\r\n",
    "    if node.left is None and node.right is None:\r\n",
    "        sums.append(newRunningSum)\r\n",
    "        return\r\n",
    "\r\n",
    "    calculateBranchSums(node.left, newRunningSum, sums)\r\n",
    "    calculateBranchSums(node.right, newRunningSum, sums)\r\n"
   ],
   "outputs": [],
   "metadata": {}
  },
  {
   "cell_type": "markdown",
   "source": [
    "## Test Cases"
   ],
   "metadata": {}
  },
  {
   "cell_type": "code",
   "execution_count": 2,
   "source": [
    "from nose.tools import assert_equal\r\n",
    "\r\n",
    "class BST:\r\n",
    "    def __init__(self, value):\r\n",
    "        self.value = value\r\n",
    "        self.left = None\r\n",
    "        self.right = None\r\n",
    "\r\n",
    "inputs = {\r\n",
    "  \"tree\": {\r\n",
    "    \"nodes\": [\r\n",
    "      {\"id\": \"1\", \"left\": \"2\", \"right\": \"3\", \"value\": 1},\r\n",
    "      {\"id\": \"2\", \"left\": \"4\", \"right\": \"5\", \"value\": 2},\r\n",
    "      {\"id\": \"3\", \"left\": \"6\", \"right\": \"7\", \"value\": 3},\r\n",
    "      {\"id\": \"4\", \"left\": \"8\", \"right\": \"9\", \"value\": 4},\r\n",
    "      {\"id\": \"5\", \"left\": \"10\", \"right\": None, \"value\": 5},\r\n",
    "      {\"id\": \"6\", \"left\": None, \"right\": None, \"value\": 6},\r\n",
    "      {\"id\": \"7\", \"left\": None, \"right\": None, \"value\": 7},\r\n",
    "      {\"id\": \"8\", \"left\": None, \"right\": None, \"value\": 8},\r\n",
    "      {\"id\": \"9\", \"left\": None, \"right\": None, \"value\": 9},\r\n",
    "      {\"id\": \"10\", \"left\": None, \"right\": None, \"value\": 10}\r\n",
    "    ],\r\n",
    "    \"root\": \"1\"\r\n",
    "  }\r\n",
    "}\r\n",
    "\r\n",
    "dTree = dict()\r\n",
    "for d in reversed(inputs['tree']['nodes']):\r\n",
    "    dTree[d['id']] = BST(d['value'])\r\n",
    "    if d['left']:\r\n",
    "        dTree[d['id']].left = dTree[d['left']]\r\n",
    "    if d['right']:\r\n",
    "        dTree[d['id']].right = dTree[d['right']]\r\n",
    "\r\n",
    "assert_equal(solution(dTree[inputs['tree']['root']]), [15, 16, 18, 10, 11])\r\n",
    "print('ALL TEST CASES PASSED')"
   ],
   "outputs": [
    {
     "output_type": "stream",
     "name": "stdout",
     "text": [
      "ALL TEST CASES PASSED\n"
     ]
    }
   ],
   "metadata": {}
  }
 ],
 "metadata": {
  "kernelspec": {
   "name": "python3",
   "display_name": "Python 3.8.8 64-bit ('base': conda)"
  },
  "language_info": {
   "codemirror_mode": {
    "name": "ipython",
    "version": 3
   },
   "file_extension": ".py",
   "mimetype": "text/x-python",
   "name": "python",
   "nbconvert_exporter": "python",
   "pygments_lexer": "ipython3",
   "version": "3.8.8"
  },
  "interpreter": {
   "hash": "7b4b4feff2f24a0f0a34464dbe537a36fda679851528fb8735cb41fa49dffb2d"
  }
 },
 "nbformat": 4,
 "nbformat_minor": 1
}