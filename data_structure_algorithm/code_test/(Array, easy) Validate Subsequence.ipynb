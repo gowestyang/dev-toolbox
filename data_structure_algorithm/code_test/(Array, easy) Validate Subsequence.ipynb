{
 "cells": [
  {
   "cell_type": "markdown",
   "source": [
    "# Validate Subsequence\r\n",
    "\r\n",
    "## Problem\r\n",
    "Given two non-empty arrays of integers, write a function that determines whether the second array is a subsequence of the first one.<br>\r\n",
    "\r\n",
    "A subsequence of an array is a set of numbers that aren't necessarily adjacent in the array, but that are in the same order as they appear in the array.<br>\r\n",
    "For instance, the numbers [1, 3, 4] form a subsequence of the array [1, 2, 3, 4] , and so do the numbers [2, 4].<br>\r\n",
    "Note that a single number in an array and the array itself are both valid subsequences of the array.\r\n",
    "\r\n",
    "**Example**:\r\n",
    "* inputs:\r\n",
    "    * array = [5, 1, 22, 25, 6, -1, 8, 10]\r\n",
    "    * sequence = [1, 6, -1, 10]\r\n",
    "* output: true"
   ],
   "metadata": {}
  },
  {
   "cell_type": "markdown",
   "source": [
    "## Solution 1\r\n",
    "\r\n",
    "O(n) time | O(1) space - where n is the length of the arr"
   ],
   "metadata": {}
  },
  {
   "cell_type": "code",
   "execution_count": 1,
   "source": [
    "def solution(array, sequence):\r\n",
    "    arrIdx = 0\r\n",
    "    seqIdx = 0\r\n",
    "    while arrIdx < len(array) and seqIdx < len(sequence):\r\n",
    "        if array[arrIdx] == sequence[seqIdx]:\r\n",
    "            seqIdx += 1\r\n",
    "        arrIdx += 1\r\n",
    "    return seqIdx == len(sequence)"
   ],
   "outputs": [],
   "metadata": {}
  },
  {
   "cell_type": "markdown",
   "source": [
    "## Solution 2\r\n",
    "\r\n",
    "O(n) time | O(1) space - where n is the length of the arr\r\n",
    "\r\n",
    "Yang Xi: same idea as above, but the for loop can cause useless cost."
   ],
   "metadata": {}
  },
  {
   "cell_type": "code",
   "execution_count": 1,
   "source": [
    "def solution(array, sequence):\r\n",
    "    seqIdx = 0\r\n",
    "    for value in array:\r\n",
    "        if seqIdx == len(sequence):\r\n",
    "            break\r\n",
    "        if sequence[seqIdx] == value:\r\n",
    "            seqIdx += 1\r\n",
    "    return seqIdx == len(sequence)"
   ],
   "outputs": [],
   "metadata": {}
  },
  {
   "cell_type": "markdown",
   "source": [
    "## Test Cases"
   ],
   "metadata": {}
  },
  {
   "cell_type": "code",
   "execution_count": 2,
   "source": [
    "from nose.tools import assert_equal\r\n",
    "\r\n",
    "assert_equal(solution([5, 1, 22, 25, 6, -1, 8, 10], [1, 6, -1, 10]),True)\r\n",
    "assert_equal(solution([5, 1, 22, 25, 6, -1, 8, 10], [5, 1, 22, 25, 6, -1, 8, 10]),True)\r\n",
    "assert_equal(solution([5, 1, 22, 25, 6, -1, 8, 10], [5, 1, 22, 6, -1, 8, 10]),True)\r\n",
    "assert_equal(solution([5, 1, 22, 25, 6, -1, 8, 10], [22, 25, 6]),True)\r\n",
    "assert_equal(solution([5, 1, 22, 25, 6, -1, 8, 10], [1, 6, 10]),True)\r\n",
    "assert_equal(solution([5, 1, 22, 25, 6, -1, 8, 10], [5, 1, 22, 25, 6, -1, 8, 10, 12]),False)\r\n",
    "\r\n",
    "print('ALL TEST CASES PASSED')"
   ],
   "outputs": [
    {
     "output_type": "stream",
     "name": "stdout",
     "text": [
      "ALL TEST CASES PASSED\n"
     ]
    }
   ],
   "metadata": {}
  }
 ],
 "metadata": {
  "kernelspec": {
   "name": "python3",
   "display_name": "Python 3.8.8 64-bit ('base': conda)"
  },
  "language_info": {
   "codemirror_mode": {
    "name": "ipython",
    "version": 3
   },
   "file_extension": ".py",
   "mimetype": "text/x-python",
   "name": "python",
   "nbconvert_exporter": "python",
   "pygments_lexer": "ipython3",
   "version": "3.8.8"
  },
  "interpreter": {
   "hash": "7b4b4feff2f24a0f0a34464dbe537a36fda679851528fb8735cb41fa49dffb2d"
  }
 },
 "nbformat": 4,
 "nbformat_minor": 1
}