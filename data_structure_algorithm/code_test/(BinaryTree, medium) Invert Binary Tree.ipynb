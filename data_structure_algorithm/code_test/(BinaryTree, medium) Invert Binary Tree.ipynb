{
 "cells": [
  {
   "cell_type": "markdown",
   "source": [
    "# Invert Binary Tree\r\n",
    "\r\n",
    "## Problem\r\n",
    "Write a function that takes in a Binary Tree and inverts it.<br>\r\n",
    "In other words, the function should swap every left node in the tree for its corresponding right node.\r\n",
    "\r\n",
    "Each BinaryTree node has an integer value, a left child node, and a right child node.<br>\r\n",
    "Children nodes can either be BinaryTree nodes themselves or None / null.\r\n",
    "\r\n",
    "\r\n",
    "**Example**:\r\n",
    "* inputs:\r\n",
    "  * tree = \r\n",
    "  ```\r\n",
    "          1\r\n",
    "        /    \\\r\n",
    "       2      3\r\n",
    "     /   \\   / \\\r\n",
    "    4     5 6   7\r\n",
    "   / \\\r\n",
    "  8   9\r\n",
    "  ```\r\n",
    "* output:\r\n",
    "  * tree = \r\n",
    "  ```\r\n",
    "          1\r\n",
    "        /    \\\r\n",
    "       3      2\r\n",
    "     /   \\   / \\\r\n",
    "    7     6 5   4\r\n",
    "               / \\\r\n",
    "              9   8\r\n",
    "  ```"
   ],
   "metadata": {}
  },
  {
   "cell_type": "markdown",
   "source": [
    "## Solution\r\n",
    "\r\n",
    "O(n) time | O(n) space"
   ],
   "metadata": {}
  },
  {
   "cell_type": "code",
   "execution_count": 1,
   "source": [
    "def invertBinaryTree(tree):\r\n",
    "    queue = [tree]\r\n",
    "    while len(queue):\r\n",
    "        current = queue.pop(0)\r\n",
    "        if current is None:\r\n",
    "            continue\r\n",
    "        swapLeftAndRight(current)\r\n",
    "        queue.append(current.left)\r\n",
    "        queue.append(current.right)\r\n",
    "\r\n",
    "def swapLeftAndRight(tree):\r\n",
    "    tree.left, tree.right = tree.right, tree.left\r\n"
   ],
   "outputs": [],
   "metadata": {}
  },
  {
   "cell_type": "markdown",
   "source": [
    "## Test Cases"
   ],
   "metadata": {}
  },
  {
   "cell_type": "code",
   "execution_count": 2,
   "source": [
    "from nose.tools import assert_equal\r\n",
    "\r\n",
    "class BST:\r\n",
    "    def __init__(self, value):\r\n",
    "        self.value = value\r\n",
    "        self.left = None\r\n",
    "        self.right = None\r\n",
    "\r\n",
    "inputs = {\r\n",
    "  \"tree\": {\r\n",
    "    \"nodes\": [\r\n",
    "      {\"id\": \"1\", \"left\": \"2\", \"right\": \"3\", \"value\": 1},\r\n",
    "      {\"id\": \"2\", \"left\": \"4\", \"right\": \"5\", \"value\": 2},\r\n",
    "      {\"id\": \"3\", \"left\": \"6\", \"right\": \"7\", \"value\": 3},\r\n",
    "      {\"id\": \"4\", \"left\": \"8\", \"right\": \"9\", \"value\": 4},\r\n",
    "      {\"id\": \"5\", \"left\": None, \"right\": None, \"value\": 5},\r\n",
    "      {\"id\": \"6\", \"left\": None, \"right\": None, \"value\": 6},\r\n",
    "      {\"id\": \"7\", \"left\": None, \"right\": None, \"value\": 7},\r\n",
    "      {\"id\": \"8\", \"left\": None, \"right\": None, \"value\": 8},\r\n",
    "      {\"id\": \"9\", \"left\": None, \"right\": None, \"value\": 9}\r\n",
    "    ],\r\n",
    "    \"root\": \"1\"\r\n",
    "  }\r\n",
    "}\r\n",
    "\r\n",
    "dTree = dict()\r\n",
    "for d in reversed(inputs['tree']['nodes']):\r\n",
    "    dTree[d['id']] = BST(d['value'])\r\n",
    "    if d['left']:\r\n",
    "        dTree[d['id']].left = dTree[d['left']]\r\n",
    "    if d['right']:\r\n",
    "        dTree[d['id']].right = dTree[d['right']]\r\n",
    "\r\n",
    "tree = dTree[inputs['tree']['root']]\r\n",
    "\r\n",
    "# Check solution\r\n",
    "invertBinaryTree(tree)\r\n",
    "\r\n",
    "assert_equal(tree.value, 1)\r\n",
    "assert_equal(tree.left.value, 3)\r\n",
    "assert_equal(tree.right.value, 2)\r\n",
    "assert_equal(tree.right.right.right.value, 8)\r\n",
    "print('ALL TEST CASES PASSED')\r\n"
   ],
   "outputs": [
    {
     "output_type": "stream",
     "name": "stdout",
     "text": [
      "ALL TEST CASES PASSED\n"
     ]
    }
   ],
   "metadata": {}
  },
  {
   "cell_type": "code",
   "execution_count": null,
   "source": [],
   "outputs": [],
   "metadata": {}
  }
 ],
 "metadata": {
  "kernelspec": {
   "name": "python3",
   "display_name": "Python 3.8.8 64-bit ('base': conda)"
  },
  "language_info": {
   "codemirror_mode": {
    "name": "ipython",
    "version": 3
   },
   "file_extension": ".py",
   "mimetype": "text/x-python",
   "name": "python",
   "nbconvert_exporter": "python",
   "pygments_lexer": "ipython3",
   "version": "3.8.8"
  },
  "interpreter": {
   "hash": "7b4b4feff2f24a0f0a34464dbe537a36fda679851528fb8735cb41fa49dffb2d"
  }
 },
 "nbformat": 4,
 "nbformat_minor": 1
}