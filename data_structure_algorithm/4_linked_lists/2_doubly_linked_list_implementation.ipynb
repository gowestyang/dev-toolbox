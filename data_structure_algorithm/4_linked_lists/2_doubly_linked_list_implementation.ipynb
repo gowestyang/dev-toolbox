{
 "cells": [
  {
   "cell_type": "markdown",
   "metadata": {},
   "source": [
    "# Doubly Linked List\n",
    "Yang Xi<br>\n",
    "27 Sep 2020\n",
    "\n",
    "<br>\n",
    "\n",
    "* Definition\n",
    "* Doubly Linked List Operations\n",
    "* Doubly Linked List Implementation\n",
    "* References\n",
    "\n",
    "<br>\n"
   ]
  },
  {
   "cell_type": "markdown",
   "metadata": {},
   "source": [
    "# Definition\n",
    "\n",
    "A **doubly** linked list is a linked list in which each node keeps an explicity references to the nodes **before and after** it.\n",
    "\n",
    "The **header** and **tailer** nodes are \"dummy\" nodes which are known as **sentinels** (or guards) nodes.\n",
    "\n",
    "![](images/sentinel_node.jpg)"
   ]
  },
  {
   "cell_type": "markdown",
   "metadata": {},
   "source": [
    "## Doubly Linked List Operations\n",
    "Doubly linked lists allow a greater variety of **O(1) time** update operations, including insertions and deletions.\n",
    "\n",
    "### Insertion into Doubly Linked List\n",
    "Every insertion into a doubly linkedlist will take place between a pair of existing nodes.<br>\n",
    "To insert at the front of the sequence, the new node can be simply added between the header and the node after the header.\n",
    "![](images/doubly_linked_lists_insertion.jpg)\n",
    "\n",
    "### Deletion of a Node\n",
    "The two neighbors of the node to be deleted are linked directly to each other. Because of sentinels, the same implementation can be used to delete the first or the last element of a sequence.<br>\n",
    "The node deleted no longer belongs to the list and it can be reclaimed by the system.\n",
    "![](images/doubly_linked_lists_deletion.jpg)"
   ]
  },
  {
   "cell_type": "markdown",
   "metadata": {},
   "source": [
    "# Doubly Linked List Implementation"
   ]
  },
  {
   "cell_type": "code",
   "execution_count": 1,
   "metadata": {},
   "outputs": [],
   "source": [
    "class DoublyLinkedListNode(object):\n",
    "    \n",
    "    def __init__(self,value):\n",
    "        \n",
    "        self.value = value\n",
    "        self.next_node = None\n",
    "        self.prev_node = None"
   ]
  },
  {
   "cell_type": "code",
   "execution_count": 2,
   "metadata": {},
   "outputs": [],
   "source": [
    "a = DoublyLinkedListNode(1)\n",
    "b = DoublyLinkedListNode(2)\n",
    "c = DoublyLinkedListNode(3)"
   ]
  },
  {
   "cell_type": "code",
   "execution_count": 3,
   "metadata": {},
   "outputs": [],
   "source": [
    "b.prev_node = a\n",
    "a.next_node = b"
   ]
  },
  {
   "cell_type": "code",
   "execution_count": 4,
   "metadata": {},
   "outputs": [],
   "source": [
    "b.next_node = c\n",
    "c.prev_node = b"
   ]
  },
  {
   "cell_type": "markdown",
   "metadata": {},
   "source": [
    "## References\n",
    "* [(2019 Jose) Linked Lists](https://www.udemy.com/course/python-for-data-structures-algorithms-and-interviews/)"
   ]
  },
  {
   "cell_type": "code",
   "execution_count": null,
   "metadata": {},
   "outputs": [],
   "source": []
  }
 ],
 "metadata": {
  "kernelspec": {
   "display_name": "Python 3",
   "language": "python",
   "name": "python3"
  },
  "language_info": {
   "codemirror_mode": {
    "name": "ipython",
    "version": 3
   },
   "file_extension": ".py",
   "mimetype": "text/x-python",
   "name": "python",
   "nbconvert_exporter": "python",
   "pygments_lexer": "ipython3",
   "version": "3.7.6"
  }
 },
 "nbformat": 4,
 "nbformat_minor": 1
}
