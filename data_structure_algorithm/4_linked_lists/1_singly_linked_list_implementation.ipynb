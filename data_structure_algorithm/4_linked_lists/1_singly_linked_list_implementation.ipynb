{
 "cells": [
  {
   "cell_type": "markdown",
   "metadata": {},
   "source": [
    "# Singly Linked List\n",
    "Yang Xi<br>\n",
    "27 Sep 2020\n",
    "\n",
    "<br>\n",
    "\n",
    "* Definition\n",
    "    * Pros\n",
    "    * Cons\n",
    "* Singly Linked List Operations\n",
    "* Singly Linked List Implementation\n",
    "* References\n",
    "\n",
    "<br>\n"
   ]
  },
  {
   "cell_type": "markdown",
   "metadata": {},
   "source": [
    "# Definition\n",
    "A **singly linked list** is a collection of **nodes** that collectively form a linear sequence. Each node stores\n",
    "* a reference to an object that is an element of the sequence; and\n",
    "* a reference to the next node of the list\n",
    "\n",
    "The first node is named **head**, and in some applications, the last node of the list is named **tail**.\n",
    "* We can identify the tail as the node having `None` as its next reference.\n",
    "\n",
    "The process of tracking throught the list is commonly known as **traversing** the linked list. Because the next reference of a node can be viewed as a **link** or **pointer** to another node, the process of traversing a list is also known as **link hopping** or **pointer hopping**.\n",
    "\n",
    "An important property oflinked list is that it **does not have a predetermined fixed size**. It uses space proportionally to its current number of elements."
   ]
  },
  {
   "cell_type": "markdown",
   "metadata": {},
   "source": [
    "### Pros\n",
    "\n",
    "* Linked Lists have **constant-time insertions and deletions** in any position, in comparison, arrays require O(n) time to do the same thing.\n",
    "\n",
    "* Linked lists can continue to expand without having to specify their size ahead of time\n",
    "\n",
    "### Cons\n",
    "\n",
    "* To **access an element** in a linked list, you need to take O(k) time to go from the head of the list to the kth element. In contrast, arrays have constant time operations to access elements in an array."
   ]
  },
  {
   "cell_type": "markdown",
   "metadata": {},
   "source": [
    "## Singly Linked List Operations\n",
    "### Inserting an Element at the Head of a Singly Linked List\n",
    "1. Create a new node\n",
    "2. Set its element to the new element\n",
    "3. Set its next link to refer to the current head\n",
    "4. Set the list's head to point to the new node\n",
    "\n",
    "### Inserting an Element at the Tail of a Singly Linked List\n",
    "1. Create a new node\n",
    "2. Set its element to the new element\n",
    "3. Assign its next reference to None\n",
    "4. Set the next reference of the tail to point to this new node\n",
    "5. Update the tail reference to this new node\n",
    "\n",
    "### Removing an Element from Head of a Singly Linked List\n",
    "This is the reverse operation of inserting an element at the head.\n",
    "\n",
    "### Removing an Element from Tail of a Singly Linked List\n",
    "The last node of a singly linked list cannot be easily deleted.<br>\n",
    "Even if we have a tail reference, we still need to access the node **before** the last node, which cannot be reached by following the next links from the tail.<br>\n",
    "To support such operation efficiently, we will need to make our list **doubly linked**.\n"
   ]
  },
  {
   "cell_type": "markdown",
   "metadata": {},
   "source": [
    "# Singly Linked List Implementation"
   ]
  },
  {
   "cell_type": "code",
   "execution_count": 1,
   "metadata": {},
   "outputs": [],
   "source": [
    "class Node(object):\n",
    "    \n",
    "    def __init__(self,value):\n",
    "        \n",
    "        self.value = value\n",
    "        self.nextnode = None"
   ]
  },
  {
   "cell_type": "code",
   "execution_count": 2,
   "metadata": {},
   "outputs": [],
   "source": [
    "a = Node(1)\n",
    "b = Node(2)\n",
    "c = Node(3)"
   ]
  },
  {
   "cell_type": "code",
   "execution_count": 3,
   "metadata": {},
   "outputs": [],
   "source": [
    "a.nextnode = b\n",
    "b.nextnode = c"
   ]
  },
  {
   "cell_type": "markdown",
   "metadata": {},
   "source": [
    "## References\n",
    "* [(2019 Jose) Linked Lists](https://www.udemy.com/course/python-for-data-structures-algorithms-and-interviews/)"
   ]
  },
  {
   "cell_type": "code",
   "execution_count": null,
   "metadata": {},
   "outputs": [],
   "source": []
  }
 ],
 "metadata": {
  "kernelspec": {
   "display_name": "Python 3",
   "language": "python",
   "name": "python3"
  },
  "language_info": {
   "codemirror_mode": {
    "name": "ipython",
    "version": 3
   },
   "file_extension": ".py",
   "mimetype": "text/x-python",
   "name": "python",
   "nbconvert_exporter": "python",
   "pygments_lexer": "ipython3",
   "version": "3.7.6"
  }
 },
 "nbformat": 4,
 "nbformat_minor": 1
}
