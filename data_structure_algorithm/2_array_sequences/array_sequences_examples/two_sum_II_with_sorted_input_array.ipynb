{
 "cells": [
  {
   "cell_type": "markdown",
   "metadata": {},
   "source": [
    "# Two Sum II - With Sorted Input Array\n",
    "\n",
    "## Problem\n",
    "Given an array of integers that is already sorted in ascending order, find two numbers such that they add up to a specific target number.\n",
    "\n",
    "The function twoSum should return indices of the two numbers such that they add up to the target, where index1 must be less than index2.\n",
    "\n",
    "**Note**:\n",
    "* Your returned answers (both index1 and index2) are not zero-based.\n",
    "* You may assume that each input would have exactly one solution and you may not use the same element twice."
   ]
  },
  {
   "cell_type": "markdown",
   "metadata": {},
   "source": [
    "## Solution"
   ]
  },
  {
   "cell_type": "code",
   "execution_count": 1,
   "metadata": {},
   "outputs": [],
   "source": [
    "def twoSum(numbers, target):\n",
    "        il = 0\n",
    "        ih = len(numbers)-1\n",
    "        \n",
    "        while(il < ih):\n",
    "            s = numbers[il] + numbers[ih]\n",
    "            if s == target:\n",
    "                return [il+1, ih+1]\n",
    "            elif s < target:\n",
    "                il += 1\n",
    "            else:\n",
    "                ih -= 1\n",
    "        \n",
    "        return [-1,-1]"
   ]
  },
  {
   "cell_type": "markdown",
   "metadata": {},
   "source": [
    "## Test Cases"
   ]
  },
  {
   "cell_type": "code",
   "execution_count": 2,
   "metadata": {},
   "outputs": [
    {
     "name": "stdout",
     "output_type": "stream",
     "text": [
      "ALL TEST CASES PASSED\n"
     ]
    }
   ],
   "source": [
    "from nose.tools import assert_equal\n",
    "\n",
    "class LargeContTest(object):\n",
    "    def test(self,sol):\n",
    "        assert_equal(sol([2,7,11,15], 9),[1,2])\n",
    "        assert_equal(sol([2,3,4], 6), [1,3])\n",
    "        assert_equal(sol([-1,0], -1), [1,2])\n",
    "        assert_equal(sol([0,0,3,4], 0), [1,2])\n",
    "        assert_equal(sol([1,2,4,4,5,8], 8), [3,4])\n",
    "        print('ALL TEST CASES PASSED')\n",
    "        \n",
    "\n",
    "t = LargeContTest()\n",
    "t.test(twoSum)"
   ]
  },
  {
   "cell_type": "code",
   "execution_count": null,
   "metadata": {},
   "outputs": [],
   "source": []
  }
 ],
 "metadata": {
  "kernelspec": {
   "display_name": "Python 3",
   "language": "python",
   "name": "python3"
  },
  "language_info": {
   "codemirror_mode": {
    "name": "ipython",
    "version": 3
   },
   "file_extension": ".py",
   "mimetype": "text/x-python",
   "name": "python",
   "nbconvert_exporter": "python",
   "pygments_lexer": "ipython3",
   "version": "3.7.6"
  }
 },
 "nbformat": 4,
 "nbformat_minor": 1
}
