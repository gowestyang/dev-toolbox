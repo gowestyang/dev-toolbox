{
 "cells": [
  {
   "cell_type": "markdown",
   "metadata": {},
   "source": [
    "# Perfect Binary Tree\n",
    "\n",
    "## Problem Statement\n",
    "\n",
    "Given Binary tree, in it we call a perfect tree as when it has 0 or 2 childern for a node.<br>\n",
    "Return the maximum possible perfect subtree size ( i.e count of all nodes in a perfect subtree ) that can formed in a given binary tree by removing some nodes.\n",
    "___\n",
    "\n",
    "![title](images/perfect_binary_tree_1.jpg)\n",
    "___\n",
    "By removing node 9, we get the maximum possible perfect tree with size  is 9.\n",
    "___\n",
    "![title](images/perfect_binary_tree_2.jpg)\n"
   ]
  },
  {
   "cell_type": "code",
   "execution_count": 1,
   "metadata": {},
   "outputs": [],
   "source": [
    "class Node:\n",
    "    def __init__(self, k, left=None, right=None):\n",
    "        self.key = k\n",
    "        self.left = left\n",
    "        self.right = right"
   ]
  },
  {
   "cell_type": "markdown",
   "metadata": {},
   "source": [
    "## Solution"
   ]
  },
  {
   "cell_type": "code",
   "execution_count": 2,
   "metadata": {},
   "outputs": [],
   "source": [
    "def be_perfect(tree):\n",
    "    if not tree:\n",
    "        return 0\n",
    "    if tree.left and tree.right:\n",
    "        return 1+be_perfect(tree.left)+be_perfect(tree.right)\n",
    "    else:\n",
    "        return 1"
   ]
  },
  {
   "cell_type": "markdown",
   "metadata": {},
   "source": [
    "## Test Cases"
   ]
  },
  {
   "cell_type": "code",
   "execution_count": 3,
   "metadata": {},
   "outputs": [],
   "source": [
    "tree = Node(18)\n",
    "tree.left = Node(15)\n",
    "tree.left.left = Node(40)\n",
    "tree.left.left.left = Node(8)\n",
    "tree.left.left.right = Node(7)\n",
    "tree.left.right = Node(50)\n",
    "tree.left.right.left = Node(9)\n",
    "tree.right = Node(30)\n",
    "tree.right.left = Node(100)\n",
    "tree.right.right = Node(40)"
   ]
  },
  {
   "cell_type": "code",
   "execution_count": 4,
   "metadata": {},
   "outputs": [
    {
     "data": {
      "text/plain": [
       "9"
      ]
     },
     "execution_count": 4,
     "metadata": {},
     "output_type": "execute_result"
    }
   ],
   "source": [
    "be_perfect(tree)"
   ]
  },
  {
   "cell_type": "code",
   "execution_count": null,
   "metadata": {},
   "outputs": [],
   "source": []
  }
 ],
 "metadata": {
  "kernelspec": {
   "display_name": "Python 3",
   "language": "python",
   "name": "python3"
  },
  "language_info": {
   "codemirror_mode": {
    "name": "ipython",
    "version": 3
   },
   "file_extension": ".py",
   "mimetype": "text/x-python",
   "name": "python",
   "nbconvert_exporter": "python",
   "pygments_lexer": "ipython3",
   "version": "3.7.6"
  }
 },
 "nbformat": 4,
 "nbformat_minor": 1
}
