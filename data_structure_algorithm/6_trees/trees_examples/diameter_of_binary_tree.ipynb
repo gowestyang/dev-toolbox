{
 "cells": [
  {
   "cell_type": "markdown",
   "metadata": {},
   "source": [
    "# Diameter of Binary Tree\n",
    "## Problem\n",
    "Given a binary tree, you need to compute the length of the diameter of the tree. The diameter of a binary tree is the length of the longest path between any two nodes in a tree. This path may or may not pass through the root.\n",
    "\n",
    "**Example**:<br>\n",
    "Given a binary tree:\n",
    "![](images/diameter_of_binary_tree.jpg)\n",
    "\n",
    "Return 3, which is the length of the path [4,2,1,3] or [5,2,1,3].\n",
    "\n",
    "**Note**: The length of path between two nodes is represented by the number of edges between them."
   ]
  },
  {
   "cell_type": "code",
   "execution_count": 1,
   "metadata": {},
   "outputs": [],
   "source": [
    "class TreeNode:\n",
    "    def __init__(self, val=0, left=None, right=None):\n",
    "        self.val = val\n",
    "        self.left = left\n",
    "        self.right = right"
   ]
  },
  {
   "cell_type": "markdown",
   "metadata": {},
   "source": [
    "## Solution"
   ]
  },
  {
   "cell_type": "code",
   "execution_count": 2,
   "metadata": {},
   "outputs": [],
   "source": [
    "def diameterOfBinaryTree(root):\n",
    "    global diameter\n",
    "    diameter = 1\n",
    "    \n",
    "    def getDepth(node):\n",
    "        global diameter\n",
    "        \n",
    "        if not node:\n",
    "            return 0\n",
    "        \n",
    "        leftDepth = getDepth(node.left)\n",
    "        rightDepth = getDepth(node.right)\n",
    "        diameter = max(diameter, leftDepth+rightDepth+1)\n",
    "        \n",
    "        return max(leftDepth, rightDepth) + 1\n",
    "    \n",
    "    getDepth(root)\n",
    "    \n",
    "    return diameter-1\n"
   ]
  },
  {
   "cell_type": "markdown",
   "metadata": {},
   "source": [
    "## Test Cases"
   ]
  },
  {
   "cell_type": "code",
   "execution_count": 3,
   "metadata": {},
   "outputs": [
    {
     "data": {
      "text/plain": [
       "3"
      ]
     },
     "execution_count": 3,
     "metadata": {},
     "output_type": "execute_result"
    }
   ],
   "source": [
    "tree = TreeNode(1, left=TreeNode(2), right=TreeNode(3))\n",
    "tree.left.left = TreeNode(4)\n",
    "tree.left.right = TreeNode(5)\n",
    "\n",
    "diameterOfBinaryTree(tree)\n"
   ]
  },
  {
   "cell_type": "code",
   "execution_count": null,
   "metadata": {},
   "outputs": [],
   "source": []
  }
 ],
 "metadata": {
  "kernelspec": {
   "display_name": "Python 3",
   "language": "python",
   "name": "python3"
  },
  "language_info": {
   "codemirror_mode": {
    "name": "ipython",
    "version": 3
   },
   "file_extension": ".py",
   "mimetype": "text/x-python",
   "name": "python",
   "nbconvert_exporter": "python",
   "pygments_lexer": "ipython3",
   "version": "3.7.6"
  }
 },
 "nbformat": 4,
 "nbformat_minor": 4
}
