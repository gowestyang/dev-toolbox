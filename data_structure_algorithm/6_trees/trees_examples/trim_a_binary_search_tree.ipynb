{
 "cells": [
  {
   "cell_type": "markdown",
   "metadata": {},
   "source": [
    "# Trim a Binary Search Tree \n",
    "\n",
    "## Problem Statement\n",
    "\n",
    "Given the root of a binary search tree and 2 numbers min and max, trim the tree such that all the numbers in the new tree are between min and max (inclusive). The resulting tree should still be a valid binary search tree. So, if we get this tree as input:\n",
    "___\n",
    "\n",
    "![title](images/bst1.png)\n",
    "___\n",
    "and we’re given **min value as 5** and **max value as 13**, then the resulting binary search tree should be: \n",
    "___\n",
    "![title](images/bst_trim.png)\n",
    "___\n",
    "We should remove all the nodes whose value is not between min and max. \n"
   ]
  },
  {
   "cell_type": "code",
   "execution_count": 1,
   "metadata": {},
   "outputs": [],
   "source": [
    "class Node:\n",
    "    def __init__(self, k, left=None, right=None, parent=None):\n",
    "        self.key = k\n",
    "        self.left = left\n",
    "        self.right = right\n",
    "        self.parent = parent"
   ]
  },
  {
   "cell_type": "markdown",
   "metadata": {},
   "source": [
    "## Solution - Without Using Parent"
   ]
  },
  {
   "cell_type": "code",
   "execution_count": 2,
   "metadata": {},
   "outputs": [],
   "source": [
    "def trimBST(tree, minVal, maxVal): \n",
    "    \n",
    "    if not tree: \n",
    "        return \n",
    "    \n",
    "    tree.left=trimBST(tree.left, minVal, maxVal) \n",
    "    tree.right=trimBST(tree.right, minVal, maxVal) \n",
    "    \n",
    "    if minVal<=tree.key<=maxVal: \n",
    "        return tree \n",
    "    \n",
    "    if tree.key<minVal: \n",
    "        return tree.right \n",
    "    \n",
    "    if tree.key>maxVal: \n",
    "        return tree.left "
   ]
  },
  {
   "cell_type": "markdown",
   "metadata": {},
   "source": [
    "## Solution 2 - With Parent"
   ]
  },
  {
   "cell_type": "code",
   "execution_count": null,
   "metadata": {},
   "outputs": [],
   "source": [
    "def trimBST(tree, minVal, maxVal):\n",
    "    if not tree:\n",
    "        return\n",
    "    \n",
    "    if minVal<=tree.key<=maxVal:\n",
    "        trimBST(tree.left, minVal, maxVal)\n",
    "        trimBST(tree.right, minVal, maxVal)\n",
    "    elif tree.key<minVal:\n",
    "        if tree.right:\n",
    "            tree.right.parent = tree.parent\n",
    "            tree.parent.left = tree.right\n",
    "            trimBST(tree.right, minVal, maxVal)\n",
    "        else:\n",
    "            tree.parent.left = None\n",
    "    else:\n",
    "        if tree.left:\n",
    "            tree.left.parent = tree.parent\n",
    "            tree.parent.right = tree.left\n",
    "            trimBST(tree.left, minVal, maxVal)\n",
    "        else:\n",
    "            tree.parent.right = None"
   ]
  },
  {
   "cell_type": "markdown",
   "metadata": {},
   "source": [
    "## Test Cases"
   ]
  },
  {
   "cell_type": "code",
   "execution_count": 3,
   "metadata": {},
   "outputs": [],
   "source": [
    "# Define functions to check BST\n",
    "def tree_max(node):\n",
    "    if not node:\n",
    "        return float(\"-inf\")\n",
    "    maxleft  = tree_max(node.left)\n",
    "    maxright = tree_max(node.right)\n",
    "    return max(node.key, maxleft, maxright)\n",
    "\n",
    "def tree_min(node):\n",
    "    if not node:\n",
    "        return float(\"inf\")\n",
    "    minleft  = tree_min(node.left)\n",
    "    minright = tree_min(node.right)\n",
    "    return min(node.key, minleft, minright)\n",
    "\n",
    "def bst_check(node):\n",
    "    if not node:\n",
    "        return True\n",
    "    if (tree_max(node.left) <= node.key <= tree_min(node.right) and\n",
    "        bst_check(node.left) and bst_check(node.right)):\n",
    "        return True\n",
    "    else:\n",
    "        return False"
   ]
  },
  {
   "cell_type": "code",
   "execution_count": 4,
   "metadata": {},
   "outputs": [
    {
     "name": "stdout",
     "output_type": "stream",
     "text": [
      "1\n",
      "14\n"
     ]
    },
    {
     "data": {
      "text/plain": [
       "True"
      ]
     },
     "execution_count": 4,
     "metadata": {},
     "output_type": "execute_result"
    }
   ],
   "source": [
    "bst = Node(8)\n",
    "bst.left = Node(3, parent=bst)\n",
    "bst.left.left = Node(1, parent=bst.left)\n",
    "bst.left.right = Node(6, parent=bst.left)\n",
    "bst.left.right.left = Node(4, parent=bst.left.right)\n",
    "bst.left.right.right = Node(7, parent=bst.left.right)\n",
    "bst.right = Node(10, parent=bst)\n",
    "bst.right.right = Node(14, parent=bst.right)\n",
    "bst.right.right.left = Node(13, parent=bst.right.right)\n",
    "\n",
    "print(tree_min(bst))\n",
    "print(tree_max(bst))\n",
    "bst_check(bst)"
   ]
  },
  {
   "cell_type": "code",
   "execution_count": 5,
   "metadata": {},
   "outputs": [
    {
     "name": "stdout",
     "output_type": "stream",
     "text": [
      "6\n",
      "13\n"
     ]
    },
    {
     "data": {
      "text/plain": [
       "True"
      ]
     },
     "execution_count": 5,
     "metadata": {},
     "output_type": "execute_result"
    }
   ],
   "source": [
    "trimBST(bst, 5, 13)\n",
    "\n",
    "print(tree_min(bst))\n",
    "print(tree_max(bst))\n",
    "bst_check(bst)"
   ]
  },
  {
   "cell_type": "code",
   "execution_count": null,
   "metadata": {},
   "outputs": [],
   "source": []
  }
 ],
 "metadata": {
  "kernelspec": {
   "display_name": "Python 3",
   "language": "python",
   "name": "python3"
  },
  "language_info": {
   "codemirror_mode": {
    "name": "ipython",
    "version": 3
   },
   "file_extension": ".py",
   "mimetype": "text/x-python",
   "name": "python",
   "nbconvert_exporter": "python",
   "pygments_lexer": "ipython3",
   "version": "3.7.6"
  }
 },
 "nbformat": 4,
 "nbformat_minor": 1
}
