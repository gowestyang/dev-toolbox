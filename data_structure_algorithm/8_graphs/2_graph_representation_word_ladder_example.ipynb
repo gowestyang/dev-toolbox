{
 "cells": [
  {
   "cell_type": "markdown",
   "metadata": {
    "collapsed": true
   },
   "source": [
    "# Graph Representation - Word Ladder Example\n",
    "\n",
    "Yang Xi<br>\n",
    "01 Oct 2020\n",
    "\n",
    "<br>\n",
    "\n",
    "* Word Ladder Problem\n",
    "* Graph Representation\n",
    "* Implementation\n",
    "* References\n",
    "\n",
    "<br>\n"
   ]
  },
  {
   "cell_type": "markdown",
   "metadata": {},
   "source": [
    "## Word Ladder Problem\n",
    "In this notebook, we will use the Word Ladder Problem as an example to demostarte how to transform and problem into a graph.\n",
    "\n",
    "Say you want to transform the word **FOOL** to **SAGE**. At each step:\n",
    "* You can change only one letter.\n",
    "* You must transform the work into another word.\n",
    "\n",
    "A valide solution is:\n",
    "* FOOL -> POOL -> POLL -> POLE -> PALE -> SALE -> SAGE\n"
   ]
  },
  {
   "cell_type": "markdown",
   "metadata": {},
   "source": [
    "## Graph Representation\n",
    "\n",
    "We can represent the relationship between the words as a graph, and use **breadth first search** to find an efficient path from the starting work to the ending word.\n",
    "\n",
    "<br>\n",
    "\n",
    "To turn a large collection of 4-letter words into a graph, we wil have an edge from one word to another, if the two words are only different by a single letter.\n",
    "* To achieve this, firstly replace one letter in each word with an \"\\_\", group them together and represent in a dictionary:\n",
    "![](images/word_ladder_1.jpg)\n",
    "\n",
    "* Then we create a vertex for each word, and add edges between al vertices we find under the same key in the dictionary."
   ]
  },
  {
   "cell_type": "markdown",
   "metadata": {},
   "source": [
    "## Implementation"
   ]
  },
  {
   "cell_type": "code",
   "execution_count": 1,
   "metadata": {},
   "outputs": [],
   "source": [
    "class Vertex:\n",
    "    def __init__(self,key):\n",
    "        self.id = key\n",
    "        self.connectedTo = {}\n",
    "\n",
    "    def addNeighbor(self,nbr,weight=0):\n",
    "        self.connectedTo[nbr] = weight\n",
    "\n",
    "    def __str__(self):\n",
    "        return str(self.id) + ' connectedTo: ' + str([x.id for x in self.connectedTo])\n",
    "\n",
    "    def getConnections(self):\n",
    "        return self.connectedTo.keys()\n",
    "\n",
    "    def getId(self):\n",
    "        return self.id\n",
    "\n",
    "    def getWeight(self,nbr):\n",
    "        return self.connectedTo[nbr]"
   ]
  },
  {
   "cell_type": "code",
   "execution_count": 2,
   "metadata": {},
   "outputs": [],
   "source": [
    "class Graph:\n",
    "    def __init__(self):\n",
    "        self.vertList = {}\n",
    "        self.numVertices = 0\n",
    "\n",
    "    def addVertex(self,key):\n",
    "        self.numVertices = self.numVertices + 1\n",
    "        newVertex = Vertex(key)\n",
    "        self.vertList[key] = newVertex\n",
    "        return newVertex\n",
    "\n",
    "    def getVertex(self,n):\n",
    "        if n in self.vertList:\n",
    "            return self.vertList[n]\n",
    "        else:\n",
    "            return None\n",
    "\n",
    "    def __contains__(self,n):\n",
    "        return n in self.vertList\n",
    "\n",
    "    def addEdge(self,f,t,cost=0):\n",
    "        if f not in self.vertList:\n",
    "            nv = self.addVertex(f)\n",
    "        if t not in self.vertList:\n",
    "            nv = self.addVertex(t)\n",
    "        self.vertList[f].addNeighbor(self.vertList[t], cost)\n",
    "\n",
    "    def getVertices(self):\n",
    "        return self.vertList.keys()\n",
    "\n",
    "    def __iter__(self):\n",
    "        return iter(self.vertList.values())"
   ]
  },
  {
   "cell_type": "markdown",
   "metadata": {},
   "source": [
    "Code for buildGraph function:"
   ]
  },
  {
   "cell_type": "code",
   "execution_count": 3,
   "metadata": {},
   "outputs": [],
   "source": [
    "def buildGraph(wordFile):\n",
    "    d = {}\n",
    "    g = Graph()\n",
    "    \n",
    "    wfile = open(wordFile,'r')\n",
    "    # create buckets of words that differ by one letter\n",
    "    for line in wfile:\n",
    "        print(line)\n",
    "        word = line[:-1]\n",
    "        print(word)\n",
    "        for i in range(len(word)):\n",
    "            bucket = word[:i] + '_' + word[i+1:]\n",
    "            if bucket in d:\n",
    "                d[bucket].append(word)\n",
    "            else:\n",
    "                d[bucket] = [word]\n",
    "    # add vertices and edges for words in the same bucket\n",
    "    for bucket in d.keys():\n",
    "        for word1 in d[bucket]:\n",
    "            for word2 in d[bucket]:\n",
    "                if word1 != word2:\n",
    "                    g.addEdge(word1,word2)\n",
    "    return g"
   ]
  },
  {
   "cell_type": "code",
   "execution_count": 4,
   "metadata": {},
   "outputs": [
    {
     "name": "stdout",
     "output_type": "stream",
     "text": [
      "pope\n",
      "\n",
      "pope\n",
      "rope\n",
      "\n",
      "rope\n",
      "sage\n",
      "\n",
      "sage\n",
      "best\n",
      "\n",
      "best\n",
      "ripe\n",
      "\n",
      "ripe\n",
      "pipe\n",
      "pip\n"
     ]
    },
    {
     "data": {
      "text/plain": [
       "<__main__.Graph at 0x1cdfb9485c8>"
      ]
     },
     "execution_count": 4,
     "metadata": {},
     "output_type": "execute_result"
    }
   ],
   "source": [
    "buildGraph('data/words.txt')"
   ]
  },
  {
   "cell_type": "markdown",
   "metadata": {},
   "source": [
    "## References\n",
    "* [(2019 Jose) Graph Algorithms](https://www.udemy.com/course/python-for-data-structures-algorithms-and-interviews)"
   ]
  },
  {
   "cell_type": "code",
   "execution_count": null,
   "metadata": {},
   "outputs": [],
   "source": []
  }
 ],
 "metadata": {
  "kernelspec": {
   "display_name": "Python 3",
   "language": "python",
   "name": "python3"
  },
  "language_info": {
   "codemirror_mode": {
    "name": "ipython",
    "version": 3
   },
   "file_extension": ".py",
   "mimetype": "text/x-python",
   "name": "python",
   "nbconvert_exporter": "python",
   "pygments_lexer": "ipython3",
   "version": "3.7.6"
  }
 },
 "nbformat": 4,
 "nbformat_minor": 1
}
