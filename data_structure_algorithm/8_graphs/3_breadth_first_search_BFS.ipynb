{
 "cells": [
  {
   "cell_type": "markdown",
   "metadata": {},
   "source": [
    "# Breadth First Search (BFS)\n",
    "\n",
    "Yang Xi<br>\n",
    "01 Oct 2020\n",
    "\n",
    "<br>\n",
    "\n",
    "* Introduction\n",
    "* BFS with a Queue\n",
    "    * Algorithm\n",
    "    * Implementation\n",
    "* BFS with Recursion\n",
    "* Paths\n",
    "* References\n",
    "\n",
    "<br>\n"
   ]
  },
  {
   "cell_type": "markdown",
   "metadata": {},
   "source": [
    "## Introduction\n",
    "**Breadth First Search (BFS)** is one of the easiest algorithms for searching a graph.\n",
    "\n",
    "Given a graph `G` and a strating vertex `s`, BFS will **find all the vertices** for which there is a path from `s`.\n",
    "* Compared with Depth First Search (DFS), BFS always returns the **shortest-path first**.\n",
    "    * In formulation, BFS will find all the vertices with distance `k` from `s` before it finds any vertex with distance `k+1`\n"
   ]
  },
  {
   "cell_type": "markdown",
   "metadata": {},
   "source": [
    "## BFS with a Queue\n",
    "\n",
    "Firstly, let's **visualize BFS** is that BFS builds a tree\n",
    "* BFS will build **one level at a time**.\n",
    "* It adds all children of the starting vertex, before it discovers any grandchildren.\n",
    "* We will color code the vertex by colors:\n",
    "    * **White**: undiscovered vertex. All vertices are initialized to white.\n",
    "    * **Gray**: BFS starts to discover a vertex\n",
    "    * **Black**: BFS has completed exploring a vertex.\n",
    "        * When a vertex is black, it has no white vertices adjacent to it.\n",
    "\n",
    "We will use the Word Ladder Problem as an example:\n",
    "\n",
    "![](images/word_ladder.jpg)"
   ]
  },
  {
   "cell_type": "markdown",
   "metadata": {},
   "source": [
    "### Algorithm\n",
    "\n",
    "1. BFS begins at the starting vertex `s` and colors it gray.\n",
    "    * Initiate `distance = 0` and `predecessor = None`\n",
    "2. Place the start vertex in a queue.\n",
    "3. Pop the node at the front of the queue and set it as `currentVert`.<br>\n",
    "Exam `currentVert` by iterating over the vertices in its adjacency list `currentList`:\n",
    "    * If a vertex `nbr` is white (unexplored):\n",
    "        1. color this new vertex `nbr` gray\n",
    "        2. set predecessor of `nbr` to `currentVert`\n",
    "        3. set distance to `nbr` to `currentVert + 1`\n",
    "        4. add `nbr` to the queue.<br>\n",
    "        This effectively schedules `nbr` for further exploration, but not until all the other vertices on `currentList` have been explored.\n",
    "\n",
    "<br>\n",
    "\n",
    "In the World Ladder Problem example, after the first iteration:\n",
    "![](images/word_ladder_bfs_1.jpg)\n",
    "\n",
    "In the following iterations:\n",
    "![](images/word_ladder_bfs_2.jpg)\n",
    "![](images/word_ladder_bfs_3.jpg)\n",
    "\n",
    "Finally,\n",
    "![](images/word_ladder_bfs_4.jpg)\n",
    "\n"
   ]
  },
  {
   "cell_type": "markdown",
   "metadata": {},
   "source": [
    "### Implementation"
   ]
  },
  {
   "cell_type": "code",
   "execution_count": null,
   "metadata": {},
   "outputs": [],
   "source": [
    "def bfs(g, start):\n",
    "    start.setDistance(0)\n",
    "    start.setPred(None)\n",
    "    vertQueue = Queue()\n",
    "    vertQueue.enqueue(start)\n",
    "    \n",
    "    while (vertQueue.size() > 0):\n",
    "        currentVert = vertQueue.dequeue()\n",
    "        for nbr in currentVert.getConnections():\n",
    "            if nbr.getColor() == 'white':\n",
    "                nbr.setColor('gray')\n",
    "                nbr.setDistance(currentVert.getDistance()+1)\n",
    "                nbr.setPred(currentVert)\n",
    "                vertQueue.enqueue(nbr)\n",
    "        currentVert.setColor('black')"
   ]
  },
  {
   "cell_type": "markdown",
   "metadata": {},
   "source": [
    "## BFS with Recursion\n",
    "\n",
    "BFS is more tricky to implement in a recursive manner.\n",
    "\n",
    "Let's use the following graph as an example:"
   ]
  },
  {
   "cell_type": "code",
   "execution_count": 1,
   "metadata": {},
   "outputs": [],
   "source": [
    "graph = {'A': set(['B', 'C']),\n",
    "         'B': set(['A', 'D', 'E']),\n",
    "         'C': set(['A', 'F']),\n",
    "         'D': set(['B']),\n",
    "         'E': set(['B', 'F']),\n",
    "         'F': set(['C', 'E'])}"
   ]
  },
  {
   "cell_type": "code",
   "execution_count": 2,
   "metadata": {},
   "outputs": [
    {
     "data": {
      "text/plain": [
       "{'A', 'B', 'C', 'D', 'E', 'F'}"
      ]
     },
     "execution_count": 2,
     "metadata": {},
     "output_type": "execute_result"
    }
   ],
   "source": [
    "def bfs(graph, start):\n",
    "    visited, queue = set(), [start]\n",
    "    while queue:\n",
    "        vertex = queue.pop(0)\n",
    "        if vertex not in visited:\n",
    "            visited.add(vertex)\n",
    "            queue.extend(graph[vertex] - visited)\n",
    "    return visited\n",
    "\n",
    "bfs(graph, 'A')"
   ]
  },
  {
   "cell_type": "markdown",
   "metadata": {},
   "source": [
    "## Paths\n",
    "This implementation will return all possible paths between two vertices, the first of which being one of the shortest such path."
   ]
  },
  {
   "cell_type": "code",
   "execution_count": 3,
   "metadata": {},
   "outputs": [
    {
     "data": {
      "text/plain": [
       "[['A', 'C', 'F'], ['A', 'B', 'E', 'F']]"
      ]
     },
     "execution_count": 3,
     "metadata": {},
     "output_type": "execute_result"
    }
   ],
   "source": [
    "def bfs_paths(graph, start, goal):\n",
    "    queue = [(start, [start])]\n",
    "    while queue:\n",
    "        (vertex, path) = queue.pop(0)\n",
    "        for next in graph[vertex] - set(path):\n",
    "            if next == goal:\n",
    "                yield path + [next]\n",
    "            else:\n",
    "                queue.append((next, path + [next]))\n",
    "\n",
    "list(bfs_paths(graph, 'A', 'F'))"
   ]
  },
  {
   "cell_type": "markdown",
   "metadata": {},
   "source": [
    "If we are interested in only the shortest path (or 'None' if no path exits), we can simple break out the generator by returning the first matching path."
   ]
  },
  {
   "cell_type": "code",
   "execution_count": 4,
   "metadata": {},
   "outputs": [
    {
     "data": {
      "text/plain": [
       "['A', 'C', 'F']"
      ]
     },
     "execution_count": 4,
     "metadata": {},
     "output_type": "execute_result"
    }
   ],
   "source": [
    "def shortest_path(graph, start, goal):\n",
    "    try:\n",
    "        return next(bfs_paths(graph, start, goal))\n",
    "    except StopIteration:\n",
    "        return None\n",
    "\n",
    "shortest_path(graph, 'A', 'F')"
   ]
  },
  {
   "cell_type": "markdown",
   "metadata": {},
   "source": [
    "## References\n",
    "* [(2019 Jose) Graph Algorithms](https://www.udemy.com/course/python-for-data-structures-algorithms-and-interviews)\n",
    "* [(2013 MIT) Breadth-First Search (BFS) Vedio](https://www.youtube.com/watch?reload=9&v=s-CYnVz-uh4)\n",
    "* [Depth-and Breadth-First Search](http://jeremykun.com/2013/01/22/depth-and-breadth-first-search/)\n",
    "* [Connected component](https://en.wikipedia.org/wiki/Connected_component_(graph_theory))\n",
    "* [Adjacency matrix](https://en.wikipedia.org/wiki/Adjacency_matrix)\n",
    "* [Adjacency list](https://en.wikipedia.org/wiki/Adjacency_list)\n",
    "* [Python Gotcha: Default arguments and mutable data structures](https://developmentality.wordpress.com/2010/08/23/python-gotcha-default-arguments/)\n",
    "* [Generators](https://wiki.python.org/moin/Generators)"
   ]
  },
  {
   "cell_type": "code",
   "execution_count": null,
   "metadata": {},
   "outputs": [],
   "source": []
  }
 ],
 "metadata": {
  "kernelspec": {
   "display_name": "Python 3",
   "language": "python",
   "name": "python3"
  },
  "language_info": {
   "codemirror_mode": {
    "name": "ipython",
    "version": 3
   },
   "file_extension": ".py",
   "mimetype": "text/x-python",
   "name": "python",
   "nbconvert_exporter": "python",
   "pygments_lexer": "ipython3",
   "version": "3.7.6"
  }
 },
 "nbformat": 4,
 "nbformat_minor": 1
}
