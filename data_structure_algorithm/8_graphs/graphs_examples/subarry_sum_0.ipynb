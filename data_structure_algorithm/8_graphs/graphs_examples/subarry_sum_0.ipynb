{
 "cells": [
  {
   "cell_type": "markdown",
   "source": [
    "# Subarry with Sum 0\r\n",
    "## Problem\r\n",
    "\r\n",
    "Given an array of integers `A`, return the largest continuous subarray with sum 0. If not exist, output 0.\r\n"
   ],
   "metadata": {}
  },
  {
   "cell_type": "markdown",
   "source": [
    "## Solution\r\n",
    "\r\n",
    "Yang Xi: my solution using breath-first tree. While a more efficient solution seems to be hash table."
   ],
   "metadata": {}
  },
  {
   "cell_type": "code",
   "execution_count": 1,
   "source": [
    "def solution(A):\r\n",
    "    search_queue = []\r\n",
    "\r\n",
    "    def GetLength(A):\r\n",
    "        nonlocal search_queue\r\n",
    "        length = 0\r\n",
    "        S = sum(A)\r\n",
    "        if S==0:\r\n",
    "            return len(A)\r\n",
    "\r\n",
    "        if len(A)>1:    \r\n",
    "            search_queue.append(A[1:])\r\n",
    "            search_queue.append(A[:-1])\r\n",
    "\r\n",
    "        while len(search_queue)>0:\r\n",
    "            A_next = search_queue[0]\r\n",
    "            search_queue = search_queue[1:]\r\n",
    "            length = GetLength(A_next)\r\n",
    "            if length>0:\r\n",
    "                break\r\n",
    "        return length\r\n",
    "    \r\n",
    "    return GetLength(A)\r\n"
   ],
   "outputs": [],
   "metadata": {}
  },
  {
   "cell_type": "markdown",
   "source": [
    "## Test Cases"
   ],
   "metadata": {}
  },
  {
   "cell_type": "code",
   "execution_count": 2,
   "source": [
    "assert solution([15, -2, 2, -8, 1, 7, 10, 23]) == 5\r\n",
    "assert solution([0]) == 1\r\n",
    "assert solution([-2, 1, 2, -1]) == 4\r\n",
    "print(\"ALL TEST CASES PASSED\")"
   ],
   "outputs": [
    {
     "output_type": "stream",
     "name": "stdout",
     "text": [
      "ALL TEST CASES PASSED\n"
     ]
    }
   ],
   "metadata": {}
  }
 ],
 "metadata": {
  "kernelspec": {
   "name": "python3",
   "display_name": "Python 3.8.8 64-bit ('base': conda)"
  },
  "language_info": {
   "codemirror_mode": {
    "name": "ipython",
    "version": 3
   },
   "file_extension": ".py",
   "mimetype": "text/x-python",
   "name": "python",
   "nbconvert_exporter": "python",
   "pygments_lexer": "ipython3",
   "version": "3.8.8"
  },
  "interpreter": {
   "hash": "7b4b4feff2f24a0f0a34464dbe537a36fda679851528fb8735cb41fa49dffb2d"
  }
 },
 "nbformat": 4,
 "nbformat_minor": 4
}