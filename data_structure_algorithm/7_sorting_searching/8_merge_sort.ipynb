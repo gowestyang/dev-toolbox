{
 "cells": [
  {
   "cell_type": "markdown",
   "metadata": {},
   "source": [
    "# Merge Sort\n",
    "Yang Xi<br>\n",
    "29 Sep 2020\n",
    "\n",
    "<br>\n",
    "\n",
    "* Explaination\n",
    "* Implementation\n",
    "* References\n",
    "\n",
    "<br>\n"
   ]
  },
  {
   "cell_type": "markdown",
   "metadata": {},
   "source": [
    "##  Explaination\n",
    "\n",
    "Merge sort is a **recursive algorithm** that continually splits a list in half (**divide-and-conquer**)\n",
    "* Base case: If the list is empty or has one item, it is already sorted.\n",
    "* If the list has more than one item, we split the list and recursively invoke a merge sort on both halves.\n",
    "\n",
    "![](images/merge_sort_1.jpg)\n",
    "\n",
    "Once the two halves are sorted, a **merge** is performed, which takes two smaller sorted lists and combining them together into a single, sorted, new list.\n",
    "\n",
    "![](images/merge_sort_2.jpg)"
   ]
  },
  {
   "cell_type": "markdown",
   "metadata": {},
   "source": [
    "## Implementation"
   ]
  },
  {
   "cell_type": "code",
   "execution_count": 1,
   "metadata": {},
   "outputs": [],
   "source": [
    "def merge_sort(arr):\n",
    "    \n",
    "    if len(arr)>1:\n",
    "        mid = len(arr)//2\n",
    "        lefthalf = arr[:mid]\n",
    "        righthalf = arr[mid:]\n",
    "\n",
    "        merge_sort(lefthalf)\n",
    "        merge_sort(righthalf)\n",
    "        \n",
    "        # Let's merge!\n",
    "        i=0 # left half index\n",
    "        j=0 # right half index\n",
    "        k=0 # merged array index\n",
    "        while i < len(lefthalf) and j < len(righthalf):\n",
    "            if lefthalf[i] < righthalf[j]:\n",
    "                arr[k]=lefthalf[i]\n",
    "                i=i+1\n",
    "            else:\n",
    "                arr[k]=righthalf[j]\n",
    "                j=j+1\n",
    "            k=k+1\n",
    "\n",
    "        # join any items left in leftbhalf (if any)\n",
    "        while i < len(lefthalf):\n",
    "            arr[k]=lefthalf[i]\n",
    "            i=i+1\n",
    "            k=k+1\n",
    "\n",
    "        # join any items left in right half (if any)\n",
    "        while j < len(righthalf):\n",
    "            arr[k]=righthalf[j]\n",
    "            j=j+1\n",
    "            k=k+1\n",
    "    print(f'merging {arr}')\n"
   ]
  },
  {
   "cell_type": "code",
   "execution_count": 2,
   "metadata": {},
   "outputs": [
    {
     "name": "stdout",
     "output_type": "stream",
     "text": [
      "merging [11]\n",
      "merging [2]\n",
      "merging [2, 11]\n",
      "merging [5]\n",
      "merging [4]\n",
      "merging [4, 5]\n",
      "merging [2, 4, 5, 11]\n",
      "merging [7]\n",
      "merging [6]\n",
      "merging [6, 7]\n",
      "merging [8]\n",
      "merging [1]\n",
      "merging [23]\n",
      "merging [1, 23]\n",
      "merging [1, 8, 23]\n",
      "merging [1, 6, 7, 8, 23]\n",
      "merging [1, 2, 4, 5, 6, 7, 8, 11, 23]\n"
     ]
    },
    {
     "data": {
      "text/plain": [
       "[1, 2, 4, 5, 6, 7, 8, 11, 23]"
      ]
     },
     "execution_count": 2,
     "metadata": {},
     "output_type": "execute_result"
    }
   ],
   "source": [
    "arr = [11,2,5,4,7,6,8,1,23]\n",
    "merge_sort(arr)\n",
    "arr"
   ]
  },
  {
   "cell_type": "markdown",
   "metadata": {},
   "source": [
    "## References\n",
    "* [(2019 Jose) Searching and Sorting](https://www.udemy.com/course/python-for-data-structures-algorithms-and-interviews)\n",
    "* [Wikipedia](https://en.wikipedia.org/wiki/Merge_sort)\n",
    "* [Visual Algo](http://visualgo.net/sorting.html)\n",
    "* [Sorting Algorithms Animcation with Pseudocode](http://www.sorting-algorithms.com/merge-sort)"
   ]
  },
  {
   "cell_type": "code",
   "execution_count": null,
   "metadata": {},
   "outputs": [],
   "source": []
  }
 ],
 "metadata": {
  "kernelspec": {
   "display_name": "Python 3",
   "language": "python",
   "name": "python3"
  },
  "language_info": {
   "codemirror_mode": {
    "name": "ipython",
    "version": 3
   },
   "file_extension": ".py",
   "mimetype": "text/x-python",
   "name": "python",
   "nbconvert_exporter": "python",
   "pygments_lexer": "ipython3",
   "version": "3.7.6"
  }
 },
 "nbformat": 4,
 "nbformat_minor": 1
}
